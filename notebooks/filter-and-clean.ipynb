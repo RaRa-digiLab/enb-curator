{
 "cells": [
  {
   "cell_type": "code",
   "execution_count": 2,
   "metadata": {},
   "outputs": [],
   "source": [
    "import numpy as np\n",
    "import pandas as pd\n",
    "import matplotlib.pyplot as plt\n",
    "import seaborn as sns\n",
    "import json\n",
    "import re"
   ]
  },
  {
   "cell_type": "markdown",
   "metadata": {},
   "source": [
    "### Andmete laadimine"
   ]
  },
  {
   "cell_type": "code",
   "execution_count": 4,
   "metadata": {},
   "outputs": [],
   "source": [
    "with open(\"../config/marc_columns_to_keep.json\", \"r\", encoding=\"utf8\") as f:\n",
    "    columns = json.load(f)[\"columns\"]\n",
    "\n",
    "with open(\"../config/marc_columns_dict.json\", \"r\", encoding=\"utf8\") as f:\n",
    "    column_names = json.load(f)\n",
    "    column_names_reverse = {val: key for key, val in column_names.items()}\n",
    "    column_names_verbose = {key: f\"{key}: {val}\" for key, val in column_names.items()}"
   ]
  },
  {
   "cell_type": "code",
   "execution_count": 5,
   "metadata": {},
   "outputs": [
    {
     "name": "stderr",
     "output_type": "stream",
     "text": [
      "C:\\Users\\krister.kruusmaa\\AppData\\Local\\Temp\\ipykernel_12212\\2810970634.py:1: DtypeWarning: Columns (4,27,61,66,84,90,92,93,94,95,96,97,98,99,100,101,102,103,104,105,107,108,109,110,111,112,113,114,115) have mixed types. Specify dtype option on import or set low_memory=False.\n",
      "  df_main = pd.read_csv(\"../data/interim/erb_books.tsv\", sep=\"\\t\", encoding=\"utf8\")\n"
     ]
    }
   ],
   "source": [
    "df_main = pd.read_csv(\"../data/interim/erb_books.tsv\", sep=\"\\t\", encoding=\"utf8\")"
   ]
  },
  {
   "cell_type": "code",
   "execution_count": 6,
   "metadata": {},
   "outputs": [
    {
     "data": {
      "text/html": [
       "<div>\n",
       "<style scoped>\n",
       "    .dataframe tbody tr th:only-of-type {\n",
       "        vertical-align: middle;\n",
       "    }\n",
       "\n",
       "    .dataframe tbody tr th {\n",
       "        vertical-align: top;\n",
       "    }\n",
       "\n",
       "    .dataframe thead th {\n",
       "        text-align: right;\n",
       "    }\n",
       "</style>\n",
       "<table border=\"1\" class=\"dataframe\">\n",
       "  <thead>\n",
       "    <tr style=\"text-align: right;\">\n",
       "      <th></th>\n",
       "      <th>001</th>\n",
       "      <th>020$a</th>\n",
       "      <th>041$a</th>\n",
       "      <th>041$h</th>\n",
       "      <th>080$a</th>\n",
       "      <th>100</th>\n",
       "      <th>245$a</th>\n",
       "      <th>245$b</th>\n",
       "      <th>245$n</th>\n",
       "      <th>246$a</th>\n",
       "      <th>...</th>\n",
       "      <th>655$a</th>\n",
       "      <th>655$0</th>\n",
       "      <th>700</th>\n",
       "      <th>710$a</th>\n",
       "      <th>710$b</th>\n",
       "      <th>740$a</th>\n",
       "      <th>752$c</th>\n",
       "      <th>752$d</th>\n",
       "      <th>776$i</th>\n",
       "      <th>856$u</th>\n",
       "    </tr>\n",
       "  </thead>\n",
       "  <tbody>\n",
       "    <tr>\n",
       "      <th>0</th>\n",
       "      <td>b10500820</td>\n",
       "      <td>9789916099896</td>\n",
       "      <td>NaN</td>\n",
       "      <td>NaN</td>\n",
       "      <td>821.511.113-31</td>\n",
       "      <td>Tammsaare, A. H (1878-1940) [autor]</td>\n",
       "      <td>Tõde ja õigus</td>\n",
       "      <td>romaan</td>\n",
       "      <td>1. [kd.]</td>\n",
       "      <td>NaN</td>\n",
       "      <td>...</td>\n",
       "      <td>ilukirjandus (vormimärksõna); romaanid (vormim...</td>\n",
       "      <td>https://ems.elnet.ee/id/EMS002472; https://ems...</td>\n",
       "      <td>Eelma, Herald (1934-) [illustreerija]</td>\n",
       "      <td>NaN</td>\n",
       "      <td>NaN</td>\n",
       "      <td>NaN</td>\n",
       "      <td>NaN</td>\n",
       "      <td>NaN</td>\n",
       "      <td>NaN</td>\n",
       "      <td>http://www.digar.ee/id/nlib-digar:829637</td>\n",
       "    </tr>\n",
       "    <tr>\n",
       "      <th>1</th>\n",
       "      <td>b10258747</td>\n",
       "      <td>9186116800</td>\n",
       "      <td>NaN</td>\n",
       "      <td>NaN</td>\n",
       "      <td>94; 355.48</td>\n",
       "      <td>Laar, Mart (1960-) [autor]</td>\n",
       "      <td>Isamaa ilu hoieldes</td>\n",
       "      <td>NaN</td>\n",
       "      <td>NaN</td>\n",
       "      <td>NaN</td>\n",
       "      <td>...</td>\n",
       "      <td>NaN</td>\n",
       "      <td>NaN</td>\n",
       "      <td>NaN</td>\n",
       "      <td>NaN</td>\n",
       "      <td>NaN</td>\n",
       "      <td>NaN</td>\n",
       "      <td>NaN</td>\n",
       "      <td>NaN</td>\n",
       "      <td>NaN</td>\n",
       "      <td>NaN</td>\n",
       "    </tr>\n",
       "    <tr>\n",
       "      <th>2</th>\n",
       "      <td>b10501915</td>\n",
       "      <td>9789916015346</td>\n",
       "      <td>NaN</td>\n",
       "      <td>NaN</td>\n",
       "      <td>17.036; 141.82</td>\n",
       "      <td>Makarov, Mihhail (1922-2019) [autor]</td>\n",
       "      <td>Eesmärk ja vahendid</td>\n",
       "      <td>NaN</td>\n",
       "      <td>NaN</td>\n",
       "      <td>NaN</td>\n",
       "      <td>...</td>\n",
       "      <td>NaN</td>\n",
       "      <td>NaN</td>\n",
       "      <td>Tali, Erich (1921-1990) [kujundaja]</td>\n",
       "      <td>NaN</td>\n",
       "      <td>NaN</td>\n",
       "      <td>NaN</td>\n",
       "      <td>NaN</td>\n",
       "      <td>NaN</td>\n",
       "      <td>NaN</td>\n",
       "      <td>http://www.digar.ee/id/nlib-digar:447419</td>\n",
       "    </tr>\n",
       "    <tr>\n",
       "      <th>3</th>\n",
       "      <td>b10509884</td>\n",
       "      <td>5450023782</td>\n",
       "      <td>est</td>\n",
       "      <td>eng</td>\n",
       "      <td>821.111</td>\n",
       "      <td>Buck, Pearl S (1892-1973) [autor]</td>\n",
       "      <td>Ema</td>\n",
       "      <td>romaan</td>\n",
       "      <td>NaN</td>\n",
       "      <td>Mother</td>\n",
       "      <td>...</td>\n",
       "      <td>ilukirjandus (vormimärksõna); romaanid (vormim...</td>\n",
       "      <td>https://ems.elnet.ee/id/EMS002472; https://ems...</td>\n",
       "      <td>Hanko, August (1879-1952) [tõlkija]; Linnamägi...</td>\n",
       "      <td>NaN</td>\n",
       "      <td>NaN</td>\n",
       "      <td>NaN</td>\n",
       "      <td>NaN</td>\n",
       "      <td>NaN</td>\n",
       "      <td>NaN</td>\n",
       "      <td>NaN</td>\n",
       "    </tr>\n",
       "    <tr>\n",
       "      <th>4</th>\n",
       "      <td>b10505283</td>\n",
       "      <td>5440008519</td>\n",
       "      <td>est</td>\n",
       "      <td>NaN</td>\n",
       "      <td>581.9; 591.9; 913</td>\n",
       "      <td>NaN</td>\n",
       "      <td>Ruhnu saare loodus =</td>\n",
       "      <td>Nature of the Ruhnu island = Природа острова Р...</td>\n",
       "      <td>NaN</td>\n",
       "      <td>Nature of the Ruhnu island; Природа острова Рухну</td>\n",
       "      <td>...</td>\n",
       "      <td>artiklikogumikud (vormimärksõna)</td>\n",
       "      <td>https://ems.elnet.ee/id/EMS026849</td>\n",
       "      <td>Talvi, Tõnu (1962-) [toimetaja]</td>\n",
       "      <td>Eesti Looduseuurijate Selts</td>\n",
       "      <td>NaN</td>\n",
       "      <td>NaN</td>\n",
       "      <td>NaN</td>\n",
       "      <td>NaN</td>\n",
       "      <td>NaN</td>\n",
       "      <td>NaN</td>\n",
       "    </tr>\n",
       "  </tbody>\n",
       "</table>\n",
       "<p>5 rows × 49 columns</p>\n",
       "</div>"
      ],
      "text/plain": [
       "         001          020$a 041$a 041$h              080$a  \\\n",
       "0  b10500820  9789916099896   NaN   NaN     821.511.113-31   \n",
       "1  b10258747     9186116800   NaN   NaN         94; 355.48   \n",
       "2  b10501915  9789916015346   NaN   NaN     17.036; 141.82   \n",
       "3  b10509884     5450023782   est   eng            821.111   \n",
       "4  b10505283     5440008519   est   NaN  581.9; 591.9; 913   \n",
       "\n",
       "                                    100                 245$a  \\\n",
       "0   Tammsaare, A. H (1878-1940) [autor]         Tõde ja õigus   \n",
       "1            Laar, Mart (1960-) [autor]   Isamaa ilu hoieldes   \n",
       "2  Makarov, Mihhail (1922-2019) [autor]   Eesmärk ja vahendid   \n",
       "3     Buck, Pearl S (1892-1973) [autor]                   Ema   \n",
       "4                                   NaN  Ruhnu saare loodus =   \n",
       "\n",
       "                                               245$b     245$n  \\\n",
       "0                                             romaan  1. [kd.]   \n",
       "1                                                NaN       NaN   \n",
       "2                                                NaN       NaN   \n",
       "3                                             romaan       NaN   \n",
       "4  Nature of the Ruhnu island = Природа острова Р...       NaN   \n",
       "\n",
       "                                               246$a  ...  \\\n",
       "0                                                NaN  ...   \n",
       "1                                                NaN  ...   \n",
       "2                                                NaN  ...   \n",
       "3                                             Mother  ...   \n",
       "4  Nature of the Ruhnu island; Природа острова Рухну  ...   \n",
       "\n",
       "                                               655$a  \\\n",
       "0  ilukirjandus (vormimärksõna); romaanid (vormim...   \n",
       "1                                                NaN   \n",
       "2                                                NaN   \n",
       "3  ilukirjandus (vormimärksõna); romaanid (vormim...   \n",
       "4                   artiklikogumikud (vormimärksõna)   \n",
       "\n",
       "                                               655$0  \\\n",
       "0  https://ems.elnet.ee/id/EMS002472; https://ems...   \n",
       "1                                                NaN   \n",
       "2                                                NaN   \n",
       "3  https://ems.elnet.ee/id/EMS002472; https://ems...   \n",
       "4                  https://ems.elnet.ee/id/EMS026849   \n",
       "\n",
       "                                                 700  \\\n",
       "0              Eelma, Herald (1934-) [illustreerija]   \n",
       "1                                                NaN   \n",
       "2                Tali, Erich (1921-1990) [kujundaja]   \n",
       "3  Hanko, August (1879-1952) [tõlkija]; Linnamägi...   \n",
       "4                    Talvi, Tõnu (1962-) [toimetaja]   \n",
       "\n",
       "                         710$a 710$b 740$a 752$c 752$d 776$i  \\\n",
       "0                          NaN   NaN   NaN   NaN   NaN   NaN   \n",
       "1                          NaN   NaN   NaN   NaN   NaN   NaN   \n",
       "2                          NaN   NaN   NaN   NaN   NaN   NaN   \n",
       "3                          NaN   NaN   NaN   NaN   NaN   NaN   \n",
       "4  Eesti Looduseuurijate Selts   NaN   NaN   NaN   NaN   NaN   \n",
       "\n",
       "                                      856$u  \n",
       "0  http://www.digar.ee/id/nlib-digar:829637  \n",
       "1                                       NaN  \n",
       "2  http://www.digar.ee/id/nlib-digar:447419  \n",
       "3                                       NaN  \n",
       "4                                       NaN  \n",
       "\n",
       "[5 rows x 49 columns]"
      ]
     },
     "execution_count": 6,
     "metadata": {},
     "output_type": "execute_result"
    }
   ],
   "source": [
    "df_main = df_main[columns]\n",
    "df_main.head()"
   ]
  },
  {
   "cell_type": "markdown",
   "metadata": {},
   "source": [
    "### Abifunktsioonid"
   ]
  },
  {
   "cell_type": "code",
   "execution_count": 5,
   "metadata": {},
   "outputs": [],
   "source": [
    "def roman_to_arabic(roman):\n",
    "    # Mapping of Roman numerals to Arabic numerals\n",
    "    roman_numerals = {\n",
    "        'I': 1,\n",
    "        'V': 5,\n",
    "        'X': 10,\n",
    "        'L': 50,\n",
    "        'C': 100,\n",
    "        'D': 500,\n",
    "        'M': 1000\n",
    "    }\n",
    "    \n",
    "    # Initialize the previous value and total\n",
    "    prev_value = 0\n",
    "    total = 0\n",
    "    \n",
    "    # Reverse the Roman numeral string for left-to-right calculation\n",
    "    for char in reversed(roman):\n",
    "        value = roman_numerals[char]\n",
    "        \n",
    "        # If the current value is less than the previous one, subtract it from the total; else add it\n",
    "        if value < prev_value:\n",
    "            total -= value\n",
    "        else:\n",
    "            total += value\n",
    "        \n",
    "        # Update the previous value\n",
    "        prev_value = value\n",
    "    \n",
    "    return total"
   ]
  },
  {
   "cell_type": "code",
   "execution_count": 6,
   "metadata": {},
   "outputs": [],
   "source": [
    "def missing_values_heatmap(df, verbose=True):\n",
    "    plt.figure(figsize=(6,4))\n",
    "    df_hm = df.copy()\n",
    "    if verbose:\n",
    "        df_hm = df_hm.rename(columns=column_names_verbose)\n",
    "\n",
    "    print(\"Täidetus:\")\n",
    "    for col in df_hm.columns:\n",
    "        print(f\"{col}: {round((df_hm[col].notna().sum()/len(df_hm))*100)} %\")\n",
    "    sns.heatmap(df_hm.isna(), cbar=False, yticklabels=False, cmap='viridis')\n",
    "    plt.title(\"Puuduvad väärtused\")\n",
    "    plt.show()"
   ]
  },
  {
   "cell_type": "code",
   "execution_count": 7,
   "metadata": {},
   "outputs": [],
   "source": [
    "def regex_coverage(df, col, pattern):\n",
    "    total_entries = len(df.loc[df[col].notna()])\n",
    "    covered_values = 0\n",
    "    for entry in df.loc[df[col].notna(), col].values:\n",
    "        if re.search(pattern, entry):\n",
    "            covered_values += 1\n",
    "\n",
    "    print(f\"Regex katab {covered_values} kirjet {total_entries} kirjest\")\n",
    "    print(\"Kaetus: \", round(covered_values/total_entries*100, 2), \"%\")"
   ]
  },
  {
   "cell_type": "markdown",
   "metadata": {},
   "source": [
    "## Tulpade analüüs ja puhastamine"
   ]
  },
  {
   "cell_type": "markdown",
   "metadata": {},
   "source": [
    "### ISBN (020a)"
   ]
  },
  {
   "cell_type": "code",
   "execution_count": 167,
   "metadata": {},
   "outputs": [],
   "source": [
    "df = df_main[\"020$a\"].copy()"
   ]
  },
  {
   "cell_type": "code",
   "execution_count": 168,
   "metadata": {},
   "outputs": [
    {
     "data": {
      "text/plain": [
       "182068    9789949258321\n",
       "209246    9789916407486\n",
       "68111               NaN\n",
       "169166    9789985327104\n",
       "105311              NaN\n",
       "12600     9789916044568\n",
       "37109     9789949797523\n",
       "81684               NaN\n",
       "158828    9789985998274\n",
       "35426               NaN\n",
       "Name: 020$a, dtype: object"
      ]
     },
     "execution_count": 168,
     "metadata": {},
     "output_type": "execute_result"
    }
   ],
   "source": [
    "df.sample(10)"
   ]
  },
  {
   "cell_type": "code",
   "execution_count": 169,
   "metadata": {},
   "outputs": [
    {
     "name": "stdout",
     "output_type": "stream",
     "text": [
      "Täidetus:\n",
      "020$a: ISBN: 62 %\n"
     ]
    },
    {
     "data": {
      "image/png": "[encoded data removed]",
      "text/plain": [
       "<Figure size 600x400 with 1 Axes>"
      ]
     },
     "metadata": {},
     "output_type": "display_data"
    }
   ],
   "source": [
    "missing_values_heatmap(df.to_frame())"
   ]
  },
  {
   "cell_type": "code",
   "execution_count": 170,
   "metadata": {},
   "outputs": [],
   "source": [
    "import isbnlib"
   ]
  },
  {
   "cell_type": "code",
   "execution_count": 235,
   "metadata": {},
   "outputs": [],
   "source": [
    "### testime ISBN-ide valideerimist\n",
    "def validate_020(entry):\n",
    "    try:\n",
    "        if type(entry) == str:\n",
    "            entry_split = np.array(entry.split(\"; \"))\n",
    "            valid_isbns = []\n",
    "            for code in entry_split:\n",
    "                code = isbnlib.clean(code)\n",
    "                if isbnlib.is_isbn10(code):\n",
    "                    valid_isbns.append(code)\n",
    "                elif isbnlib.is_isbn13(code):\n",
    "                    valid_isbns.append(code)\n",
    "            return \"; \".join(valid_isbns)#.replace(\"  \", \" \")\n",
    "        else:\n",
    "            #print(entry, \"not string\")\n",
    "            return None\n",
    "    except:\n",
    "        print(f\"Could not process\", entry)"
   ]
  },
  {
   "cell_type": "code",
   "execution_count": 236,
   "metadata": {},
   "outputs": [
    {
     "data": {
      "text/html": [
       "<div>\n",
       "<style scoped>\n",
       "    .dataframe tbody tr th:only-of-type {\n",
       "        vertical-align: middle;\n",
       "    }\n",
       "\n",
       "    .dataframe tbody tr th {\n",
       "        vertical-align: top;\n",
       "    }\n",
       "\n",
       "    .dataframe thead th {\n",
       "        text-align: right;\n",
       "    }\n",
       "</style>\n",
       "<table border=\"1\" class=\"dataframe\">\n",
       "  <thead>\n",
       "    <tr style=\"text-align: right;\">\n",
       "      <th></th>\n",
       "      <th>020$a</th>\n",
       "      <th>020$a_cleaned</th>\n",
       "    </tr>\n",
       "  </thead>\n",
       "  <tbody>\n",
       "    <tr>\n",
       "      <th>183914</th>\n",
       "      <td>9789949977208</td>\n",
       "      <td>9789949977208</td>\n",
       "    </tr>\n",
       "    <tr>\n",
       "      <th>42148</th>\n",
       "      <td>&lt;NA&gt;</td>\n",
       "      <td>&lt;NA&gt;</td>\n",
       "    </tr>\n",
       "    <tr>\n",
       "      <th>172919</th>\n",
       "      <td>9789949340897</td>\n",
       "      <td>9789949340897</td>\n",
       "    </tr>\n",
       "    <tr>\n",
       "      <th>216680</th>\n",
       "      <td>9789916125588</td>\n",
       "      <td>9789916125588</td>\n",
       "    </tr>\n",
       "    <tr>\n",
       "      <th>64397</th>\n",
       "      <td>9789916584903</td>\n",
       "      <td>9789916584903</td>\n",
       "    </tr>\n",
       "    <tr>\n",
       "      <th>66891</th>\n",
       "      <td>9789916213674</td>\n",
       "      <td>9789916213674</td>\n",
       "    </tr>\n",
       "    <tr>\n",
       "      <th>22358</th>\n",
       "      <td>&lt;NA&gt;</td>\n",
       "      <td>&lt;NA&gt;</td>\n",
       "    </tr>\n",
       "    <tr>\n",
       "      <th>65551</th>\n",
       "      <td>9985591356</td>\n",
       "      <td>9985591356</td>\n",
       "    </tr>\n",
       "    <tr>\n",
       "      <th>11774</th>\n",
       "      <td>&lt;NA&gt;</td>\n",
       "      <td>&lt;NA&gt;</td>\n",
       "    </tr>\n",
       "    <tr>\n",
       "      <th>134350</th>\n",
       "      <td>9985961757; 9789985961759</td>\n",
       "      <td>9985961757; 9789985961759</td>\n",
       "    </tr>\n",
       "  </tbody>\n",
       "</table>\n",
       "</div>"
      ],
      "text/plain": [
       "                            020$a              020$a_cleaned\n",
       "183914              9789949977208              9789949977208\n",
       "42148                        <NA>                       <NA>\n",
       "172919              9789949340897              9789949340897\n",
       "216680              9789916125588              9789916125588\n",
       "64397               9789916584903              9789916584903\n",
       "66891               9789916213674              9789916213674\n",
       "22358                        <NA>                       <NA>\n",
       "65551                  9985591356                 9985591356\n",
       "11774                        <NA>                       <NA>\n",
       "134350  9985961757; 9789985961759  9985961757; 9789985961759"
      ]
     },
     "execution_count": 236,
     "metadata": {},
     "output_type": "execute_result"
    }
   ],
   "source": [
    "#df = df.to_frame()\n",
    "df[\"020$a_cleaned\"] = df[\"020$a\"].apply(validate_020)\n",
    "df = df.convert_dtypes()\n",
    "df.sample(10)"
   ]
  },
  {
   "cell_type": "code",
   "execution_count": 239,
   "metadata": {},
   "outputs": [
    {
     "name": "stdout",
     "output_type": "stream",
     "text": [
      "Kokku ISBN-iga kirjeid:  136569\n",
      "Kirjeid, kus ISBN pole (tervenisti) valiidne:  370\n",
      "Valiidsete ISBN kirjete osakaal:  99.7 %\n"
     ]
    }
   ],
   "source": [
    "print('Kokku ISBN-iga kirjeid: ', len(df.loc[df[\"020$a\"].notna()]))\n",
    "print('Kirjeid, kus ISBN pole (tervenisti) valiidne: ', len(df.loc[df[\"020$a\"] != df[\"020$a_cleaned\"]]))\n",
    "print('Valiidsete ISBN kirjete osakaal: ', round(len(df.loc[df[\"020$a\"] == df[\"020$a_cleaned\"]]) / len(df.loc[df[\"020$a\"].notna()]), 3)*100, \"%\")"
   ]
  },
  {
   "cell_type": "markdown",
   "metadata": {},
   "source": [
    "### Keel, originaalkeel ja keelemärkus (041 a, h; 546a)"
   ]
  },
  {
   "cell_type": "code",
   "execution_count": null,
   "metadata": {},
   "outputs": [],
   "source": [
    "df = df_main[[\"041$a\", \"041$h\", \"546$a\"]].copy()"
   ]
  },
  {
   "cell_type": "code",
   "execution_count": null,
   "metadata": {},
   "outputs": [
    {
     "name": "stdout",
     "output_type": "stream",
     "text": [
      "Täidetus:\n",
      "041$a: language: 38 %\n",
      "041$h: language_original: 29 %\n",
      "546$a: language_note: 10 %\n"
     ]
    },
    {
     "data": {
      "image/png": "[encoded data removed]",
      "text/plain": [
       "<Figure size 600x400 with 1 Axes>"
      ]
     },
     "metadata": {},
     "output_type": "display_data"
    }
   ],
   "source": [
    "missing_values_heatmap(df)"
   ]
  },
  {
   "cell_type": "code",
   "execution_count": null,
   "metadata": {},
   "outputs": [
    {
     "name": "stdout",
     "output_type": "stream",
     "text": [
      "Kirjeid, kus pole originaalkeelt, aga on keel: 20573\n",
      "Kirjeid, kus pole keelt, aga on originaalkeel: 0\n"
     ]
    }
   ],
   "source": [
    "### tundub, et tõlketeostel on alati kirjas mõlemad keeled, st koos originaalkeelega täidetakse keel\n",
    "print(f'Kirjeid, kus pole originaalkeelt, aga on keel: {len(df.loc[(df[\"041$a\"].notna()) & (df[\"041$h\"].isna())])}')\n",
    "print(f'Kirjeid, kus pole keelt, aga on originaalkeel: {len(df.loc[(df[\"041$a\"].isna()) & (df[\"041$h\"].notna())])}')"
   ]
  },
  {
   "cell_type": "code",
   "execution_count": null,
   "metadata": {},
   "outputs": [],
   "source": [
    "df = df_main[[\"100\", \"700\", \"245$a\", \"246$a\", \"041$a\", \"041$h\", \"546$a\"]].copy()"
   ]
  },
  {
   "cell_type": "code",
   "execution_count": null,
   "metadata": {},
   "outputs": [
    {
     "data": {
      "text/html": [
       "<div>\n",
       "<style scoped>\n",
       "    .dataframe tbody tr th:only-of-type {\n",
       "        vertical-align: middle;\n",
       "    }\n",
       "\n",
       "    .dataframe tbody tr th {\n",
       "        vertical-align: top;\n",
       "    }\n",
       "\n",
       "    .dataframe thead th {\n",
       "        text-align: right;\n",
       "    }\n",
       "</style>\n",
       "<table border=\"1\" class=\"dataframe\">\n",
       "  <thead>\n",
       "    <tr style=\"text-align: right;\">\n",
       "      <th></th>\n",
       "      <th>100</th>\n",
       "      <th>700</th>\n",
       "      <th>245$a</th>\n",
       "      <th>246$a</th>\n",
       "      <th>041$a</th>\n",
       "      <th>041$h</th>\n",
       "      <th>546$a</th>\n",
       "    </tr>\n",
       "  </thead>\n",
       "  <tbody>\n",
       "    <tr>\n",
       "      <th>591</th>\n",
       "      <td>Pütsep, Ervin (1921-1995) [autor]</td>\n",
       "      <td>Tarvel, Enn (1932-2021) [eessõna autor]</td>\n",
       "      <td>Kunstielu Eestimaal</td>\n",
       "      <td>NaN</td>\n",
       "      <td>est</td>\n",
       "      <td>NaN</td>\n",
       "      <td>Kokkuvõte inglise keeles</td>\n",
       "    </tr>\n",
       "    <tr>\n",
       "      <th>149510</th>\n",
       "      <td>NaN</td>\n",
       "      <td>NaN</td>\n",
       "      <td>Veel kõike kõigest</td>\n",
       "      <td>NaN</td>\n",
       "      <td>est</td>\n",
       "      <td>eng</td>\n",
       "      <td>NaN</td>\n",
       "    </tr>\n",
       "    <tr>\n",
       "      <th>194498</th>\n",
       "      <td>NaN</td>\n",
       "      <td>NaN</td>\n",
       "      <td>Tegevusvihik eelkooliealistele</td>\n",
       "      <td>NaN</td>\n",
       "      <td>est</td>\n",
       "      <td>rus</td>\n",
       "      <td>NaN</td>\n",
       "    </tr>\n",
       "    <tr>\n",
       "      <th>47848</th>\n",
       "      <td>NaN</td>\n",
       "      <td>Talts, Anne (1940-2020) [koostaja]; Järs, Jüri...</td>\n",
       "      <td>1982. aastaks tellitud harukondlike infoorgani...</td>\n",
       "      <td>Серии отраслевых органов информации, выписанны...</td>\n",
       "      <td>rus</td>\n",
       "      <td>NaN</td>\n",
       "      <td>Tekst eesti ja vene keeles</td>\n",
       "    </tr>\n",
       "    <tr>\n",
       "      <th>27823</th>\n",
       "      <td>Vaga, Alfred (1895-1980) [autor]</td>\n",
       "      <td>NaN</td>\n",
       "      <td>Ferdi Sannamees</td>\n",
       "      <td>F. Sannamees</td>\n",
       "      <td>est</td>\n",
       "      <td>NaN</td>\n",
       "      <td>Kokkuvõte prantsuse keeles</td>\n",
       "    </tr>\n",
       "    <tr>\n",
       "      <th>156108</th>\n",
       "      <td>Perälä, Rae [autor]</td>\n",
       "      <td>Perema, Anne [tõlkija]; Perälä, Osmo (1945-) [...</td>\n",
       "      <td>Soojuspumbad</td>\n",
       "      <td>Lämpöpumput</td>\n",
       "      <td>est</td>\n",
       "      <td>fin</td>\n",
       "      <td>NaN</td>\n",
       "    </tr>\n",
       "    <tr>\n",
       "      <th>58489</th>\n",
       "      <td>Heald, George H [autor]</td>\n",
       "      <td>Ruble, Wells A [autor]; Krikberg, Rudolf [tõlk...</td>\n",
       "      <td>Rahwahaigused</td>\n",
       "      <td>Rahvahaigused</td>\n",
       "      <td>est</td>\n",
       "      <td>eng</td>\n",
       "      <td>NaN</td>\n",
       "    </tr>\n",
       "    <tr>\n",
       "      <th>217457</th>\n",
       "      <td>Webb, Jonice [autor]</td>\n",
       "      <td>Ugur, Kadri (1966-) [tõlkija]</td>\n",
       "      <td>Üksindusest ühenduseni</td>\n",
       "      <td>NaN</td>\n",
       "      <td>est</td>\n",
       "      <td>eng</td>\n",
       "      <td>NaN</td>\n",
       "    </tr>\n",
       "    <tr>\n",
       "      <th>83670</th>\n",
       "      <td>Goethe, Johann Wolfgang von (1749-1832) [autor]</td>\n",
       "      <td>Oras, Ants (1900-1982) [tõlkija]; Oras, Ants (...</td>\n",
       "      <td>Faust</td>\n",
       "      <td>NaN</td>\n",
       "      <td>est</td>\n",
       "      <td>ger</td>\n",
       "      <td>NaN</td>\n",
       "    </tr>\n",
       "    <tr>\n",
       "      <th>139811</th>\n",
       "      <td>Enzensberger, Hans Magnus (1929-2022) [autor]</td>\n",
       "      <td>Kangro, Maarja (1973-) [tõlkija]; Kangro, Maar...</td>\n",
       "      <td>Tõmba sobimatu maha</td>\n",
       "      <td>NaN</td>\n",
       "      <td>est</td>\n",
       "      <td>ger</td>\n",
       "      <td>NaN</td>\n",
       "    </tr>\n",
       "  </tbody>\n",
       "</table>\n",
       "</div>"
      ],
      "text/plain": [
       "                                                    100  \\\n",
       "591                   Pütsep, Ervin (1921-1995) [autor]   \n",
       "149510                                              NaN   \n",
       "194498                                              NaN   \n",
       "47848                                               NaN   \n",
       "27823                  Vaga, Alfred (1895-1980) [autor]   \n",
       "156108                              Perälä, Rae [autor]   \n",
       "58489                           Heald, George H [autor]   \n",
       "217457                             Webb, Jonice [autor]   \n",
       "83670   Goethe, Johann Wolfgang von (1749-1832) [autor]   \n",
       "139811    Enzensberger, Hans Magnus (1929-2022) [autor]   \n",
       "\n",
       "                                                      700  \\\n",
       "591               Tarvel, Enn (1932-2021) [eessõna autor]   \n",
       "149510                                                NaN   \n",
       "194498                                                NaN   \n",
       "47848   Talts, Anne (1940-2020) [koostaja]; Järs, Jüri...   \n",
       "27823                                                 NaN   \n",
       "156108  Perema, Anne [tõlkija]; Perälä, Osmo (1945-) [...   \n",
       "58489   Ruble, Wells A [autor]; Krikberg, Rudolf [tõlk...   \n",
       "217457                      Ugur, Kadri (1966-) [tõlkija]   \n",
       "83670   Oras, Ants (1900-1982) [tõlkija]; Oras, Ants (...   \n",
       "139811  Kangro, Maarja (1973-) [tõlkija]; Kangro, Maar...   \n",
       "\n",
       "                                                    245$a  \\\n",
       "591                                   Kunstielu Eestimaal   \n",
       "149510                                 Veel kõike kõigest   \n",
       "194498                     Tegevusvihik eelkooliealistele   \n",
       "47848   1982. aastaks tellitud harukondlike infoorgani...   \n",
       "27823                                     Ferdi Sannamees   \n",
       "156108                                       Soojuspumbad   \n",
       "58489                                       Rahwahaigused   \n",
       "217457                             Üksindusest ühenduseni   \n",
       "83670                                               Faust   \n",
       "139811                                Tõmba sobimatu maha   \n",
       "\n",
       "                                                    246$a 041$a 041$h  \\\n",
       "591                                                   NaN   est   NaN   \n",
       "149510                                                NaN   est   eng   \n",
       "194498                                                NaN   est   rus   \n",
       "47848   Серии отраслевых органов информации, выписанны...   rus   NaN   \n",
       "27823                                        F. Sannamees   est   NaN   \n",
       "156108                                        Lämpöpumput   est   fin   \n",
       "58489                                       Rahvahaigused   est   eng   \n",
       "217457                                                NaN   est   eng   \n",
       "83670                                                 NaN   est   ger   \n",
       "139811                                                NaN   est   ger   \n",
       "\n",
       "                             546$a  \n",
       "591       Kokkuvõte inglise keeles  \n",
       "149510                         NaN  \n",
       "194498                         NaN  \n",
       "47848   Tekst eesti ja vene keeles  \n",
       "27823   Kokkuvõte prantsuse keeles  \n",
       "156108                         NaN  \n",
       "58489                          NaN  \n",
       "217457                         NaN  \n",
       "83670                          NaN  \n",
       "139811                         NaN  "
      ]
     },
     "metadata": {},
     "output_type": "display_data"
    }
   ],
   "source": [
    "df.loc[df[\"041$a\"].notna()].sample(10)"
   ]
  },
  {
   "cell_type": "code",
   "execution_count": null,
   "metadata": {},
   "outputs": [
    {
     "data": {
      "text/plain": [
       "est    7396\n",
       "rus    7001\n",
       "eng    3244\n",
       "ger    1247\n",
       "fin     409\n",
       "fre     277\n",
       "lat     268\n",
       "swe     239\n",
       "mul      97\n",
       "lav      72\n",
       "epo      37\n",
       "spa      31\n",
       "hun      28\n",
       "ita      28\n",
       "pol      17\n",
       "lit      17\n",
       "gre      15\n",
       "nor      12\n",
       "jpn      11\n",
       "vot      10\n",
       "Name: 041$a, dtype: int64"
      ]
     },
     "metadata": {},
     "output_type": "display_data"
    }
   ],
   "source": [
    "### vaatame, mis on levinumad keeled nendel kirjetel, kus on ainult keel\n",
    "df.loc[(df[\"041$a\"].notna()) & (df[\"041$h\"].isna())][\"041$a\"].value_counts()[:20]"
   ]
  },
  {
   "cell_type": "markdown",
   "metadata": {},
   "source": [
    "#### Keelemärkus (546a)"
   ]
  },
  {
   "cell_type": "code",
   "execution_count": null,
   "metadata": {},
   "outputs": [
    {
     "data": {
      "text/plain": [
       "Rööptekst vene keeles                          3014\n",
       "Kokkuvõte inglise keeles                       2360\n",
       "Rööptekst inglise keeles                       2217\n",
       "Osa teksti vene keeles                         1210\n",
       "Kokkuvõte saksa keeles                          730\n",
       "Osa teksti inglise keeles                       608\n",
       "Tekst eesti ja vene keeles                      459\n",
       "Tõlgitud vene keelest                           369\n",
       "Kokkuvõte vene keeles                           337\n",
       "Rööptekst vene ja eesti keeles                  333\n",
       "Artiklite kokkuvõtted inglise keeles            316\n",
       "Rööptekst saksa keeles                          308\n",
       "Sisukord ka vene keeles                         294\n",
       "Tekst eesti ja inglise keeles                   238\n",
       "Rööptekst inglise ja vene keeles                204\n",
       "Osa teksti saksa keeles                         187\n",
       "Kokkuvõte inglise ja vene keeles                185\n",
       "Rööpsisukord vene keeles                        156\n",
       "Rööptekst vene ja inglise keeles                153\n",
       "Kokkuvõte prantsuse keeles                      126\n",
       "Rööppealkiri ja -tekst vene ja eesti keeles     126\n",
       "Tõlge vene keelest                              119\n",
       "Kokkuvõte vene ja inglise keeles                100\n",
       "Osa teksti prantsuse keeles                      93\n",
       "Osa teksti inglise ja vene keeles                90\n",
       "Rööppealkiri ja -tekst vene keeles               88\n",
       "Artiklite kokkuvõtted vene keeles                86\n",
       "Eessõna ka inglise keeles                        84\n",
       "Kokkuvõte vene ja saksa keeles                   72\n",
       "Rööptekst inglise ja saksa keeles                71\n",
       "Name: 546$a, dtype: int64"
      ]
     },
     "metadata": {},
     "output_type": "display_data"
    }
   ],
   "source": [
    "### kas on mõtet neid kuidagi ühtlustada? nt:\n",
    "### rööptekst inglise ja vene keeles -> eng, rus [rööptekst]\n",
    "### Osa teksti prantsuse keeles -> fre [osa teksti]\n",
    "df_main[\"546$a\"].value_counts()[:30]"
   ]
  },
  {
   "cell_type": "markdown",
   "metadata": {},
   "source": [
    "### Pealkiri ja alapealkiri (245 a, b, n)"
   ]
  },
  {
   "cell_type": "code",
   "execution_count": 50,
   "metadata": {},
   "outputs": [],
   "source": [
    "### vaatame üle nende tulpade kaetuse\n",
    "\n",
    "df = df_main[[\"245$a\", \"245$b\", \"245$n\"]].copy()"
   ]
  },
  {
   "cell_type": "code",
   "execution_count": 51,
   "metadata": {},
   "outputs": [
    {
     "name": "stdout",
     "output_type": "stream",
     "text": [
      "Täidetus:\n",
      "245$a: title: 100 %\n",
      "245$b: title_remainder: 54 %\n",
      "245$n: title_part_nr: 8 %\n"
     ]
    },
    {
     "data": {
      "image/png": "[encoded data removed]",
      "text/plain": [
       "<Figure size 600x400 with 1 Axes>"
      ]
     },
     "metadata": {},
     "output_type": "display_data"
    }
   ],
   "source": [
    "missing_values_heatmap(df)"
   ]
  },
  {
   "cell_type": "code",
   "execution_count": 409,
   "metadata": {},
   "outputs": [],
   "source": [
    "### OTSUS: ühtlustada 245$n regexi abil"
   ]
  },
  {
   "cell_type": "code",
   "execution_count": 27,
   "metadata": {},
   "outputs": [],
   "source": [
    "# võtame 2000 sagedasemat väärtust\n",
    "sample_values = df[\"245$n\"].value_counts()[:2000].index"
   ]
  },
  {
   "cell_type": "code",
   "execution_count": 53,
   "metadata": {},
   "outputs": [],
   "source": [
    "# regex pattern\n",
    "pattern_245n = r\"(?:([Nn]r\\.?\\s)|Album\\s|Triloogia\\s)?(?P<n>(?P<araabia>\\d{1,2})|(?P<rooma>\\b(?=[MDCLXVI]+\\b)(M{0,4}(CM|CD|D?C{0,3})(XC|XL|L?X{0,3})(IX|IV|V?I{0,3}))\\b)|(?P<arvsna>(?P<a1>[Ee]{1,2}[sd]{1,2}i?m[eaä]n{1,2}e)|(?P<a2>[Tt][eõö]ine)|(?P<a3>[Kk]olmas)|(?P<a4>[Nn]eljas)|(?P<a5>[VWvw]i{1,2}es)|(?P<a6>[Kk]u{1,2}es)|(?P<a7>[Ss]eitsmes)|(?P<a8>[Kk]ah{1,2}eksas)|(?P<a9>[Üü]h{1,2}eksas)|(?P<a11>([Üü](ks|he)teist)|(?P<a12>[Kk]a(ks|he)teist))?(?P<a10>[Kk]ümnes))|(?P<AB>A|B))(\\.)?\\s?(?P<p>(?:\\[?)([A-zöõäü]+)(?:\\.?\\]?))?\""
   ]
  },
  {
   "cell_type": "code",
   "execution_count": 54,
   "metadata": {},
   "outputs": [
    {
     "name": "stdout",
     "output_type": "stream",
     "text": [
      "Regex katab 18029 kirjet 18088 kirjest\n",
      "Kaetus:  99.67 %\n"
     ]
    }
   ],
   "source": [
    "# katsetame kaetuse protsenti\n",
    "print(f\"Regex katab {df['245$n'].value_counts()[:2000].sum()} kirjet {len(df.loc[df['245$n'].notna()])} kirjest\")\n",
    "print(\"Kaetus: \", round((df[\"245$n\"].value_counts()[:2000].sum()/len(df.loc[df[\"245$n\"].notna()]))*100, 2), \"%\")"
   ]
  },
  {
   "cell_type": "code",
   "execution_count": 55,
   "metadata": {},
   "outputs": [
    {
     "ename": "NameError",
     "evalue": "name 'sample_values' is not defined",
     "output_type": "error",
     "traceback": [
      "\u001b[1;31m---------------------------------------------------------------------------\u001b[0m",
      "\u001b[1;31mNameError\u001b[0m                                 Traceback (most recent call last)",
      "Cell \u001b[1;32mIn[55], line 3\u001b[0m\n\u001b[0;32m      1\u001b[0m \u001b[38;5;66;03m# millised jäävad katmata?\u001b[39;00m\n\u001b[1;32m----> 3\u001b[0m \u001b[38;5;28;01mfor\u001b[39;00m entry \u001b[38;5;129;01min\u001b[39;00m \u001b[43msample_values\u001b[49m:\n\u001b[0;32m      4\u001b[0m     match \u001b[38;5;241m=\u001b[39m re\u001b[38;5;241m.\u001b[39msearch(pattern\u001b[38;5;241m=\u001b[39mpattern_245n, string\u001b[38;5;241m=\u001b[39mentry)\n\u001b[0;32m      5\u001b[0m     \u001b[38;5;28;01mif\u001b[39;00m match:\n\u001b[0;32m      6\u001b[0m         \u001b[38;5;66;03m# print(\"\\n\")\u001b[39;00m\n\u001b[0;32m      7\u001b[0m         \u001b[38;5;66;03m# print(entry)\u001b[39;00m\n\u001b[0;32m      8\u001b[0m         \u001b[38;5;66;03m# print(match.groupdict())\u001b[39;00m\n",
      "\u001b[1;31mNameError\u001b[0m: name 'sample_values' is not defined"
     ]
    }
   ],
   "source": [
    "# millised jäävad katmata?\n",
    "\n",
    "for entry in sample_values:\n",
    "    match = re.search(pattern=pattern_245n, string=entry)\n",
    "    if match:\n",
    "        # print(\"\\n\")\n",
    "        # print(entry)\n",
    "        # print(match.groupdict())\n",
    "        pass\n",
    "    else:\n",
    "        print(entry)"
   ]
  },
  {
   "cell_type": "code",
   "execution_count": 56,
   "metadata": {},
   "outputs": [],
   "source": [
    "def clean_245n(entry: str, pattern=pattern_245n):\n",
    "    \n",
    "    if type(entry) == str:\n",
    "        match = re.search(pattern, entry)\n",
    "        if match:\n",
    "            groups = match.groupdict()\n",
    "            n = None\n",
    "            p = None\n",
    "\n",
    "            if groups[\"n\"]:\n",
    "                if groups[\"araabia\"]:\n",
    "                    n = groups[\"araabia\"]\n",
    "                elif groups[\"rooma\"]:\n",
    "                    n = str(roman_to_arabic(groups[\"rooma\"]))\n",
    "                elif groups[\"arvsna\"]:\n",
    "                    for key, val in groups.items():\n",
    "                        if re.search(\"a\\d{1,2}\", key):\n",
    "                            if val is not None:\n",
    "                                n = key.lstrip(\"a\")\n",
    "                                break\n",
    "                elif groups[\"AB\"]:\n",
    "                    if groups[\"AB\"] == \"A\":\n",
    "                        n = \"1\"\n",
    "                    elif groups[\"AB\"] == \"B\":\n",
    "                        n = \"2\"\n",
    "                    \n",
    "            if groups[\"p\"]:\n",
    "                p = f\" [{groups['p'].lstrip('[').strip(']')}]\"\n",
    "            else:\n",
    "                p = ''\n",
    "\n",
    "            #print(groups)\n",
    "            return n+p"
   ]
  },
  {
   "cell_type": "code",
   "execution_count": 70,
   "metadata": {},
   "outputs": [
    {
     "name": "stdout",
     "output_type": "stream",
     "text": [
      "1. vihik \t-\t 1 [vihik]\n"
     ]
    }
   ],
   "source": [
    "# näited\n",
    "sample = df[\"245$n\"].loc[df[\"245$n\"].notna()].sample().values[0]\n",
    "print(sample, \"\\t-\\t\", clean_245n(sample, pattern_245n))"
   ]
  },
  {
   "cell_type": "markdown",
   "metadata": {},
   "source": [
    "**TODO**: 1-3, III-IV jne, I ja II, 3 ja 4"
   ]
  },
  {
   "cell_type": "markdown",
   "metadata": {},
   "source": [
    "### Koht, aeg, kirjastus dubleerimise kaotamine (260 a, b, c vs 264 a, b c)\n",
    "\n",
    "**Probleem**: mingil hetkel 2022. aasta jooksul hakati 260 asemel kasutama 264."
   ]
  },
  {
   "cell_type": "code",
   "execution_count": 71,
   "metadata": {},
   "outputs": [],
   "source": [
    "df = df_main[[\"260$a\", \"260$b\", \"260$c\", \"264$a\", \"264$b\", \"264$c\"]].copy()"
   ]
  },
  {
   "cell_type": "code",
   "execution_count": 72,
   "metadata": {},
   "outputs": [
    {
     "name": "stdout",
     "output_type": "stream",
     "text": [
      "Täidetus:\n",
      "260$a: publication_place: 96 %\n",
      "260$b: publisher: 95 %\n",
      "260$c: publication_date: 96 %\n",
      "264$a: production_publication_distribution_place: 4 %\n",
      "264$b: producer_publisher_distributer_name: 4 %\n",
      "264$c: production_publication_distribution_date: 4 %\n"
     ]
    },
    {
     "data": {
      "image/png": "[encoded data removed]",
      "text/plain": [
       "<Figure size 600x400 with 1 Axes>"
      ]
     },
     "metadata": {},
     "output_type": "display_data"
    }
   ],
   "source": [
    "missing_values_heatmap(df)"
   ]
  },
  {
   "cell_type": "code",
   "execution_count": 73,
   "metadata": {},
   "outputs": [
    {
     "name": "stdout",
     "output_type": "stream",
     "text": [
      "260 a topeltkirjete arv: 0\n",
      "260 b topeltkirjete arv: 0\n",
      "260 c topeltkirjete arv: 0\n"
     ]
    }
   ],
   "source": [
    "### igaks juhuks topelkontroll, ega pole kirjeid, kus on täidetud nii 260 kui 264\n",
    "\n",
    "for sub in [\"a\", \"b\", \"c\"]:\n",
    "    rows_with_values_in_both_columns = df[df[f'260${sub}'].notna() & df[f'264${sub}'].notna()]\n",
    "    print(\"260\", sub, \"topeltkirjete arv:\", len(rows_with_values_in_both_columns))"
   ]
  },
  {
   "cell_type": "code",
   "execution_count": 74,
   "metadata": {},
   "outputs": [],
   "source": [
    "### kuna väärtus on alati kas ainult 260 või 264 peal, siis jääb üle need lihtsalt kokku tõsta. Jätame alles väljad 260 ja täiendame neid väljadega 264\n",
    "def add_260abc_264abc(df):\n",
    "    for sub in [\"a\", \"b\", \"c\"]:\n",
    "        df[f\"260${sub}\"] = df[f\"260${sub}\"].fillna(df[f\"264${sub}\"])\n",
    "\n",
    "add_260abc_264abc(df)"
   ]
  },
  {
   "cell_type": "markdown",
   "metadata": {},
   "source": [
    "### Aastaarvude puhastamine (260c)"
   ]
  },
  {
   "cell_type": "code",
   "execution_count": 78,
   "metadata": {},
   "outputs": [
    {
     "name": "stdout",
     "output_type": "stream",
     "text": [
      "c2002\n",
      "c2020\n",
      "c2016\n",
      "c2009\n",
      "c2003\n",
      "c2013\n",
      "193-?\n",
      "c2010\n",
      "c2008\n",
      "c2016\n"
     ]
    }
   ],
   "source": [
    "# peab tegelema sellist sorti eranditega\n",
    "yr = df[\"260$c\"].copy()\n",
    "yr = yr[yr.notna()]\n",
    "for i in yr[~yr.str.contains(r\"^\\d{4}$\", na=False)].sample(10):\n",
    "    print(i)"
   ]
  },
  {
   "cell_type": "code",
   "execution_count": 79,
   "metadata": {},
   "outputs": [],
   "source": [
    "pattern_260c = re.compile(r\"(?:c|(?P<copyright>©)|tsens(eeritud|\\.)\\s*)?((?P<year>\\d{4})(?:\\.0)?(?:\\?)?|(?P<decade>\\d{3}-\\?)|(?P<century>\\d{2}--\\?))\")"
   ]
  },
  {
   "cell_type": "code",
   "execution_count": 80,
   "metadata": {},
   "outputs": [],
   "source": [
    "def clean_260c(entry, pattern=pattern_260c, min_year=1500, max_year=2024):\n",
    "    \"\"\"Funktsioon võtab sisse välja 260$c ehk ilmumisaasta kirje ning tagastab aasta ning kümnendi arvulisel kujul.\"\"\"\n",
    "    output_year = None\n",
    "    output_decade = None\n",
    "    # output_century = None\n",
    "\n",
    "    if type(entry) != str:\n",
    "        entry = str(entry)\n",
    "\n",
    "    # 2022; 2022    \n",
    "    if \";\" in entry:\n",
    "        entry_split = entry.split(\"; \")\n",
    "        years = []\n",
    "        for part in entry_split:\n",
    "            match = re.search(pattern, part)\n",
    "            if match:\n",
    "                part_year = match.groupdict()[\"year\"]\n",
    "                if part_year is not None:\n",
    "                    if part_year not in years:\n",
    "                        if match.groupdict()[\"copyright\"] is None:\n",
    "                            years.append(part_year)\n",
    "                        else:\n",
    "                            if len(years) == 0:\n",
    "                                years.append(part_year)\n",
    "\n",
    "        if len(years) == 1:\n",
    "            output_year = int(years[0])\n",
    "        else:\n",
    "            output_year = min([int(y) for y in years])\n",
    "\n",
    "    else:\n",
    "        match = re.search(pattern, entry)\n",
    "        if match:\n",
    "            groups = match.groupdict()\n",
    "            # 2022\n",
    "            if groups[\"year\"] is not None:\n",
    "                output_year = int(groups[\"year\"])\n",
    "            # 196-?\n",
    "            elif groups[\"decade\"] is not None:\n",
    "                output_decade = int(groups[\"decade\"].strip(\"?\").replace(\"-\", \"0\"))\n",
    "            # 18--?\n",
    "            # elif groups[\"century\"] is not None:\n",
    "            #     output_century = int(groups[\"century\"].strip(\"?\").replace(\"-\", \"0\"))\n",
    "\n",
    "    if output_year:\n",
    "        if output_year in range(min_year, max_year+1):\n",
    "            output_decade = output_year // 10 * 10\n",
    "            # output_century = output_year // 100 * 100\n",
    "        else:\n",
    "            output_year = None\n",
    "\n",
    "    # elif output_decade:\n",
    "    #     output_century = output_decade // 10 * 10\n",
    "\n",
    "    return (output_year, output_decade)\n"
   ]
  },
  {
   "cell_type": "code",
   "execution_count": 81,
   "metadata": {},
   "outputs": [],
   "source": [
    "df[[\"260$c_cleaned\", \"decade\"]] = df[\"260$c\"].apply(clean_260c).to_list()\n",
    "df = df.convert_dtypes()"
   ]
  },
  {
   "cell_type": "code",
   "execution_count": 94,
   "metadata": {},
   "outputs": [
    {
     "data": {
      "text/html": [
       "<div>\n",
       "<style scoped>\n",
       "    .dataframe tbody tr th:only-of-type {\n",
       "        vertical-align: middle;\n",
       "    }\n",
       "\n",
       "    .dataframe tbody tr th {\n",
       "        vertical-align: top;\n",
       "    }\n",
       "\n",
       "    .dataframe thead th {\n",
       "        text-align: right;\n",
       "    }\n",
       "</style>\n",
       "<table border=\"1\" class=\"dataframe\">\n",
       "  <thead>\n",
       "    <tr style=\"text-align: right;\">\n",
       "      <th></th>\n",
       "      <th>260$c</th>\n",
       "      <th>260$c_cleaned</th>\n",
       "      <th>decade</th>\n",
       "    </tr>\n",
       "  </thead>\n",
       "  <tbody>\n",
       "    <tr>\n",
       "      <th>68137</th>\n",
       "      <td>1969</td>\n",
       "      <td>1969</td>\n",
       "      <td>1960</td>\n",
       "    </tr>\n",
       "    <tr>\n",
       "      <th>140902</th>\n",
       "      <td>1928</td>\n",
       "      <td>1928</td>\n",
       "      <td>1920</td>\n",
       "    </tr>\n",
       "    <tr>\n",
       "      <th>168943</th>\n",
       "      <td>c2013</td>\n",
       "      <td>2013</td>\n",
       "      <td>2010</td>\n",
       "    </tr>\n",
       "    <tr>\n",
       "      <th>147390</th>\n",
       "      <td>192-?</td>\n",
       "      <td>&lt;NA&gt;</td>\n",
       "      <td>1920</td>\n",
       "    </tr>\n",
       "    <tr>\n",
       "      <th>166717</th>\n",
       "      <td>2012</td>\n",
       "      <td>2012</td>\n",
       "      <td>2010</td>\n",
       "    </tr>\n",
       "    <tr>\n",
       "      <th>111311</th>\n",
       "      <td>2002</td>\n",
       "      <td>2002</td>\n",
       "      <td>2000</td>\n",
       "    </tr>\n",
       "    <tr>\n",
       "      <th>110622</th>\n",
       "      <td>1861</td>\n",
       "      <td>1861</td>\n",
       "      <td>1860</td>\n",
       "    </tr>\n",
       "    <tr>\n",
       "      <th>212117</th>\n",
       "      <td>2022; ©2022</td>\n",
       "      <td>2022</td>\n",
       "      <td>2020</td>\n",
       "    </tr>\n",
       "    <tr>\n",
       "      <th>118826</th>\n",
       "      <td>1998?</td>\n",
       "      <td>1998</td>\n",
       "      <td>1990</td>\n",
       "    </tr>\n",
       "    <tr>\n",
       "      <th>142742</th>\n",
       "      <td>1936</td>\n",
       "      <td>1936</td>\n",
       "      <td>1930</td>\n",
       "    </tr>\n",
       "  </tbody>\n",
       "</table>\n",
       "</div>"
      ],
      "text/plain": [
       "              260$c  260$c_cleaned  decade\n",
       "68137          1969           1969    1960\n",
       "140902         1928           1928    1920\n",
       "168943        c2013           2013    2010\n",
       "147390        192-?           <NA>    1920\n",
       "166717         2012           2012    2010\n",
       "111311         2002           2002    2000\n",
       "110622         1861           1861    1860\n",
       "212117  2022; ©2022           2022    2020\n",
       "118826        1998?           1998    1990\n",
       "142742         1936           1936    1930"
      ]
     },
     "execution_count": 94,
     "metadata": {},
     "output_type": "execute_result"
    }
   ],
   "source": [
    "df[[\"260$c\", \"260$c_cleaned\", \"decade\"]].sample(10)"
   ]
  },
  {
   "cell_type": "code",
   "execution_count": 872,
   "metadata": {},
   "outputs": [
    {
     "name": "stdout",
     "output_type": "stream",
     "text": [
      "c2018 \t\t (2018, 2010)\n",
      "c2007 \t\t (2007, 2000)\n",
      "c2003 \t\t (2003, 2000)\n",
      "c2005 \t\t (2005, 2000)\n",
      "c2002 \t\t (2002, 2000)\n",
      "c2017 \t\t (2017, 2010)\n",
      "c2017 \t\t (2017, 2010)\n",
      "c2011 \t\t (2011, 2010)\n",
      "c2020 \t\t (2020, 2020)\n",
      "c2013 \t\t (2013, 2010)\n"
     ]
    }
   ],
   "source": [
    "# ebastandardsemaid näiteid\n",
    "sample = yr[~yr.str.contains(r\"^\\d{4}$\", na=False)].sample(10)\n",
    "cleaned_sample = sample.apply(clean_260c)\n",
    "\n",
    "for s, c in zip(sample, cleaned_sample):\n",
    "    print(s, \"\\t\\t\", c)"
   ]
  },
  {
   "cell_type": "code",
   "execution_count": 871,
   "metadata": {},
   "outputs": [
    {
     "name": "stdout",
     "output_type": "stream",
     "text": [
      "19--? \t\t (None, None)\n",
      "19--? \t\t (None, None)\n",
      "19--? \t\t (None, None)\n",
      "19--? \t\t (None, None)\n",
      "18--? \t\t (None, None)\n",
      "19--? \t\t (None, None)\n",
      "J. Felsberg ja A. Tetermann \t\t (None, None)\n",
      "J. F. Steffenhagen und Sohn \t\t (None, None)\n",
      "19--? \t\t (None, None)\n",
      "19--? \t\t (None, None)\n",
      "19--? \t\t (None, None)\n",
      "18--? \t\t (None, None)\n",
      "19--? \t\t (None, None)\n",
      "18--? \t\t (None, None)\n",
      "19--? \t\t (None, None)\n",
      "19--? \t\t (None, None)\n",
      "1291 [p.o. 1921] \t\t (None, None)\n",
      "1291 [p.o. 1921] \t\t (None, None)\n",
      "19--? \t\t (None, None)\n",
      "19--? \t\t (None, None)\n",
      "19--? \t\t (None, None)\n",
      "19--? \t\t (None, None)\n",
      "19--? \t\t (None, None)\n",
      "19--? \t\t (None, None)\n",
      "19--? \t\t (None, None)\n",
      "19--? \t\t (None, None)\n",
      "Tallinn \t\t (None, None)\n",
      "19--? \t\t (None, None)\n",
      "19--? \t\t (None, None)\n",
      "19--? \t\t (None, None)\n",
      "19--? \t\t (None, None)\n",
      "19--? \t\t (None, None)\n",
      "19--? \t\t (None, None)\n",
      "19--? \t\t (None, None)\n",
      "19--? \t\t (None, None)\n",
      "19--? \t\t (None, None)\n",
      "19--? \t\t (None, None)\n",
      "19--? \t\t (None, None)\n",
      "19--? \t\t (None, None)\n",
      "19--? \t\t (None, None)\n",
      "[19--?] ( \t\t (None, None)\n",
      "19--? \t\t (None, None)\n",
      "19--? \t\t (None, None)\n",
      "19--? \t\t (None, None)\n",
      "19--?, peale 1905 \t\t (None, None)\n",
      "19--? \t\t (None, None)\n",
      "19--? \t\t (None, None)\n",
      "19--? \t\t (None, None)\n",
      "s.a. \t\t (None, None)\n",
      "19--? \t\t (None, None)\n",
      "19--? \t\t (None, None)\n",
      "19--? \t\t (None, None)\n",
      "19--? \t\t (None, None)\n",
      "19--? \t\t (None, None)\n",
      "19--? \t\t (None, None)\n",
      "19--? \t\t (None, None)\n",
      "19--? \t\t (None, None)\n",
      "19--? \t\t (None, None)\n",
      "19--? \t\t (None, None)\n",
      "19--? \t\t (None, None)\n",
      "19--? \t\t (None, None)\n",
      "19--? \t\t (None, None)\n",
      "19--? \t\t (None, None)\n",
      "19--? \t\t (None, None)\n",
      "19--? \t\t (None, None)\n",
      "19--? \t\t (None, None)\n",
      "19--? \t\t (None, None)\n",
      "19--? \t\t (None, None)\n",
      "19--? \t\t (None, None)\n",
      "19--? \t\t (None, None)\n",
      "19--? \t\t (None, None)\n",
      "19--? \t\t (None, None)\n",
      "19--? \t\t (None, None)\n",
      "19--? \t\t (None, None)\n",
      "[19--?] ( \t\t (None, None)\n",
      "19--? \t\t (None, None)\n",
      "19--? \t\t (None, None)\n",
      "19--? \t\t (None, None)\n",
      "19--? \t\t (None, None)\n",
      "nan \t\t (None, None)\n",
      "19--? \t\t (None, None)\n",
      "19--? \t\t (None, None)\n",
      "19--? \t\t (None, None)\n",
      "19--? \t\t (None, None)\n",
      "19--? \t\t (None, None)\n",
      "19--? \t\t (None, None)\n",
      "19--? \t\t (None, None)\n",
      "19--? \t\t (None, None)\n",
      "19--? \t\t (None, None)\n",
      "19--? \t\t (None, None)\n",
      "19--? \t\t (None, None)\n",
      "19--? \t\t (None, None)\n",
      "19--? \t\t (None, None)\n",
      "19--? \t\t (None, None)\n",
      "19--? \t\t (None, None)\n",
      "19--? \t\t (None, None)\n",
      "19--? \t\t (None, None)\n",
      "19--? \t\t (None, None)\n",
      "nan \t\t (None, None)\n",
      "19--? \t\t (None, None)\n",
      "Tallinn \t\t (None, None)\n",
      "19--? \t\t (None, None)\n",
      "19--? \t\t (None, None)\n",
      "18--? \t\t (None, None)\n",
      "19--? \t\t (None, None)\n",
      "18--? \t\t (None, None)\n",
      "19--? \t\t (None, None)\n",
      "19--? \t\t (None, None)\n",
      "19--? \t\t (None, None)\n",
      "19--? \t\t (None, None)\n",
      "18--? \t\t (None, None)\n",
      "18--? \t\t (None, None)\n",
      "19--? \t\t (None, None)\n",
      "19--? \t\t (None, None)\n",
      "1---? \t\t (None, None)\n",
      "19--? \t\t (None, None)\n",
      "19--? \t\t (None, None)\n",
      "18--? \t\t (None, None)\n",
      "189...? \t\t (None, None)\n",
      "18--? \t\t (None, None)\n",
      "19--? \t\t (None, None)\n",
      "18--? \t\t (None, None)\n",
      "18--? \t\t (None, None)\n",
      "19--? \t\t (None, None)\n",
      "19--? \t\t (None, None)\n",
      "19--? \t\t (None, None)\n",
      "19--? \t\t (None, None)\n",
      "19--? \t\t (None, None)\n",
      "19--? \t\t (None, None)\n",
      "19--? \t\t (None, None)\n",
      "19--? \t\t (None, None)\n",
      "19--? \t\t (None, None)\n",
      "19--? \t\t (None, None)\n",
      "19--? \t\t (None, None)\n",
      "19--? \t\t (None, None)\n",
      "18--? \t\t (None, None)\n",
      "19-- \t\t (None, None)\n",
      "19--? \t\t (None, None)\n",
      "19-- \t\t (None, None)\n",
      "19--? \t\t (None, None)\n",
      "19--? \t\t (None, None)\n",
      "Västra Aros \t\t (None, None)\n",
      "[19--?] ( \t\t (None, None)\n",
      "19--? \t\t (None, None)\n",
      "19--? \t\t (None, None)\n",
      "19--? \t\t (None, None)\n",
      "19--? \t\t (None, None)\n",
      "17--? \t\t (None, None)\n",
      "18--? \t\t (None, None)\n",
      "19--? \t\t (None, None)\n",
      "nan \t\t (None, None)\n",
      "Venemaa \t\t (None, None)\n",
      "Tšehhi \t\t (None, None)\n",
      "20--? \t\t (None, None)\n",
      "19--? \t\t (None, None)\n",
      "19--? \t\t (None, None)\n",
      "Slovakkia \t\t (None, None)\n",
      "19--? \t\t (None, None)\n",
      "Läti \t\t (None, None)\n",
      "Läti \t\t (None, None)\n",
      "19--? \t\t (None, None)\n",
      "Läti \t\t (None, None)\n",
      "19--? \t\t (None, None)\n",
      "200? \t\t (None, None)\n",
      "20--? \t\t (None, None)\n",
      "2564 \t\t (None, None)\n",
      "19--? \t\t (None, None)\n",
      "19--? \t\t (None, None)\n",
      "Tallinn \t\t (None, None)\n",
      "20--? \t\t (None, None)\n",
      "2565 (2022) \t\t (None, None)\n",
      "19--? \t\t (None, None)\n",
      "190--? \t\t (None, None)\n",
      "19--? \t\t (None, None)\n",
      "19--? \t\t (None, None)\n",
      "MMXXII \t\t (None, None)\n",
      "nan \t\t (None, None)\n",
      "19--? \t\t (None, None)\n",
      "19--? \t\t (None, None)\n",
      "20--? \t\t (None, None)\n"
     ]
    }
   ],
   "source": [
    "# millised jäävad katmata?\n",
    "for val in df[\"260$c\"].values:\n",
    "    val_cleaned = clean_260c(val)\n",
    "    if val_cleaned == (None, None):\n",
    "        if val is not None:\n",
    "            print(val, \"\\t\\t\", val_cleaned)\n",
    "# nagu näha, siis need, mis on vaid sajandi täpsusega (19--?), ja vigased kanded"
   ]
  },
  {
   "cell_type": "markdown",
   "metadata": {},
   "source": [
    "### 3. Füüsilised omadused (300 a, b, c)"
   ]
  },
  {
   "cell_type": "code",
   "execution_count": 95,
   "metadata": {},
   "outputs": [],
   "source": [
    "df = df_main[[\"300$a\", \"300$b\", \"300$c\"]].copy()"
   ]
  },
  {
   "cell_type": "code",
   "execution_count": 96,
   "metadata": {},
   "outputs": [
    {
     "name": "stdout",
     "output_type": "stream",
     "text": [
      "Täidetus:\n",
      "300$a: physical_extent: 99 %\n",
      "300$b: physical_details: 53 %\n",
      "300$c: physical_dimensions: 90 %\n"
     ]
    },
    {
     "data": {
      "image/png": "[encoded data removed]",
      "text/plain": [
       "<Figure size 600x400 with 1 Axes>"
      ]
     },
     "metadata": {},
     "output_type": "display_data"
    }
   ],
   "source": [
    "missing_values_heatmap(df)"
   ]
  },
  {
   "cell_type": "code",
   "execution_count": 407,
   "metadata": {},
   "outputs": [],
   "source": [
    "### kuna tegu on väga hästi täidetud tulpadega, võiks need regexiga ära puhastada ja vajadusel eraldi tulpadeks lahku lüüa"
   ]
  },
  {
   "cell_type": "markdown",
   "metadata": {},
   "source": [
    "#### 300$a"
   ]
  },
  {
   "cell_type": "code",
   "execution_count": 97,
   "metadata": {},
   "outputs": [
    {
     "data": {
      "text/plain": [
       "1 võrguväljaanne (epub)    5165\n",
       "16 lk                      3010\n",
       "32 lk                      2621\n",
       "1 võrguressurss (epub)     2349\n",
       "1 e-raamat                 2254\n",
       "64 lk                      1947\n",
       "24 lk                      1829\n",
       "48 lk                      1795\n",
       "8 lk                       1491\n",
       "96 lk                      1447\n",
       "Name: 300$a, dtype: int64"
      ]
     },
     "execution_count": 97,
     "metadata": {},
     "output_type": "execute_result"
    }
   ],
   "source": [
    "### teeme sellest tulbast konkreetselt lehekülgede arvu tulba, st võtame välja lk arvu seal, kus võimalik. e-raamatud ja võrguväljaanded jätame hetkel kõrvale.\n",
    "df[\"300$a\"].value_counts()[:10]"
   ]
  },
  {
   "cell_type": "code",
   "execution_count": 98,
   "metadata": {},
   "outputs": [],
   "source": [
    "pattern_300a = re.compile(r\"(?P<arv>\\[?\\d{1,4}\\]?),?(\\s*)?(?P<sulud>\\[\\d+\\])?\\s+(?P<uhik>lk|l\\b|(nummerdamata\\s)?lehekülge|voldik|CD-ROM|(võrgu(väljaanne|ressurss)|e-raamat))\")"
   ]
  },
  {
   "cell_type": "code",
   "execution_count": 99,
   "metadata": {},
   "outputs": [
    {
     "name": "stdout",
     "output_type": "stream",
     "text": [
      "Regex katab 214366 kirjet 216836 kirjest\n",
      "Kaetus:  98.86 %\n"
     ]
    }
   ],
   "source": [
    "# testime kaetust\n",
    "regex_coverage(df, \"300$a\", pattern_300a)"
   ]
  },
  {
   "cell_type": "code",
   "execution_count": 100,
   "metadata": {},
   "outputs": [
    {
     "name": "stdout",
     "output_type": "stream",
     "text": [
      "\n",
      "\n",
      "1 võrguväljaanne (epub)\n",
      "{'arv': '1', 'sulud': None, 'uhik': 'võrguväljaanne'}\n",
      "\n",
      "\n",
      "16 lk\n",
      "{'arv': '16', 'sulud': None, 'uhik': 'lk'}\n",
      "\n",
      "\n",
      "32 lk\n",
      "{'arv': '32', 'sulud': None, 'uhik': 'lk'}\n",
      "\n",
      "\n",
      "1 võrguressurss (epub)\n",
      "{'arv': '1', 'sulud': None, 'uhik': 'võrguressurss'}\n",
      "\n",
      "\n",
      "1 e-raamat\n",
      "{'arv': '1', 'sulud': None, 'uhik': 'e-raamat'}\n",
      "\n",
      "\n",
      "64 lk\n",
      "{'arv': '64', 'sulud': None, 'uhik': 'lk'}\n",
      "\n",
      "\n",
      "24 lk\n",
      "{'arv': '24', 'sulud': None, 'uhik': 'lk'}\n",
      "\n",
      "\n",
      "48 lk\n",
      "{'arv': '48', 'sulud': None, 'uhik': 'lk'}\n",
      "\n",
      "\n",
      "8 lk\n",
      "{'arv': '8', 'sulud': None, 'uhik': 'lk'}\n",
      "\n",
      "\n",
      "96 lk\n",
      "{'arv': '96', 'sulud': None, 'uhik': 'lk'}\n",
      "\n",
      "\n",
      "20 lk\n",
      "{'arv': '20', 'sulud': None, 'uhik': 'lk'}\n",
      "\n",
      "\n",
      "40 lk\n",
      "{'arv': '40', 'sulud': None, 'uhik': 'lk'}\n",
      "\n",
      "\n",
      "80 lk\n",
      "{'arv': '80', 'sulud': None, 'uhik': 'lk'}\n",
      "\n",
      "\n",
      "15 lk\n",
      "{'arv': '15', 'sulud': None, 'uhik': 'lk'}\n",
      "\n",
      "\n",
      "56 lk\n",
      "{'arv': '56', 'sulud': None, 'uhik': 'lk'}\n",
      "\n",
      "\n",
      "12 lk\n",
      "{'arv': '12', 'sulud': None, 'uhik': 'lk'}\n",
      "\n",
      "\n",
      "1 võrguväljaanne (pdf)\n",
      "{'arv': '1', 'sulud': None, 'uhik': 'võrguväljaanne'}\n",
      "\n",
      "\n",
      "15, [1] lk\n",
      "{'arv': '15', 'sulud': '[1]', 'uhik': 'lk'}\n",
      "\n",
      "\n",
      "72 lk\n",
      "{'arv': '72', 'sulud': None, 'uhik': 'lk'}\n",
      "\n",
      "\n",
      "36 lk\n",
      "{'arv': '36', 'sulud': None, 'uhik': 'lk'}\n",
      "\n",
      "\n",
      "128 lk\n",
      "{'arv': '128', 'sulud': None, 'uhik': 'lk'}\n",
      "\n",
      "\n",
      "31 lk\n",
      "{'arv': '31', 'sulud': None, 'uhik': 'lk'}\n",
      "\n",
      "\n",
      "7, [1] lk\n",
      "{'arv': '7', 'sulud': '[1]', 'uhik': 'lk'}\n",
      "\n",
      "\n",
      "28 lk\n",
      "{'arv': '28', 'sulud': None, 'uhik': 'lk'}\n",
      "\n",
      "\n",
      "31, [1] lk\n",
      "{'arv': '31', 'sulud': '[1]', 'uhik': 'lk'}\n",
      "\n",
      "\n",
      "112 lk\n",
      "{'arv': '112', 'sulud': None, 'uhik': 'lk'}\n",
      "\n",
      "\n",
      "47, [1] lk\n",
      "{'arv': '47', 'sulud': '[1]', 'uhik': 'lk'}\n",
      "\n",
      "\n",
      "160 lk\n",
      "{'arv': '160', 'sulud': None, 'uhik': 'lk'}\n",
      "\n",
      "\n",
      "63, [1] lk\n",
      "{'arv': '63', 'sulud': '[1]', 'uhik': 'lk'}\n",
      "\n",
      "\n",
      "144 lk\n",
      "{'arv': '144', 'sulud': None, 'uhik': 'lk'}\n",
      "\n",
      "\n",
      "52 lk\n",
      "{'arv': '52', 'sulud': None, 'uhik': 'lk'}\n",
      "\n",
      "\n",
      "44 lk\n",
      "{'arv': '44', 'sulud': None, 'uhik': 'lk'}\n",
      "\n",
      "\n",
      "23 lk\n",
      "{'arv': '23', 'sulud': None, 'uhik': 'lk'}\n",
      "\n",
      "\n",
      "88 lk\n",
      "{'arv': '88', 'sulud': None, 'uhik': 'lk'}\n",
      "\n",
      "\n",
      "63 lk\n",
      "{'arv': '63', 'sulud': None, 'uhik': 'lk'}\n",
      "\n",
      "\n",
      "47 lk\n",
      "{'arv': '47', 'sulud': None, 'uhik': 'lk'}\n",
      "\n",
      "\n",
      "[16] lk\n",
      "{'arv': '[16]', 'sulud': None, 'uhik': 'lk'}\n",
      "\n",
      "\n",
      "[4] lk\n",
      "{'arv': '[4]', 'sulud': None, 'uhik': 'lk'}\n",
      "\n",
      "\n",
      "14 lk\n",
      "{'arv': '14', 'sulud': None, 'uhik': 'lk'}\n",
      "\n",
      "\n",
      "192 lk\n",
      "{'arv': '192', 'sulud': None, 'uhik': 'lk'}\n",
      "\n",
      "\n",
      "104 lk\n",
      "{'arv': '104', 'sulud': None, 'uhik': 'lk'}\n",
      "\n",
      "\n",
      "60 lk\n",
      "{'arv': '60', 'sulud': None, 'uhik': 'lk'}\n",
      "\n",
      "\n",
      "[8] lk\n",
      "{'arv': '[8]', 'sulud': None, 'uhik': 'lk'}\n",
      "\n",
      "\n",
      "68 lk\n",
      "{'arv': '68', 'sulud': None, 'uhik': 'lk'}\n",
      "\n",
      "\n",
      "[10] lk. koos kaanega\n",
      "{'arv': '[10]', 'sulud': None, 'uhik': 'lk'}\n",
      "\n",
      "\n",
      "23, [1] lk\n",
      "{'arv': '23', 'sulud': '[1]', 'uhik': 'lk'}\n",
      "\n",
      "\n",
      "19 lk\n",
      "{'arv': '19', 'sulud': None, 'uhik': 'lk'}\n",
      "\n",
      "\n",
      "39 lk\n",
      "{'arv': '39', 'sulud': None, 'uhik': 'lk'}\n",
      "\n",
      "\n",
      "30 lk\n",
      "{'arv': '30', 'sulud': None, 'uhik': 'lk'}\n",
      "\n",
      "\n",
      "95, [1] lk\n",
      "{'arv': '95', 'sulud': '[1]', 'uhik': 'lk'}\n",
      "\n",
      "\n",
      "95 lk\n",
      "{'arv': '95', 'sulud': None, 'uhik': 'lk'}\n",
      "\n",
      "\n",
      "120 lk\n",
      "{'arv': '120', 'sulud': None, 'uhik': 'lk'}\n",
      "\n",
      "\n",
      "11 lk\n",
      "{'arv': '11', 'sulud': None, 'uhik': 'lk'}\n",
      "\n",
      "\n",
      "79 lk\n",
      "{'arv': '79', 'sulud': None, 'uhik': 'lk'}\n",
      "\n",
      "\n",
      "176 lk\n",
      "{'arv': '176', 'sulud': None, 'uhik': 'lk'}\n",
      "\n",
      "\n",
      "55 lk\n",
      "{'arv': '55', 'sulud': None, 'uhik': 'lk'}\n",
      "\n",
      "\n",
      "79, [1] lk\n",
      "{'arv': '79', 'sulud': '[1]', 'uhik': 'lk'}\n",
      "\n",
      "\n",
      "27 lk\n",
      "{'arv': '27', 'sulud': None, 'uhik': 'lk'}\n",
      "\n",
      "\n",
      "76 lk\n",
      "{'arv': '76', 'sulud': None, 'uhik': 'lk'}\n",
      "\n",
      "\n",
      "22 lk\n",
      "{'arv': '22', 'sulud': None, 'uhik': 'lk'}\n",
      "\n",
      "\n",
      "208 lk\n",
      "{'arv': '208', 'sulud': None, 'uhik': 'lk'}\n",
      "\n",
      "\n",
      "256 lk\n",
      "{'arv': '256', 'sulud': None, 'uhik': 'lk'}\n",
      "\n",
      "\n",
      "35 lk\n",
      "{'arv': '35', 'sulud': None, 'uhik': 'lk'}\n",
      "\n",
      "\n",
      "136 lk\n",
      "{'arv': '136', 'sulud': None, 'uhik': 'lk'}\n",
      "\n",
      "\n",
      "224 lk\n",
      "{'arv': '224', 'sulud': None, 'uhik': 'lk'}\n",
      "\n",
      "\n",
      "39, [1] lk\n",
      "{'arv': '39', 'sulud': '[1]', 'uhik': 'lk'}\n",
      "\n",
      "\n",
      "84 lk\n",
      "{'arv': '84', 'sulud': None, 'uhik': 'lk'}\n",
      "\n",
      "\n",
      "[32] lk\n",
      "{'arv': '[32]', 'sulud': None, 'uhik': 'lk'}\n",
      "\n",
      "\n",
      "71 lk\n",
      "{'arv': '71', 'sulud': None, 'uhik': 'lk'}\n",
      "\n",
      "\n",
      "[8] lk. koos kaanega\n",
      "{'arv': '[8]', 'sulud': None, 'uhik': 'lk'}\n",
      "\n",
      "\n",
      "7 lk\n",
      "{'arv': '7', 'sulud': None, 'uhik': 'lk'}\n",
      "\n",
      "\n",
      "127, [1] lk\n",
      "{'arv': '127', 'sulud': '[1]', 'uhik': 'lk'}\n",
      "\n",
      "\n",
      "[24] lk\n",
      "{'arv': '[24]', 'sulud': None, 'uhik': 'lk'}\n",
      "\n",
      "\n",
      "18 lk\n",
      "{'arv': '18', 'sulud': None, 'uhik': 'lk'}\n",
      "\n",
      "\n",
      "43 lk\n",
      "{'arv': '43', 'sulud': None, 'uhik': 'lk'}\n",
      "\n",
      "\n",
      "100 lk\n",
      "{'arv': '100', 'sulud': None, 'uhik': 'lk'}\n",
      "\n",
      "\n",
      "111 lk\n",
      "{'arv': '111', 'sulud': None, 'uhik': 'lk'}\n",
      "\n",
      "\n",
      "152 lk\n",
      "{'arv': '152', 'sulud': None, 'uhik': 'lk'}\n",
      "\n",
      "\n",
      "46 lk\n",
      "{'arv': '46', 'sulud': None, 'uhik': 'lk'}\n",
      "\n",
      "\n",
      "127 lk\n",
      "{'arv': '127', 'sulud': None, 'uhik': 'lk'}\n",
      "\n",
      "\n",
      "11, [1] lk\n",
      "{'arv': '11', 'sulud': '[1]', 'uhik': 'lk'}\n",
      "\n",
      "\n",
      "55, [1] lk\n",
      "{'arv': '55', 'sulud': '[1]', 'uhik': 'lk'}\n",
      "\n",
      "\n",
      "168 lk\n",
      "{'arv': '168', 'sulud': None, 'uhik': 'lk'}\n",
      "\n",
      "\n",
      "240 lk\n",
      "{'arv': '240', 'sulud': None, 'uhik': 'lk'}\n",
      "\n",
      "\n",
      "143 lk\n",
      "{'arv': '143', 'sulud': None, 'uhik': 'lk'}\n",
      "\n",
      "\n",
      "92 lk\n",
      "{'arv': '92', 'sulud': None, 'uhik': 'lk'}\n",
      "\n",
      "\n",
      "71, [1] lk\n",
      "{'arv': '71', 'sulud': '[1]', 'uhik': 'lk'}\n",
      "\n",
      "\n",
      "19, [1] lk\n",
      "{'arv': '19', 'sulud': '[1]', 'uhik': 'lk'}\n",
      "\n",
      "\n",
      "26 lk\n",
      "{'arv': '26', 'sulud': None, 'uhik': 'lk'}\n",
      "\n",
      "\n",
      "10 lk\n",
      "{'arv': '10', 'sulud': None, 'uhik': 'lk'}\n",
      "\n",
      "\n",
      "87 lk\n",
      "{'arv': '87', 'sulud': None, 'uhik': 'lk'}\n",
      "\n",
      "\n",
      "62 lk\n",
      "{'arv': '62', 'sulud': None, 'uhik': 'lk'}\n",
      "\n",
      "\n",
      "59 lk\n",
      "{'arv': '59', 'sulud': None, 'uhik': 'lk'}\n",
      "\n",
      "\n",
      "159 lk\n",
      "{'arv': '159', 'sulud': None, 'uhik': 'lk'}\n",
      "\n",
      "\n",
      "184 lk\n",
      "{'arv': '184', 'sulud': None, 'uhik': 'lk'}\n",
      "\n",
      "\n",
      "15, [1] lk. koos kaanega\n",
      "{'arv': '15', 'sulud': '[1]', 'uhik': 'lk'}\n",
      "\n",
      "\n",
      "51 lk\n",
      "{'arv': '51', 'sulud': None, 'uhik': 'lk'}\n",
      "\n",
      "\n",
      "38 lk\n",
      "{'arv': '38', 'sulud': None, 'uhik': 'lk'}\n",
      "\n",
      "\n",
      "108 lk\n",
      "{'arv': '108', 'sulud': None, 'uhik': 'lk'}\n",
      "\n",
      "\n",
      "200 lk\n",
      "{'arv': '200', 'sulud': None, 'uhik': 'lk'}\n",
      "\n",
      "\n",
      "159, [1] lk\n",
      "{'arv': '159', 'sulud': '[1]', 'uhik': 'lk'}\n",
      "\n",
      "\n",
      "4 lk\n",
      "{'arv': '4', 'sulud': None, 'uhik': 'lk'}\n",
      "\n",
      "\n",
      "1 võrguressurss (pdf)\n",
      "{'arv': '1', 'sulud': None, 'uhik': 'võrguressurss'}\n",
      "\n",
      "\n",
      "111, [1] lk\n",
      "{'arv': '111', 'sulud': '[1]', 'uhik': 'lk'}\n",
      "\n",
      "\n",
      "103 lk\n",
      "{'arv': '103', 'sulud': None, 'uhik': 'lk'}\n",
      "\n",
      "\n",
      "34 lk\n",
      "{'arv': '34', 'sulud': None, 'uhik': 'lk'}\n",
      "\n",
      "\n",
      "143, [1] lk\n",
      "{'arv': '143', 'sulud': '[1]', 'uhik': 'lk'}\n",
      "\n",
      "\n",
      "42 lk\n",
      "{'arv': '42', 'sulud': None, 'uhik': 'lk'}\n",
      "\n",
      "\n",
      "191, [1] lk\n",
      "{'arv': '191', 'sulud': '[1]', 'uhik': 'lk'}\n",
      "\n",
      "\n",
      "216 lk\n",
      "{'arv': '216', 'sulud': None, 'uhik': 'lk'}\n",
      "\n",
      "\n",
      "94 lk\n",
      "{'arv': '94', 'sulud': None, 'uhik': 'lk'}\n",
      "\n",
      "\n",
      "29 lk\n",
      "{'arv': '29', 'sulud': None, 'uhik': 'lk'}\n",
      "\n",
      "\n",
      "67 lk\n",
      "{'arv': '67', 'sulud': None, 'uhik': 'lk'}\n",
      "\n",
      "\n",
      "[2] lk\n",
      "{'arv': '[2]', 'sulud': None, 'uhik': 'lk'}\n",
      "\n",
      "\n",
      "54 lk\n",
      "{'arv': '54', 'sulud': None, 'uhik': 'lk'}\n",
      "\n",
      "\n",
      "116 lk\n",
      "{'arv': '116', 'sulud': None, 'uhik': 'lk'}\n",
      "\n",
      "\n",
      "288 lk\n",
      "{'arv': '288', 'sulud': None, 'uhik': 'lk'}\n",
      "\n",
      "\n",
      "87, [1] lk\n",
      "{'arv': '87', 'sulud': '[1]', 'uhik': 'lk'}\n",
      "\n",
      "\n",
      "191 lk\n",
      "{'arv': '191', 'sulud': None, 'uhik': 'lk'}\n",
      "\n",
      "\n",
      "78 lk\n",
      "{'arv': '78', 'sulud': None, 'uhik': 'lk'}\n",
      "\n",
      "\n",
      "175 lk\n",
      "{'arv': '175', 'sulud': None, 'uhik': 'lk'}\n",
      "\n",
      "\n",
      "207, [1] lk\n",
      "{'arv': '207', 'sulud': '[1]', 'uhik': 'lk'}\n",
      "\n",
      "\n",
      "[12] lk. koos kaanega\n",
      "{'arv': '[12]', 'sulud': None, 'uhik': 'lk'}\n",
      "\n",
      "\n",
      "1 voldik (8 lk.)\n",
      "{'arv': '1', 'sulud': None, 'uhik': 'voldik'}\n",
      "\n",
      "\n",
      "119 lk\n",
      "{'arv': '119', 'sulud': None, 'uhik': 'lk'}\n",
      "\n",
      "\n",
      "223, [1] lk\n",
      "{'arv': '223', 'sulud': '[1]', 'uhik': 'lk'}\n",
      "\n",
      "\n",
      "[12] lk\n",
      "{'arv': '[12]', 'sulud': None, 'uhik': 'lk'}\n",
      "\n",
      "\n",
      "272 lk\n",
      "{'arv': '272', 'sulud': None, 'uhik': 'lk'}\n",
      "\n",
      "\n",
      "70 lk\n",
      "{'arv': '70', 'sulud': None, 'uhik': 'lk'}\n",
      "\n",
      "\n",
      "304 lk\n",
      "{'arv': '304', 'sulud': None, 'uhik': 'lk'}\n",
      "\n",
      "\n",
      "1 e-raamat (epub)\n",
      "{'arv': '1', 'sulud': None, 'uhik': 'e-raamat'}\n",
      "\n",
      "\n",
      "103, [1] lk\n",
      "{'arv': '103', 'sulud': '[1]', 'uhik': 'lk'}\n",
      "\n",
      "\n",
      "207 lk\n",
      "{'arv': '207', 'sulud': None, 'uhik': 'lk'}\n",
      "\n",
      "\n",
      "7, [1] lk. koos kaanega\n",
      "{'arv': '7', 'sulud': '[1]', 'uhik': 'lk'}\n",
      "\n",
      "\n",
      "132 lk\n",
      "{'arv': '132', 'sulud': None, 'uhik': 'lk'}\n",
      "\n",
      "\n",
      "50 lk\n",
      "{'arv': '50', 'sulud': None, 'uhik': 'lk'}\n",
      "\n",
      "\n",
      "58 lk\n",
      "{'arv': '58', 'sulud': None, 'uhik': 'lk'}\n",
      "\n",
      "\n",
      "[48] lk\n",
      "{'arv': '[48]', 'sulud': None, 'uhik': 'lk'}\n",
      "\n",
      "\n",
      "91 lk\n",
      "{'arv': '91', 'sulud': None, 'uhik': 'lk'}\n",
      "\n",
      "\n",
      "320 lk\n",
      "{'arv': '320', 'sulud': None, 'uhik': 'lk'}\n",
      "\n",
      "\n",
      "135 lk\n",
      "{'arv': '135', 'sulud': None, 'uhik': 'lk'}\n",
      "\n",
      "\n",
      "83 lk\n",
      "{'arv': '83', 'sulud': None, 'uhik': 'lk'}\n",
      "\n",
      "\n",
      "175, [1] lk\n",
      "{'arv': '175', 'sulud': '[1]', 'uhik': 'lk'}\n",
      "\n",
      "\n",
      "75 lk\n",
      "{'arv': '75', 'sulud': None, 'uhik': 'lk'}\n",
      "\n",
      "\n",
      "264 lk\n",
      "{'arv': '264', 'sulud': None, 'uhik': 'lk'}\n",
      "\n",
      "\n",
      "148 lk\n",
      "{'arv': '148', 'sulud': None, 'uhik': 'lk'}\n",
      "\n",
      "\n",
      "14, [1] lk\n",
      "{'arv': '14', 'sulud': '[1]', 'uhik': 'lk'}\n",
      "\n",
      "\n",
      "21 lk\n",
      "{'arv': '21', 'sulud': None, 'uhik': 'lk'}\n",
      "\n",
      "\n",
      "15 lk. koos kaanega\n",
      "{'arv': '15', 'sulud': None, 'uhik': 'lk'}\n",
      "\n",
      "\n",
      "232 lk\n",
      "{'arv': '232', 'sulud': None, 'uhik': 'lk'}\n",
      "\n",
      "\n",
      "239, [1] lk\n",
      "{'arv': '239', 'sulud': '[1]', 'uhik': 'lk'}\n",
      "\n",
      "\n",
      "255, [1] lk\n",
      "{'arv': '255', 'sulud': '[1]', 'uhik': 'lk'}\n",
      "\n",
      "\n",
      "248 lk\n",
      "{'arv': '248', 'sulud': None, 'uhik': 'lk'}\n",
      "\n",
      "\n",
      "151 lk\n",
      "{'arv': '151', 'sulud': None, 'uhik': 'lk'}\n",
      "\n",
      "\n",
      "[10] lk. koos kaantega\n",
      "{'arv': '[10]', 'sulud': None, 'uhik': 'lk'}\n",
      "\n",
      "\n",
      "86 lk\n",
      "{'arv': '86', 'sulud': None, 'uhik': 'lk'}\n",
      "\n",
      "\n",
      "35, [1] lk\n",
      "{'arv': '35', 'sulud': '[1]', 'uhik': 'lk'}\n",
      "\n",
      "\n",
      "99 lk\n",
      "{'arv': '99', 'sulud': None, 'uhik': 'lk'}\n",
      "\n",
      "\n",
      "223 lk\n",
      "{'arv': '223', 'sulud': None, 'uhik': 'lk'}\n",
      "\n",
      "\n",
      "124 lk\n",
      "{'arv': '124', 'sulud': None, 'uhik': 'lk'}\n",
      "\n",
      "\n",
      "1 voldik (6 lk.)\n",
      "{'arv': '1', 'sulud': None, 'uhik': 'voldik'}\n",
      "\n",
      "\n",
      "[1] lk\n",
      "{'arv': '[1]', 'sulud': None, 'uhik': 'lk'}\n",
      "\n",
      "\n",
      "27, [1] lk\n",
      "{'arv': '27', 'sulud': '[1]', 'uhik': 'lk'}\n",
      "\n",
      "\n",
      "17 lk\n",
      "{'arv': '17', 'sulud': None, 'uhik': 'lk'}\n",
      "\n",
      "\n",
      "119, [1] lk\n",
      "{'arv': '119', 'sulud': '[1]', 'uhik': 'lk'}\n",
      "\n",
      "\n",
      "25 lk\n",
      "{'arv': '25', 'sulud': None, 'uhik': 'lk'}\n",
      "\n",
      "\n",
      "16 lk. koos kaanega\n",
      "{'arv': '16', 'sulud': None, 'uhik': 'lk'}\n",
      "\n",
      "\n",
      "66 lk\n",
      "{'arv': '66', 'sulud': None, 'uhik': 'lk'}\n",
      "\n",
      "\n",
      "45 lk\n",
      "{'arv': '45', 'sulud': None, 'uhik': 'lk'}\n",
      "\n",
      "\n",
      "51, [1] lk\n",
      "{'arv': '51', 'sulud': '[1]', 'uhik': 'lk'}\n",
      "\n",
      "\n",
      "13 lk\n",
      "{'arv': '13', 'sulud': None, 'uhik': 'lk'}\n",
      "\n",
      "\n",
      "110 lk\n",
      "{'arv': '110', 'sulud': None, 'uhik': 'lk'}\n",
      "\n",
      "\n",
      "61 lk\n",
      "{'arv': '61', 'sulud': None, 'uhik': 'lk'}\n",
      "\n",
      "\n",
      "30, [2] lk\n",
      "{'arv': '30', 'sulud': '[2]', 'uhik': 'lk'}\n",
      "\n",
      "\n",
      "126 lk\n",
      "{'arv': '126', 'sulud': None, 'uhik': 'lk'}\n",
      "\n",
      "\n",
      "239 lk\n",
      "{'arv': '239', 'sulud': None, 'uhik': 'lk'}\n",
      "\n",
      "\n",
      "62, [2] lk\n",
      "{'arv': '62', 'sulud': '[2]', 'uhik': 'lk'}\n",
      "\n",
      "\n",
      "37 lk\n",
      "{'arv': '37', 'sulud': None, 'uhik': 'lk'}\n",
      "\n",
      "\n",
      "30, [1] lk\n",
      "{'arv': '30', 'sulud': '[1]', 'uhik': 'lk'}\n",
      "\n",
      "\n",
      "33 lk\n",
      "{'arv': '33', 'sulud': None, 'uhik': 'lk'}\n",
      "\n",
      "\n",
      "[14] lk. koos kaanega\n",
      "{'arv': '[14]', 'sulud': None, 'uhik': 'lk'}\n",
      "\n",
      "\n",
      "164 lk\n",
      "{'arv': '164', 'sulud': None, 'uhik': 'lk'}\n",
      "\n",
      "\n",
      "167 lk\n",
      "{'arv': '167', 'sulud': None, 'uhik': 'lk'}\n",
      "\n",
      "\n",
      "123 lk\n",
      "{'arv': '123', 'sulud': None, 'uhik': 'lk'}\n",
      "\n",
      "\n",
      "287, [1] lk\n",
      "{'arv': '287', 'sulud': '[1]', 'uhik': 'lk'}\n",
      "\n",
      "\n",
      "140 lk\n",
      "{'arv': '140', 'sulud': None, 'uhik': 'lk'}\n",
      "\n",
      "\n",
      "74 lk\n",
      "{'arv': '74', 'sulud': None, 'uhik': 'lk'}\n",
      "\n",
      "\n",
      "[20] lk\n",
      "{'arv': '[20]', 'sulud': None, 'uhik': 'lk'}\n",
      "\n",
      "\n",
      "62, [1] lk\n",
      "{'arv': '62', 'sulud': '[1]', 'uhik': 'lk'}\n",
      "\n",
      "\n",
      "102 lk\n",
      "{'arv': '102', 'sulud': None, 'uhik': 'lk'}\n",
      "\n",
      "\n",
      "115 lk\n",
      "{'arv': '115', 'sulud': None, 'uhik': 'lk'}\n",
      "\n",
      "\n",
      "158 lk\n",
      "{'arv': '158', 'sulud': None, 'uhik': 'lk'}\n",
      "\n",
      "\n",
      "271, [1] lk\n",
      "{'arv': '271', 'sulud': '[1]', 'uhik': 'lk'}\n",
      "\n",
      "\n",
      "303, [1] lk\n",
      "{'arv': '303', 'sulud': '[1]', 'uhik': 'lk'}\n",
      "\n",
      "\n",
      "183 lk\n",
      "{'arv': '183', 'sulud': None, 'uhik': 'lk'}\n",
      "\n",
      "\n",
      "1 CD-ROM\n",
      "{'arv': '1', 'sulud': None, 'uhik': 'CD-ROM'}\n",
      "\n",
      "\n",
      "215 lk\n",
      "{'arv': '215', 'sulud': None, 'uhik': 'lk'}\n",
      "\n",
      "\n",
      "135, [1] lk\n",
      "{'arv': '135', 'sulud': '[1]', 'uhik': 'lk'}\n",
      "\n",
      "\n",
      "255 lk\n",
      "{'arv': '255', 'sulud': None, 'uhik': 'lk'}\n",
      "\n",
      "\n",
      "199 lk\n",
      "{'arv': '199', 'sulud': None, 'uhik': 'lk'}\n"
     ]
    }
   ],
   "source": [
    "# millised jäävad katmata?\n",
    "sample_values = df[\"300$a\"].value_counts()[:200].index\n",
    "for entry in sample_values:\n",
    "    match = re.search(pattern=pattern_300a, string=entry)\n",
    "    if match:\n",
    "        print(\"\\n\")\n",
    "        print(entry)\n",
    "        print(match.groupdict())\n",
    "        pass\n",
    "    else:\n",
    "        print(entry)"
   ]
  },
  {
   "cell_type": "code",
   "execution_count": 101,
   "metadata": {},
   "outputs": [],
   "source": [
    "def clean_300a(entry: str, pattern=pattern_300a):\n",
    "    \n",
    "    if type(entry) == str:\n",
    "        match = re.search(pattern, entry)\n",
    "        if match:\n",
    "            groups = match.groupdict()\n",
    "            lk = None\n",
    "\n",
    "            if groups[\"arv\"]:\n",
    "                if groups[\"uhik\"]:\n",
    "                    if groups[\"uhik\"] in [\"l\", \"lk\", \"lehekülge\", \"nummerdamata lehekülge\"]:\n",
    "                        lk = int(groups[\"arv\"].lstrip(\"[\").strip(\"]\"))\n",
    "\n",
    "            # print(groups)\n",
    "            return lk"
   ]
  },
  {
   "cell_type": "code",
   "execution_count": 117,
   "metadata": {},
   "outputs": [
    {
     "name": "stdout",
     "output_type": "stream",
     "text": [
      "157, [1] lk \t-\t 157\n"
     ]
    }
   ],
   "source": [
    "# näited\n",
    "sample = df[\"300$a\"].loc[df[\"300$a\"].notna()].sample().values[0]\n",
    "print(sample, \"\\t-\\t\", clean_300a(sample, pattern_300a))"
   ]
  },
  {
   "cell_type": "code",
   "execution_count": 262,
   "metadata": {},
   "outputs": [],
   "source": [
    "df[\"300$a_cleaned\"] = df[\"300$a\"].apply(clean_300a)\n",
    "df = df.convert_dtypes()"
   ]
  },
  {
   "cell_type": "code",
   "execution_count": 268,
   "metadata": {},
   "outputs": [
    {
     "data": {
      "text/html": [
       "<div>\n",
       "<style scoped>\n",
       "    .dataframe tbody tr th:only-of-type {\n",
       "        vertical-align: middle;\n",
       "    }\n",
       "\n",
       "    .dataframe tbody tr th {\n",
       "        vertical-align: top;\n",
       "    }\n",
       "\n",
       "    .dataframe thead th {\n",
       "        text-align: right;\n",
       "    }\n",
       "</style>\n",
       "<table border=\"1\" class=\"dataframe\">\n",
       "  <thead>\n",
       "    <tr style=\"text-align: right;\">\n",
       "      <th></th>\n",
       "      <th>300$a</th>\n",
       "      <th>300$b</th>\n",
       "      <th>300$c</th>\n",
       "      <th>300$a_cleaned</th>\n",
       "    </tr>\n",
       "  </thead>\n",
       "  <tbody>\n",
       "    <tr>\n",
       "      <th>191570</th>\n",
       "      <td>1 e-raamat (epub)</td>\n",
       "      <td>&lt;NA&gt;</td>\n",
       "      <td>&lt;NA&gt;</td>\n",
       "      <td>&lt;NA&gt;</td>\n",
       "    </tr>\n",
       "    <tr>\n",
       "      <th>74738</th>\n",
       "      <td>Lk. 206-275, [1]</td>\n",
       "      <td>joon</td>\n",
       "      <td>20 cm</td>\n",
       "      <td>&lt;NA&gt;</td>\n",
       "    </tr>\n",
       "    <tr>\n",
       "      <th>175495</th>\n",
       "      <td>51 lk</td>\n",
       "      <td>&lt;NA&gt;</td>\n",
       "      <td>23 cm</td>\n",
       "      <td>51</td>\n",
       "    </tr>\n",
       "    <tr>\n",
       "      <th>184394</th>\n",
       "      <td>1 võrguväljaanne (54 lk., pdf)</td>\n",
       "      <td>ill</td>\n",
       "      <td>&lt;NA&gt;</td>\n",
       "      <td>&lt;NA&gt;</td>\n",
       "    </tr>\n",
       "    <tr>\n",
       "      <th>145531</th>\n",
       "      <td>191, [1] lk</td>\n",
       "      <td>&lt;NA&gt;</td>\n",
       "      <td>21 cm</td>\n",
       "      <td>191</td>\n",
       "    </tr>\n",
       "    <tr>\n",
       "      <th>134634</th>\n",
       "      <td>283, [5] lk</td>\n",
       "      <td>ill</td>\n",
       "      <td>25 cm</td>\n",
       "      <td>283</td>\n",
       "    </tr>\n",
       "    <tr>\n",
       "      <th>42169</th>\n",
       "      <td>82 lk</td>\n",
       "      <td>&lt;NA&gt;</td>\n",
       "      <td>14 cm</td>\n",
       "      <td>82</td>\n",
       "    </tr>\n",
       "    <tr>\n",
       "      <th>161342</th>\n",
       "      <td>[16] lk., [2] l. kleeppilte, [2] l. kujundeid</td>\n",
       "      <td>ill</td>\n",
       "      <td>27 cm</td>\n",
       "      <td>16</td>\n",
       "    </tr>\n",
       "    <tr>\n",
       "      <th>32155</th>\n",
       "      <td>134, [1] lk</td>\n",
       "      <td>&lt;NA&gt;</td>\n",
       "      <td>20 cm</td>\n",
       "      <td>134</td>\n",
       "    </tr>\n",
       "    <tr>\n",
       "      <th>34103</th>\n",
       "      <td>119 lk</td>\n",
       "      <td>ill</td>\n",
       "      <td>20 cm</td>\n",
       "      <td>119</td>\n",
       "    </tr>\n",
       "  </tbody>\n",
       "</table>\n",
       "</div>"
      ],
      "text/plain": [
       "                                                300$a 300$b  300$c  \\\n",
       "191570                              1 e-raamat (epub)  <NA>   <NA>   \n",
       "74738                                Lk. 206-275, [1]  joon  20 cm   \n",
       "175495                                          51 lk  <NA>  23 cm   \n",
       "184394                 1 võrguväljaanne (54 lk., pdf)   ill   <NA>   \n",
       "145531                                    191, [1] lk  <NA>  21 cm   \n",
       "134634                                    283, [5] lk   ill  25 cm   \n",
       "42169                                           82 lk  <NA>  14 cm   \n",
       "161342  [16] lk., [2] l. kleeppilte, [2] l. kujundeid   ill  27 cm   \n",
       "32155                                     134, [1] lk  <NA>  20 cm   \n",
       "34103                                          119 lk   ill  20 cm   \n",
       "\n",
       "        300$a_cleaned  \n",
       "191570           <NA>  \n",
       "74738            <NA>  \n",
       "175495             51  \n",
       "184394           <NA>  \n",
       "145531            191  \n",
       "134634            283  \n",
       "42169              82  \n",
       "161342             16  \n",
       "32155             134  \n",
       "34103             119  "
      ]
     },
     "execution_count": 268,
     "metadata": {},
     "output_type": "execute_result"
    }
   ],
   "source": [
    "df.sample(10)"
   ]
  },
  {
   "cell_type": "markdown",
   "metadata": {},
   "source": [
    "#### 300$b"
   ]
  },
  {
   "cell_type": "code",
   "execution_count": 118,
   "metadata": {},
   "outputs": [
    {
     "data": {
      "text/plain": [
       "ill                 80868\n",
       "ill., portr         10670\n",
       "ill. kaas            4182\n",
       "illustratsioonid     3940\n",
       "portr                2664\n",
       "ill., ill. kaas      2582\n",
       "ill., kaart          2185\n",
       "joon                  977\n",
       "fot                   916\n",
       "ill., noot            740\n",
       "Name: 300$b, dtype: int64"
      ]
     },
     "execution_count": 118,
     "metadata": {},
     "output_type": "execute_result"
    }
   ],
   "source": [
    "### tundub, et selle tulba võib teha lihtsalt 1/0 tulbaks - kui midagi on märgitud, siis on raamat illustreeritud\n",
    "df[\"300$b\"].value_counts()[:10]"
   ]
  },
  {
   "cell_type": "code",
   "execution_count": 119,
   "metadata": {},
   "outputs": [],
   "source": [
    "def clean_300b(entry):\n",
    "    if type(entry) == str:\n",
    "        return True\n",
    "    else:\n",
    "        return False"
   ]
  },
  {
   "cell_type": "code",
   "execution_count": 120,
   "metadata": {},
   "outputs": [],
   "source": [
    "df[\"300$b_cleaned\"] = df[\"300$b\"].apply(clean_300b)"
   ]
  },
  {
   "cell_type": "code",
   "execution_count": 121,
   "metadata": {},
   "outputs": [
    {
     "data": {
      "text/html": [
       "<div>\n",
       "<style scoped>\n",
       "    .dataframe tbody tr th:only-of-type {\n",
       "        vertical-align: middle;\n",
       "    }\n",
       "\n",
       "    .dataframe tbody tr th {\n",
       "        vertical-align: top;\n",
       "    }\n",
       "\n",
       "    .dataframe thead th {\n",
       "        text-align: right;\n",
       "    }\n",
       "</style>\n",
       "<table border=\"1\" class=\"dataframe\">\n",
       "  <thead>\n",
       "    <tr style=\"text-align: right;\">\n",
       "      <th></th>\n",
       "      <th>300$a</th>\n",
       "      <th>300$b</th>\n",
       "      <th>300$c</th>\n",
       "      <th>300$b_cleaned</th>\n",
       "    </tr>\n",
       "  </thead>\n",
       "  <tbody>\n",
       "    <tr>\n",
       "      <th>131983</th>\n",
       "      <td>[93] lk</td>\n",
       "      <td>NaN</td>\n",
       "      <td>21 cm</td>\n",
       "      <td>False</td>\n",
       "    </tr>\n",
       "    <tr>\n",
       "      <th>41063</th>\n",
       "      <td>117 lk</td>\n",
       "      <td>NaN</td>\n",
       "      <td>20 cm</td>\n",
       "      <td>False</td>\n",
       "    </tr>\n",
       "    <tr>\n",
       "      <th>39485</th>\n",
       "      <td>175 lk</td>\n",
       "      <td>ill</td>\n",
       "      <td>24 cm</td>\n",
       "      <td>True</td>\n",
       "    </tr>\n",
       "    <tr>\n",
       "      <th>78335</th>\n",
       "      <td>128 lk</td>\n",
       "      <td>joon</td>\n",
       "      <td>21 cm</td>\n",
       "      <td>True</td>\n",
       "    </tr>\n",
       "    <tr>\n",
       "      <th>10619</th>\n",
       "      <td>45 lk., 2 l. ill</td>\n",
       "      <td>ill</td>\n",
       "      <td>21 cm</td>\n",
       "      <td>True</td>\n",
       "    </tr>\n",
       "    <tr>\n",
       "      <th>78572</th>\n",
       "      <td>148 lk</td>\n",
       "      <td>ill</td>\n",
       "      <td>21 cm</td>\n",
       "      <td>True</td>\n",
       "    </tr>\n",
       "    <tr>\n",
       "      <th>8757</th>\n",
       "      <td>18 lk., 7 l. ill</td>\n",
       "      <td>ill</td>\n",
       "      <td>21 cm</td>\n",
       "      <td>True</td>\n",
       "    </tr>\n",
       "    <tr>\n",
       "      <th>143412</th>\n",
       "      <td>16 lk</td>\n",
       "      <td>ill</td>\n",
       "      <td>21 cm</td>\n",
       "      <td>True</td>\n",
       "    </tr>\n",
       "    <tr>\n",
       "      <th>163943</th>\n",
       "      <td>[36] lk. koos kaanega</td>\n",
       "      <td>ill</td>\n",
       "      <td>21 cm</td>\n",
       "      <td>True</td>\n",
       "    </tr>\n",
       "    <tr>\n",
       "      <th>7185</th>\n",
       "      <td>47 lk</td>\n",
       "      <td>NaN</td>\n",
       "      <td>21 cm</td>\n",
       "      <td>False</td>\n",
       "    </tr>\n",
       "  </tbody>\n",
       "</table>\n",
       "</div>"
      ],
      "text/plain": [
       "                        300$a 300$b  300$c  300$b_cleaned\n",
       "131983                [93] lk   NaN  21 cm          False\n",
       "41063                  117 lk   NaN  20 cm          False\n",
       "39485                  175 lk   ill  24 cm           True\n",
       "78335                  128 lk  joon  21 cm           True\n",
       "10619        45 lk., 2 l. ill   ill  21 cm           True\n",
       "78572                  148 lk   ill  21 cm           True\n",
       "8757         18 lk., 7 l. ill   ill  21 cm           True\n",
       "143412                  16 lk   ill  21 cm           True\n",
       "163943  [36] lk. koos kaanega   ill  21 cm           True\n",
       "7185                    47 lk   NaN  21 cm          False"
      ]
     },
     "execution_count": 121,
     "metadata": {},
     "output_type": "execute_result"
    }
   ],
   "source": [
    "df.sample(10)"
   ]
  },
  {
   "cell_type": "markdown",
   "metadata": {},
   "source": [
    "#### 300$c"
   ]
  },
  {
   "cell_type": "code",
   "execution_count": 122,
   "metadata": {},
   "outputs": [
    {
     "data": {
      "text/plain": [
       "150204    20 cm\n",
       "70360     20 cm\n",
       "159931    30 cm\n",
       "149457    15 cm\n",
       "17772     21 cm\n",
       "213692    23 cm\n",
       "52875     19 cm\n",
       "139659    25 cm\n",
       "88300     20 cm\n",
       "210298    22 cm\n",
       "Name: 300$c, dtype: object"
      ]
     },
     "execution_count": 122,
     "metadata": {},
     "output_type": "execute_result"
    }
   ],
   "source": [
    "### proovime kätte saada sentimeetrid, mis juhendi järgi tähendavad raamatu kõrgust\n",
    "df[\"300$c\"].loc[df[\"300$c\"].notna()].sample(10)"
   ]
  },
  {
   "cell_type": "code",
   "execution_count": 123,
   "metadata": {},
   "outputs": [],
   "source": [
    "def clean_300c(entry):\n",
    "    if type(entry) == str:\n",
    "        entry = entry.strip().lstrip()\n",
    "        # formaat NN cm\n",
    "        if re.match(\"\\d{1,3}\\s?cm\", entry):\n",
    "            entry = entry.split(\"cm\")[0].strip()\n",
    "        # kataloogimisviga cm -> cn\n",
    "        elif re.match(\"\\d{1,3}\\s?cn\", entry):\n",
    "            entry = entry.split(\"cn\")[0].strip()\n",
    "        # kahe mõõdu (NN x NN cm) puhul võtame esimese arvu, kuna teine arv märgitakse vaid siis, kui laius on kõrgusest suurem\n",
    "        elif re.match(\"\\d{1,3}\\s?[x]\\s?\\d{1,3}\\s?cm\", entry):\n",
    "            entry = entry.split(\"x\")[0].split(\" cm\")[0].strip()\n",
    "        \n",
    "        if re.match(\"\\d{1,3}$\", entry):\n",
    "            return int(entry)\n",
    "        else:\n",
    "            return None"
   ]
  },
  {
   "cell_type": "code",
   "execution_count": 147,
   "metadata": {},
   "outputs": [
    {
     "name": "stdout",
     "output_type": "stream",
     "text": [
      "20x27 cm \t-\t 20\n"
     ]
    }
   ],
   "source": [
    "# näited\n",
    "sample = df[\"300$c\"].loc[df[\"300$c\"].notna()].sample().values[0]\n",
    "print(sample, \"\\t-\\t\", clean_300c(sample))"
   ]
  },
  {
   "cell_type": "code",
   "execution_count": 389,
   "metadata": {},
   "outputs": [],
   "source": [
    "df[\"300$c_cleaned\"] = df[\"300$c\"].apply(clean_300c).convert_dtypes()"
   ]
  },
  {
   "cell_type": "code",
   "execution_count": 406,
   "metadata": {},
   "outputs": [
    {
     "data": {
      "text/html": [
       "<div>\n",
       "<style scoped>\n",
       "    .dataframe tbody tr th:only-of-type {\n",
       "        vertical-align: middle;\n",
       "    }\n",
       "\n",
       "    .dataframe tbody tr th {\n",
       "        vertical-align: top;\n",
       "    }\n",
       "\n",
       "    .dataframe thead th {\n",
       "        text-align: right;\n",
       "    }\n",
       "</style>\n",
       "<table border=\"1\" class=\"dataframe\">\n",
       "  <thead>\n",
       "    <tr style=\"text-align: right;\">\n",
       "      <th></th>\n",
       "      <th>300$c</th>\n",
       "      <th>300$c_cleaned</th>\n",
       "    </tr>\n",
       "  </thead>\n",
       "  <tbody>\n",
       "    <tr>\n",
       "      <th>208675</th>\n",
       "      <td>30 cm</td>\n",
       "      <td>30</td>\n",
       "    </tr>\n",
       "    <tr>\n",
       "      <th>137291</th>\n",
       "      <td>30 cm</td>\n",
       "      <td>30</td>\n",
       "    </tr>\n",
       "    <tr>\n",
       "      <th>152713</th>\n",
       "      <td>22 cm</td>\n",
       "      <td>22</td>\n",
       "    </tr>\n",
       "    <tr>\n",
       "      <th>192194</th>\n",
       "      <td>&lt;NA&gt;</td>\n",
       "      <td>&lt;NA&gt;</td>\n",
       "    </tr>\n",
       "    <tr>\n",
       "      <th>10780</th>\n",
       "      <td>26 cm</td>\n",
       "      <td>26</td>\n",
       "    </tr>\n",
       "    <tr>\n",
       "      <th>102116</th>\n",
       "      <td>25 cm</td>\n",
       "      <td>25</td>\n",
       "    </tr>\n",
       "    <tr>\n",
       "      <th>73561</th>\n",
       "      <td>20 cm</td>\n",
       "      <td>20</td>\n",
       "    </tr>\n",
       "    <tr>\n",
       "      <th>28586</th>\n",
       "      <td>21 cm</td>\n",
       "      <td>21</td>\n",
       "    </tr>\n",
       "    <tr>\n",
       "      <th>183783</th>\n",
       "      <td>21 cm</td>\n",
       "      <td>21</td>\n",
       "    </tr>\n",
       "    <tr>\n",
       "      <th>119025</th>\n",
       "      <td>18 cm</td>\n",
       "      <td>18</td>\n",
       "    </tr>\n",
       "  </tbody>\n",
       "</table>\n",
       "</div>"
      ],
      "text/plain": [
       "        300$c  300$c_cleaned\n",
       "208675  30 cm             30\n",
       "137291  30 cm             30\n",
       "152713  22 cm             22\n",
       "192194   <NA>           <NA>\n",
       "10780   26 cm             26\n",
       "102116  25 cm             25\n",
       "73561   20 cm             20\n",
       "28586   21 cm             21\n",
       "183783  21 cm             21\n",
       "119025  18 cm             18"
      ]
     },
     "execution_count": 406,
     "metadata": {},
     "output_type": "execute_result"
    }
   ],
   "source": [
    "df[[\"300$c\", \"300$c_cleaned\"]].sample(10)"
   ]
  },
  {
   "cell_type": "markdown",
   "metadata": {},
   "source": [
    "### Bibliograafia/register (504a)"
   ]
  },
  {
   "cell_type": "code",
   "execution_count": 441,
   "metadata": {},
   "outputs": [],
   "source": [
    "df = df_main[\"504$a\"].copy().to_frame()"
   ]
  },
  {
   "cell_type": "code",
   "execution_count": 442,
   "metadata": {},
   "outputs": [
    {
     "data": {
      "text/plain": [
       "504$a                                                             \n",
       "Sisaldab bibliograafiat                                               17381\n",
       "Sisaldab registrit                                                     6234\n",
       "Bibliograafia joonealustes märkustes                                   2316\n",
       "Sisaldab bibliograafiat ja registrit                                   2227\n",
       "Bibliograafia artiklite lõpus                                          1559\n",
       "Sisaldab registreid                                                     799\n",
       "Bibliograafia raamatu lõpus                                             545\n",
       "Bibliograafia peatükkide lõpus                                          375\n",
       "Bibliograafia joonealustes märkustes. - Sisaldab registrit              313\n",
       "Sisaldab bibliograafiat ja registreid                                   263\n",
       "Bibliograafia märkustes                                                 229\n",
       "Bibliograafia artiklite lõpus ja joonealustes märkustes                 166\n",
       "Bibliograafia ettekannete lõpus                                         158\n",
       "Bibliograafia teeside lõpus                                             143\n",
       "Bibliograafia joonealustes märkustes ja artiklite lõpus                 104\n",
       "Bibliograafia peatükkide lõpus. - Sisaldab registrit                    101\n",
       "Bibliograafia artiklite lõpus. - Sisaldab registrit                      93\n",
       "Bibliograafia osade lõpus                                                59\n",
       "Bibliograafia järelsõna joonealustes märkustes                           49\n",
       "Bibliograafia märkustes. - Sisaldab registrit                            46\n",
       "Sisaldab bibliograafiat ja autori publikatsioonide loetelu               44\n",
       "Bibliograafia joonealustes märkustes. - Sisaldab registreid              43\n",
       "Bibliograafia teksti lõpus                                               41\n",
       "Bibliograafia lk. 23-24                                                  35\n",
       "Bibliograafia peatükkide lõpus. - Sisaldab registreid                    32\n",
       "Internetiallikad joonealustes märkustes                                  32\n",
       "Bibliograafia teemade lõpus                                              29\n",
       "Sisaldab bibliograafiat. - Bibliograafia ka joonealustes märkustes       28\n",
       "Bibliograafia lk. 30-31                                                  27\n",
       "Bibliograafia lk. 111-112                                                27\n",
       "dtype: int64"
      ]
     },
     "execution_count": 442,
     "metadata": {},
     "output_type": "execute_result"
    }
   ],
   "source": [
    "### Tundub, et bibliograafia ja register on eraldiseisvalt märgitud, seega võiks nende olemasolu eraldi käsitleda.\n",
    "df.value_counts()[:30]"
   ]
  },
  {
   "cell_type": "code",
   "execution_count": 447,
   "metadata": {},
   "outputs": [],
   "source": [
    "def clean_504a(entry):\n",
    "    if type(entry) == str:\n",
    "        b = ''\n",
    "        r = ''\n",
    "        if re.search(\"[Bb]ibliograafia\", entry):\n",
    "            b = \"b\"\n",
    "        if re.search(\"[Rr]egist(er|rit)\", entry):\n",
    "            r = \"r\"\n",
    "\n",
    "        return b+r"
   ]
  },
  {
   "cell_type": "code",
   "execution_count": 448,
   "metadata": {},
   "outputs": [],
   "source": [
    "df[\"504$a_cleaned\"] = df[\"504$a\"].apply(clean_504a)"
   ]
  },
  {
   "cell_type": "code",
   "execution_count": 453,
   "metadata": {},
   "outputs": [
    {
     "data": {
      "text/html": [
       "<div>\n",
       "<style scoped>\n",
       "    .dataframe tbody tr th:only-of-type {\n",
       "        vertical-align: middle;\n",
       "    }\n",
       "\n",
       "    .dataframe tbody tr th {\n",
       "        vertical-align: top;\n",
       "    }\n",
       "\n",
       "    .dataframe thead th {\n",
       "        text-align: right;\n",
       "    }\n",
       "</style>\n",
       "<table border=\"1\" class=\"dataframe\">\n",
       "  <thead>\n",
       "    <tr style=\"text-align: right;\">\n",
       "      <th></th>\n",
       "      <th>504$a</th>\n",
       "      <th>504$a_cleaned</th>\n",
       "    </tr>\n",
       "  </thead>\n",
       "  <tbody>\n",
       "    <tr>\n",
       "      <th>186599</th>\n",
       "      <td>Bibliograafia lk. 111-[112]</td>\n",
       "      <td>b</td>\n",
       "    </tr>\n",
       "    <tr>\n",
       "      <th>153063</th>\n",
       "      <td>Sisaldab bibliograafiat</td>\n",
       "      <td>b</td>\n",
       "    </tr>\n",
       "    <tr>\n",
       "      <th>174795</th>\n",
       "      <td>Sisaldab bibliograafiat</td>\n",
       "      <td>b</td>\n",
       "    </tr>\n",
       "    <tr>\n",
       "      <th>178090</th>\n",
       "      <td>Sisaldab bibliograafiat</td>\n",
       "      <td>b</td>\n",
       "    </tr>\n",
       "    <tr>\n",
       "      <th>114601</th>\n",
       "      <td>Sisaldab bibliograafiat</td>\n",
       "      <td>b</td>\n",
       "    </tr>\n",
       "    <tr>\n",
       "      <th>206021</th>\n",
       "      <td>Bibliograafia joonealustes märkustes</td>\n",
       "      <td>b</td>\n",
       "    </tr>\n",
       "    <tr>\n",
       "      <th>91516</th>\n",
       "      <td>Sisaldab bibliograafiat</td>\n",
       "      <td>b</td>\n",
       "    </tr>\n",
       "    <tr>\n",
       "      <th>154138</th>\n",
       "      <td>Sisaldab bibliograafiat ja registrit</td>\n",
       "      <td>br</td>\n",
       "    </tr>\n",
       "    <tr>\n",
       "      <th>199073</th>\n",
       "      <td>Sisaldab bibliograafiat ja registrit</td>\n",
       "      <td>br</td>\n",
       "    </tr>\n",
       "    <tr>\n",
       "      <th>154730</th>\n",
       "      <td>Sisaldab bibliograafiat</td>\n",
       "      <td>b</td>\n",
       "    </tr>\n",
       "  </tbody>\n",
       "</table>\n",
       "</div>"
      ],
      "text/plain": [
       "                                       504$a 504$a_cleaned\n",
       "186599           Bibliograafia lk. 111-[112]             b\n",
       "153063               Sisaldab bibliograafiat             b\n",
       "174795               Sisaldab bibliograafiat             b\n",
       "178090               Sisaldab bibliograafiat             b\n",
       "114601               Sisaldab bibliograafiat             b\n",
       "206021  Bibliograafia joonealustes märkustes             b\n",
       "91516                Sisaldab bibliograafiat             b\n",
       "154138  Sisaldab bibliograafiat ja registrit            br\n",
       "199073  Sisaldab bibliograafiat ja registrit            br\n",
       "154730               Sisaldab bibliograafiat             b"
      ]
     },
     "execution_count": 453,
     "metadata": {},
     "output_type": "execute_result"
    }
   ],
   "source": [
    "df.loc[df[\"504$a\"].notna()].sample(10)"
   ]
  },
  {
   "cell_type": "markdown",
   "metadata": {},
   "source": [
    "### Digiteerimine e. reproduktsioon (533 a, d)"
   ]
  },
  {
   "cell_type": "code",
   "execution_count": 472,
   "metadata": {},
   "outputs": [],
   "source": [
    "df = df_main[[\"533$a\", \"533$d\"]].copy()"
   ]
  },
  {
   "cell_type": "code",
   "execution_count": 465,
   "metadata": {},
   "outputs": [
    {
     "name": "stdout",
     "output_type": "stream",
     "text": [
      "Täidetus:\n",
      "533$a: repro_type: 22 %\n",
      "533$d: repro_date: 22 %\n"
     ]
    },
    {
     "data": {
      "image/png": "[encoded data removed]",
      "text/plain": [
       "<Figure size 600x400 with 1 Axes>"
      ]
     },
     "metadata": {},
     "output_type": "display_data"
    }
   ],
   "source": [
    "# nagu näha, siis kasutatakse neid kahte tulpa alati koos.\n",
    "missing_values_heatmap(df)"
   ]
  },
  {
   "cell_type": "code",
   "execution_count": 468,
   "metadata": {},
   "outputs": [
    {
     "name": "stdout",
     "output_type": "stream",
     "text": [
      "Kirjeid, kus ainult repro märge: 52\n",
      "Kirjeid, kus ainult repro aasta: 0\n"
     ]
    }
   ],
   "source": [
    "### igaks juhuks topelkontroll, ega pole kirjeid, kus on täidetud nii 533$a kui 533$d\n",
    "### nagu näha, siis 52 juhul on aasta puudu, aga see ei ole takistuseks\n",
    "rows_with_only_533a = df[df['533$a'].notna() & df['533$d'].isna()]\n",
    "rows_with_only_533d = df[df['533$a'].isna() & df['533$d'].notna()]\n",
    "print(\"Kirjeid, kus ainult repro märge:\", len(rows_with_only_533a))\n",
    "print(\"Kirjeid, kus ainult repro aasta:\", len(rows_with_only_533d))"
   ]
  },
  {
   "cell_type": "code",
   "execution_count": 460,
   "metadata": {},
   "outputs": [
    {
     "data": {
      "text/plain": [
       "Elektrooniline reproduktsioon                                                                                                 47183\n",
       "Elektrooniline reproduktsioon; Elektrooniline reproduktsioon                                                                    307\n",
       "aElektrooniline reproduktsioon                                                                                                    7\n",
       "Elektrooniline reproduktsioon; Elektrooniline reproduktsioon; Elektrooniline reproduktsioon                                       5\n",
       " Elektrooniline reproduktsioon                                                                                                    3\n",
       "Elektrooniline reproduktsioon. Tartu : Tartu Ülikooli Raamatukogu, 2015                                                           3\n",
       "Elektrooniline reroduktsioon                                                                                                      2\n",
       "9789916503232 (pdf)Elektrooniline reproduktsioon                                                                                  1\n",
       "Elektrooniline reproduktsioon; Elektrooniline reproduktsioon; Elektrooniline reproduktsioon; Elektrooniline reproduktsioon        1\n",
       "Elektrooniline reproduktsioon. Tartu : Eesti Kirjandusmuuseumi Arhiivraamatukogu, 2019-2021. 9789949024629 (pdf)                  1\n",
       "Name: 533$a, dtype: int64"
      ]
     },
     "execution_count": 460,
     "metadata": {},
     "output_type": "execute_result"
    }
   ],
   "source": [
    "df[\"533$a\"].value_counts()"
   ]
  },
  {
   "cell_type": "code",
   "execution_count": 473,
   "metadata": {},
   "outputs": [
    {
     "data": {
      "text/plain": [
       "2022         12238\n",
       "2023          8007\n",
       "2019-2021     3992\n",
       "2019          3240\n",
       "2021          3074\n",
       "2018          2286\n",
       "2020          2155\n",
       "2017          1931\n",
       "2016          1790\n",
       "2012          1279\n",
       "2015           828\n",
       "2011           706\n",
       "2019.0         666\n",
       "2018.0         630\n",
       "2020.0         588\n",
       "2014           571\n",
       "2024           537\n",
       "2023.0         534\n",
       "2021.0         534\n",
       "2013           518\n",
       "Name: 533$d, dtype: int64"
      ]
     },
     "execution_count": 473,
     "metadata": {},
     "output_type": "execute_result"
    }
   ],
   "source": [
    "df[\"533$d\"].value_counts()[:20]"
   ]
  },
  {
   "cell_type": "code",
   "execution_count": 464,
   "metadata": {},
   "outputs": [],
   "source": [
    "# 533$a saab muuta booleaniks (digiteeritud jah/ei)\n",
    "# 533$d on seega sisuliselt digiteerimise aasta"
   ]
  },
  {
   "cell_type": "markdown",
   "metadata": {},
   "source": [
    "#### 533$a"
   ]
  },
  {
   "cell_type": "code",
   "execution_count": 474,
   "metadata": {},
   "outputs": [],
   "source": [
    "def clean_533a(entry):\n",
    "    if type(entry) == str:\n",
    "        return True\n",
    "    else:\n",
    "        return False"
   ]
  },
  {
   "cell_type": "code",
   "execution_count": 476,
   "metadata": {},
   "outputs": [],
   "source": [
    "df[\"533$a_cleaned\"] = df[\"533$a\"].apply(clean_533a)"
   ]
  },
  {
   "cell_type": "code",
   "execution_count": 477,
   "metadata": {},
   "outputs": [
    {
     "data": {
      "text/html": [
       "<div>\n",
       "<style scoped>\n",
       "    .dataframe tbody tr th:only-of-type {\n",
       "        vertical-align: middle;\n",
       "    }\n",
       "\n",
       "    .dataframe tbody tr th {\n",
       "        vertical-align: top;\n",
       "    }\n",
       "\n",
       "    .dataframe thead th {\n",
       "        text-align: right;\n",
       "    }\n",
       "</style>\n",
       "<table border=\"1\" class=\"dataframe\">\n",
       "  <thead>\n",
       "    <tr style=\"text-align: right;\">\n",
       "      <th></th>\n",
       "      <th>533$a</th>\n",
       "      <th>533$d</th>\n",
       "      <th>533$a_cleaned</th>\n",
       "    </tr>\n",
       "  </thead>\n",
       "  <tbody>\n",
       "    <tr>\n",
       "      <th>0</th>\n",
       "      <td>Elektrooniline reproduktsioon</td>\n",
       "      <td>2023</td>\n",
       "      <td>True</td>\n",
       "    </tr>\n",
       "    <tr>\n",
       "      <th>1</th>\n",
       "      <td>NaN</td>\n",
       "      <td>NaN</td>\n",
       "      <td>False</td>\n",
       "    </tr>\n",
       "    <tr>\n",
       "      <th>2</th>\n",
       "      <td>Elektrooniline reproduktsioon</td>\n",
       "      <td>2021</td>\n",
       "      <td>True</td>\n",
       "    </tr>\n",
       "    <tr>\n",
       "      <th>3</th>\n",
       "      <td>NaN</td>\n",
       "      <td>NaN</td>\n",
       "      <td>False</td>\n",
       "    </tr>\n",
       "    <tr>\n",
       "      <th>4</th>\n",
       "      <td>NaN</td>\n",
       "      <td>NaN</td>\n",
       "      <td>False</td>\n",
       "    </tr>\n",
       "    <tr>\n",
       "      <th>...</th>\n",
       "      <td>...</td>\n",
       "      <td>...</td>\n",
       "      <td>...</td>\n",
       "    </tr>\n",
       "    <tr>\n",
       "      <th>219990</th>\n",
       "      <td>NaN</td>\n",
       "      <td>NaN</td>\n",
       "      <td>False</td>\n",
       "    </tr>\n",
       "    <tr>\n",
       "      <th>219991</th>\n",
       "      <td>NaN</td>\n",
       "      <td>NaN</td>\n",
       "      <td>False</td>\n",
       "    </tr>\n",
       "    <tr>\n",
       "      <th>219992</th>\n",
       "      <td>NaN</td>\n",
       "      <td>NaN</td>\n",
       "      <td>False</td>\n",
       "    </tr>\n",
       "    <tr>\n",
       "      <th>219993</th>\n",
       "      <td>NaN</td>\n",
       "      <td>NaN</td>\n",
       "      <td>False</td>\n",
       "    </tr>\n",
       "    <tr>\n",
       "      <th>219994</th>\n",
       "      <td>NaN</td>\n",
       "      <td>NaN</td>\n",
       "      <td>False</td>\n",
       "    </tr>\n",
       "  </tbody>\n",
       "</table>\n",
       "<p>219995 rows × 3 columns</p>\n",
       "</div>"
      ],
      "text/plain": [
       "                                533$a 533$d  533$a_cleaned\n",
       "0       Elektrooniline reproduktsioon  2023           True\n",
       "1                                 NaN   NaN          False\n",
       "2       Elektrooniline reproduktsioon  2021           True\n",
       "3                                 NaN   NaN          False\n",
       "4                                 NaN   NaN          False\n",
       "...                               ...   ...            ...\n",
       "219990                            NaN   NaN          False\n",
       "219991                            NaN   NaN          False\n",
       "219992                            NaN   NaN          False\n",
       "219993                            NaN   NaN          False\n",
       "219994                            NaN   NaN          False\n",
       "\n",
       "[219995 rows x 3 columns]"
      ]
     },
     "execution_count": 477,
     "metadata": {},
     "output_type": "execute_result"
    }
   ],
   "source": [
    "df"
   ]
  },
  {
   "cell_type": "markdown",
   "metadata": {},
   "source": [
    "#### 533$d"
   ]
  },
  {
   "cell_type": "code",
   "execution_count": 545,
   "metadata": {},
   "outputs": [
    {
     "data": {
      "text/plain": [
       "'2022'"
      ]
     },
     "execution_count": 545,
     "metadata": {},
     "output_type": "execute_result"
    }
   ],
   "source": [
    "match = re.match(r\"\\d{4}(\\.0|\\w+)\", \"2022.0\")\n",
    "match.string\n",
    "match.string[:4]"
   ]
  },
  {
   "cell_type": "code",
   "execution_count": 507,
   "metadata": {},
   "outputs": [],
   "source": [
    "pattern_533d = re.compile(r\"^(\\d{4}(-\\d{4})?)(\\;\\s\\d{4}(-\\d{4})?)*\")"
   ]
  },
  {
   "cell_type": "code",
   "execution_count": 508,
   "metadata": {},
   "outputs": [
    {
     "data": {
      "text/plain": [
       "['2012', '2013']"
      ]
     },
     "execution_count": 508,
     "metadata": {},
     "output_type": "execute_result"
    }
   ],
   "source": [
    "re.findall(\"\\d{4}\", \"2012; 2013\")"
   ]
  },
  {
   "cell_type": "code",
   "execution_count": 588,
   "metadata": {},
   "outputs": [],
   "source": [
    "def clean_533d(entry, pattern=pattern_533d, min_year=2000, max_year=2024):\n",
    "    if type(entry) != str:\n",
    "        entry = str(entry)\n",
    "    match = re.match(pattern, entry)\n",
    "    if match:\n",
    "        year = match.string\n",
    "        if re.match(r\"\\d{4}(\\.0|\\w+)\", year):\n",
    "            year = year[:4]\n",
    "        return year"
   ]
  },
  {
   "cell_type": "code",
   "execution_count": 647,
   "metadata": {},
   "outputs": [
    {
     "name": "stdout",
     "output_type": "stream",
     "text": [
      "2019-2021 \t-\t 2019-2021\n"
     ]
    }
   ],
   "source": [
    "# näited\n",
    "sample = df[\"533$d\"].loc[df[\"533$d\"].notna()].sample().values[0]\n",
    "print(sample, \"\\t-\\t\", clean_533d(sample))"
   ]
  },
  {
   "cell_type": "code",
   "execution_count": 648,
   "metadata": {},
   "outputs": [],
   "source": [
    "df[\"533$d_cleaned\"] = df[\"533$d\"].apply(clean_533d)"
   ]
  },
  {
   "cell_type": "code",
   "execution_count": 657,
   "metadata": {},
   "outputs": [
    {
     "data": {
      "text/html": [
       "<div>\n",
       "<style scoped>\n",
       "    .dataframe tbody tr th:only-of-type {\n",
       "        vertical-align: middle;\n",
       "    }\n",
       "\n",
       "    .dataframe tbody tr th {\n",
       "        vertical-align: top;\n",
       "    }\n",
       "\n",
       "    .dataframe thead th {\n",
       "        text-align: right;\n",
       "    }\n",
       "</style>\n",
       "<table border=\"1\" class=\"dataframe\">\n",
       "  <thead>\n",
       "    <tr style=\"text-align: right;\">\n",
       "      <th></th>\n",
       "      <th>533$a</th>\n",
       "      <th>533$d</th>\n",
       "      <th>533$a_cleaned</th>\n",
       "      <th>533$d_cleaned</th>\n",
       "    </tr>\n",
       "  </thead>\n",
       "  <tbody>\n",
       "    <tr>\n",
       "      <th>54184</th>\n",
       "      <td>NaN</td>\n",
       "      <td>NaN</td>\n",
       "      <td>False</td>\n",
       "      <td>None</td>\n",
       "    </tr>\n",
       "    <tr>\n",
       "      <th>5315</th>\n",
       "      <td>NaN</td>\n",
       "      <td>NaN</td>\n",
       "      <td>False</td>\n",
       "      <td>None</td>\n",
       "    </tr>\n",
       "    <tr>\n",
       "      <th>138060</th>\n",
       "      <td>NaN</td>\n",
       "      <td>NaN</td>\n",
       "      <td>False</td>\n",
       "      <td>None</td>\n",
       "    </tr>\n",
       "    <tr>\n",
       "      <th>27424</th>\n",
       "      <td>NaN</td>\n",
       "      <td>NaN</td>\n",
       "      <td>False</td>\n",
       "      <td>None</td>\n",
       "    </tr>\n",
       "    <tr>\n",
       "      <th>182521</th>\n",
       "      <td>NaN</td>\n",
       "      <td>NaN</td>\n",
       "      <td>False</td>\n",
       "      <td>None</td>\n",
       "    </tr>\n",
       "    <tr>\n",
       "      <th>133148</th>\n",
       "      <td>NaN</td>\n",
       "      <td>NaN</td>\n",
       "      <td>False</td>\n",
       "      <td>None</td>\n",
       "    </tr>\n",
       "    <tr>\n",
       "      <th>177666</th>\n",
       "      <td>NaN</td>\n",
       "      <td>NaN</td>\n",
       "      <td>False</td>\n",
       "      <td>None</td>\n",
       "    </tr>\n",
       "    <tr>\n",
       "      <th>171960</th>\n",
       "      <td>NaN</td>\n",
       "      <td>NaN</td>\n",
       "      <td>False</td>\n",
       "      <td>None</td>\n",
       "    </tr>\n",
       "    <tr>\n",
       "      <th>134013</th>\n",
       "      <td>NaN</td>\n",
       "      <td>NaN</td>\n",
       "      <td>False</td>\n",
       "      <td>None</td>\n",
       "    </tr>\n",
       "    <tr>\n",
       "      <th>79213</th>\n",
       "      <td>NaN</td>\n",
       "      <td>NaN</td>\n",
       "      <td>False</td>\n",
       "      <td>None</td>\n",
       "    </tr>\n",
       "  </tbody>\n",
       "</table>\n",
       "</div>"
      ],
      "text/plain": [
       "       533$a 533$d  533$a_cleaned 533$d_cleaned\n",
       "54184    NaN   NaN          False          None\n",
       "5315     NaN   NaN          False          None\n",
       "138060   NaN   NaN          False          None\n",
       "27424    NaN   NaN          False          None\n",
       "182521   NaN   NaN          False          None\n",
       "133148   NaN   NaN          False          None\n",
       "177666   NaN   NaN          False          None\n",
       "171960   NaN   NaN          False          None\n",
       "134013   NaN   NaN          False          None\n",
       "79213    NaN   NaN          False          None"
      ]
     },
     "execution_count": 657,
     "metadata": {},
     "output_type": "execute_result"
    }
   ],
   "source": [
    "df.sample(10)"
   ]
  },
  {
   "cell_type": "markdown",
   "metadata": {},
   "source": [
    "### Sisu- ja žanrimärksõnad (650, 651, 655)"
   ]
  },
  {
   "cell_type": "markdown",
   "metadata": {},
   "source": [
    "#### Sisumärksõnad (650 a, 0)"
   ]
  },
  {
   "cell_type": "code",
   "execution_count": 185,
   "metadata": {},
   "outputs": [],
   "source": [
    "df = df_main[[\"650$a\", \"650$0\"]]"
   ]
  },
  {
   "cell_type": "code",
   "execution_count": 186,
   "metadata": {},
   "outputs": [
    {
     "name": "stdout",
     "output_type": "stream",
     "text": [
      "Täidetus:\n",
      "650$a: subject_topic: 96 %\n",
      "650$0: subject_topic_thesaurus: 95 %\n"
     ]
    },
    {
     "data": {
      "image/png": "[encoded data removed]",
      "text/plain": [
       "<Figure size 600x400 with 1 Axes>"
      ]
     },
     "metadata": {},
     "output_type": "display_data"
    }
   ],
   "source": [
    "missing_values_heatmap(df)"
   ]
  },
  {
   "cell_type": "code",
   "execution_count": 203,
   "metadata": {},
   "outputs": [
    {
     "name": "stdout",
     "output_type": "stream",
     "text": [
      "1.0 %\n"
     ]
    }
   ],
   "source": [
    "# kui palju on kannete osakaal, kus märksõnale on EMS lisamata?\n",
    "print(round(len(df.loc[(df[\"650$a\"].notna()) & (df[\"650$0\"].isna())]) / len(df), 2)*100, \"%\")\n",
    "# väga vähe"
   ]
  },
  {
   "cell_type": "code",
   "execution_count": 204,
   "metadata": {},
   "outputs": [
    {
     "name": "stdout",
     "output_type": "stream",
     "text": [
      "0\n"
     ]
    }
   ],
   "source": [
    "# kontrollime igaks juhuks, kas on ridu, kus on EMS lingid, aga märksõna ennast mitte\n",
    "print(len(df.loc[(df[\"650$a\"].isna()) & (df[\"650$0\"].notna())]))\n",
    "# ei ole"
   ]
  },
  {
   "cell_type": "code",
   "execution_count": 206,
   "metadata": {},
   "outputs": [],
   "source": [
    "### Märksõnade ja linkide dubleerimine tundub veidi mõttetu.\n",
    "### Äkki hoopis tõstaks EMS IDd märksõnade järele nurksulgudesse (usuõpetus [022767]) ja lisaks seletuse dokumentatsiooni?"
   ]
  },
  {
   "cell_type": "markdown",
   "metadata": {},
   "source": [
    "#### Žanrimärksõnad (655 a, 0)"
   ]
  },
  {
   "cell_type": "code",
   "execution_count": 208,
   "metadata": {},
   "outputs": [],
   "source": [
    "df = df_main[[\"655$a\", \"655$0\"]].copy()"
   ]
  },
  {
   "cell_type": "code",
   "execution_count": 209,
   "metadata": {},
   "outputs": [
    {
     "name": "stdout",
     "output_type": "stream",
     "text": [
      "Täidetus:\n",
      "655$a: subject_genre: 85 %\n",
      "655$0: subject_genre_thesaurus: 58 %\n"
     ]
    },
    {
     "data": {
      "image/png": "[encoded data removed]",
      "text/plain": [
       "<Figure size 600x400 with 1 Axes>"
      ]
     },
     "metadata": {},
     "output_type": "display_data"
    }
   ],
   "source": [
    "missing_values_heatmap(df)"
   ]
  },
  {
   "cell_type": "code",
   "execution_count": 210,
   "metadata": {},
   "outputs": [
    {
     "data": {
      "text/html": [
       "<div>\n",
       "<style scoped>\n",
       "    .dataframe tbody tr th:only-of-type {\n",
       "        vertical-align: middle;\n",
       "    }\n",
       "\n",
       "    .dataframe tbody tr th {\n",
       "        vertical-align: top;\n",
       "    }\n",
       "\n",
       "    .dataframe thead th {\n",
       "        text-align: right;\n",
       "    }\n",
       "</style>\n",
       "<table border=\"1\" class=\"dataframe\">\n",
       "  <thead>\n",
       "    <tr style=\"text-align: right;\">\n",
       "      <th></th>\n",
       "      <th>655$a</th>\n",
       "      <th>655$0</th>\n",
       "    </tr>\n",
       "  </thead>\n",
       "  <tbody>\n",
       "  </tbody>\n",
       "</table>\n",
       "</div>"
      ],
      "text/plain": [
       "Empty DataFrame\n",
       "Columns: [655$a, 655$0]\n",
       "Index: []"
      ]
     },
     "execution_count": 210,
     "metadata": {},
     "output_type": "execute_result"
    }
   ],
   "source": [
    "# kontrollime igaks juhuks, kas on ridu, kus on EMS lingid, aga märksõna ennast mitte\n",
    "df.loc[(df[\"655$a\"].isna()) & (df[\"655$0\"].notna())]"
   ]
  },
  {
   "cell_type": "code",
   "execution_count": 216,
   "metadata": {},
   "outputs": [
    {
     "name": "stdout",
     "output_type": "stream",
     "text": [
      "60411\n"
     ]
    },
    {
     "data": {
      "text/html": [
       "<div>\n",
       "<style scoped>\n",
       "    .dataframe tbody tr th:only-of-type {\n",
       "        vertical-align: middle;\n",
       "    }\n",
       "\n",
       "    .dataframe tbody tr th {\n",
       "        vertical-align: top;\n",
       "    }\n",
       "\n",
       "    .dataframe thead th {\n",
       "        text-align: right;\n",
       "    }\n",
       "</style>\n",
       "<table border=\"1\" class=\"dataframe\">\n",
       "  <thead>\n",
       "    <tr style=\"text-align: right;\">\n",
       "      <th></th>\n",
       "      <th>655$a</th>\n",
       "      <th>655$0</th>\n",
       "    </tr>\n",
       "  </thead>\n",
       "  <tbody>\n",
       "    <tr>\n",
       "      <th>124826</th>\n",
       "      <td>nimestikud</td>\n",
       "      <td>NaN</td>\n",
       "    </tr>\n",
       "    <tr>\n",
       "      <th>78699</th>\n",
       "      <td>õppekavad</td>\n",
       "      <td>NaN</td>\n",
       "    </tr>\n",
       "    <tr>\n",
       "      <th>36890</th>\n",
       "      <td>statistilised andmed</td>\n",
       "      <td>NaN</td>\n",
       "    </tr>\n",
       "    <tr>\n",
       "      <th>192585</th>\n",
       "      <td>kokaraamatud</td>\n",
       "      <td>NaN</td>\n",
       "    </tr>\n",
       "    <tr>\n",
       "      <th>119950</th>\n",
       "      <td>stenogrammid</td>\n",
       "      <td>NaN</td>\n",
       "    </tr>\n",
       "    <tr>\n",
       "      <th>7278</th>\n",
       "      <td>töövihikud</td>\n",
       "      <td>NaN</td>\n",
       "    </tr>\n",
       "    <tr>\n",
       "      <th>107226</th>\n",
       "      <td>kokaraamatud</td>\n",
       "      <td>NaN</td>\n",
       "    </tr>\n",
       "    <tr>\n",
       "      <th>109320</th>\n",
       "      <td>palveraamatud</td>\n",
       "      <td>NaN</td>\n",
       "    </tr>\n",
       "    <tr>\n",
       "      <th>97370</th>\n",
       "      <td>õppekavad; kavandid (projektid)</td>\n",
       "      <td>NaN</td>\n",
       "    </tr>\n",
       "    <tr>\n",
       "      <th>166758</th>\n",
       "      <td>infotrükised</td>\n",
       "      <td>NaN</td>\n",
       "    </tr>\n",
       "  </tbody>\n",
       "</table>\n",
       "</div>"
      ],
      "text/plain": [
       "                                  655$a 655$0\n",
       "124826                       nimestikud   NaN\n",
       "78699                         õppekavad   NaN\n",
       "36890              statistilised andmed   NaN\n",
       "192585                     kokaraamatud   NaN\n",
       "119950                     stenogrammid   NaN\n",
       "7278                         töövihikud   NaN\n",
       "107226                     kokaraamatud   NaN\n",
       "109320                    palveraamatud   NaN\n",
       "97370   õppekavad; kavandid (projektid)   NaN\n",
       "166758                     infotrükised   NaN"
      ]
     },
     "execution_count": 216,
     "metadata": {},
     "output_type": "execute_result"
    }
   ],
   "source": [
    "# samas on väga palju kandeid, kus EMS lingid puuduvad\n",
    "print(len(df.loc[(df[\"655$a\"].notna()) & (df[\"655$0\"].isna())]))\n",
    "\n",
    "# näiteks\n",
    "df.loc[(df[\"655$a\"].notna()) & (df[\"655$0\"].isna())].sample(10)\n",
    "\n",
    "# nendel märksõnadel peaks kõigil EMS id olema - kas hakkame seda tööd ise tegema?"
   ]
  },
  {
   "cell_type": "markdown",
   "metadata": {},
   "source": [
    "#### Kohamärksõnad (651 a, 0)"
   ]
  },
  {
   "cell_type": "code",
   "execution_count": 217,
   "metadata": {},
   "outputs": [],
   "source": [
    "df = df_main[[\"651$a\", \"651$0\"]].copy()"
   ]
  },
  {
   "cell_type": "code",
   "execution_count": 218,
   "metadata": {},
   "outputs": [
    {
     "name": "stdout",
     "output_type": "stream",
     "text": [
      "Täidetus:\n",
      "651$a: subject_geographic_name: 30 %\n",
      "651$0: subject_geographic_thesaurus: 30 %\n"
     ]
    },
    {
     "data": {
      "image/png": "[encoded data removed]",
      "text/plain": [
       "<Figure size 600x400 with 1 Axes>"
      ]
     },
     "metadata": {},
     "output_type": "display_data"
    }
   ],
   "source": [
    "missing_values_heatmap(df)"
   ]
  },
  {
   "cell_type": "code",
   "execution_count": 219,
   "metadata": {},
   "outputs": [
    {
     "data": {
      "text/html": [
       "<div>\n",
       "<style scoped>\n",
       "    .dataframe tbody tr th:only-of-type {\n",
       "        vertical-align: middle;\n",
       "    }\n",
       "\n",
       "    .dataframe tbody tr th {\n",
       "        vertical-align: top;\n",
       "    }\n",
       "\n",
       "    .dataframe thead th {\n",
       "        text-align: right;\n",
       "    }\n",
       "</style>\n",
       "<table border=\"1\" class=\"dataframe\">\n",
       "  <thead>\n",
       "    <tr style=\"text-align: right;\">\n",
       "      <th></th>\n",
       "      <th>651$a</th>\n",
       "      <th>651$0</th>\n",
       "    </tr>\n",
       "  </thead>\n",
       "  <tbody>\n",
       "  </tbody>\n",
       "</table>\n",
       "</div>"
      ],
      "text/plain": [
       "Empty DataFrame\n",
       "Columns: [651$a, 651$0]\n",
       "Index: []"
      ]
     },
     "execution_count": 219,
     "metadata": {},
     "output_type": "execute_result"
    }
   ],
   "source": [
    "# kontrollime igaks juhuks, kas on ridu, kus on EMS lingid, aga märksõna ennast mitte\n",
    "df.loc[(df[\"651$a\"].isna()) & (df[\"651$0\"].notna())]\n",
    "# ei ole"
   ]
  },
  {
   "cell_type": "code",
   "execution_count": null,
   "metadata": {},
   "outputs": [
    {
     "data": {
      "text/html": [
       "<div>\n",
       "<style scoped>\n",
       "    .dataframe tbody tr th:only-of-type {\n",
       "        vertical-align: middle;\n",
       "    }\n",
       "\n",
       "    .dataframe tbody tr th {\n",
       "        vertical-align: top;\n",
       "    }\n",
       "\n",
       "    .dataframe thead th {\n",
       "        text-align: right;\n",
       "    }\n",
       "</style>\n",
       "<table border=\"1\" class=\"dataframe\">\n",
       "  <thead>\n",
       "    <tr style=\"text-align: right;\">\n",
       "      <th></th>\n",
       "      <th>651$a</th>\n",
       "      <th>651$0</th>\n",
       "    </tr>\n",
       "  </thead>\n",
       "  <tbody>\n",
       "    <tr>\n",
       "      <th>158832</th>\n",
       "      <td>NSV Liit</td>\n",
       "      <td>https://ems.elnet.ee/id/EMS131700</td>\n",
       "    </tr>\n",
       "    <tr>\n",
       "      <th>32556</th>\n",
       "      <td>Eesti (riik)</td>\n",
       "      <td>https://ems.elnet.ee/id/EMS131705</td>\n",
       "    </tr>\n",
       "    <tr>\n",
       "      <th>35066</th>\n",
       "      <td>Eesti (riik)</td>\n",
       "      <td>https://ems.elnet.ee/id/EMS131705</td>\n",
       "    </tr>\n",
       "    <tr>\n",
       "      <th>153274</th>\n",
       "      <td>Venemaa; Peterburi</td>\n",
       "      <td>https://ems.elnet.ee/id/EMS131683; https://ems...</td>\n",
       "    </tr>\n",
       "    <tr>\n",
       "      <th>41337</th>\n",
       "      <td>Ida-Virumaa</td>\n",
       "      <td>https://ems.elnet.ee/id/EMS131716</td>\n",
       "    </tr>\n",
       "    <tr>\n",
       "      <th>35728</th>\n",
       "      <td>NSV Liit</td>\n",
       "      <td>https://ems.elnet.ee/id/EMS131700</td>\n",
       "    </tr>\n",
       "    <tr>\n",
       "      <th>111992</th>\n",
       "      <td>Riia</td>\n",
       "      <td>https://ems.elnet.ee/id/EMS133101</td>\n",
       "    </tr>\n",
       "    <tr>\n",
       "      <th>138066</th>\n",
       "      <td>Järvamaa</td>\n",
       "      <td>https://ems.elnet.ee/id/EMS131723</td>\n",
       "    </tr>\n",
       "    <tr>\n",
       "      <th>186993</th>\n",
       "      <td>Heimtali</td>\n",
       "      <td>https://ems.elnet.ee/id/EMS135497</td>\n",
       "    </tr>\n",
       "    <tr>\n",
       "      <th>135714</th>\n",
       "      <td>Tartu</td>\n",
       "      <td>https://ems.elnet.ee/id/EMS131949</td>\n",
       "    </tr>\n",
       "  </tbody>\n",
       "</table>\n",
       "</div>"
      ],
      "text/plain": [
       "                     651$a                                              651$0\n",
       "158832            NSV Liit                  https://ems.elnet.ee/id/EMS131700\n",
       "32556         Eesti (riik)                  https://ems.elnet.ee/id/EMS131705\n",
       "35066         Eesti (riik)                  https://ems.elnet.ee/id/EMS131705\n",
       "153274  Venemaa; Peterburi  https://ems.elnet.ee/id/EMS131683; https://ems...\n",
       "41337          Ida-Virumaa                  https://ems.elnet.ee/id/EMS131716\n",
       "35728             NSV Liit                  https://ems.elnet.ee/id/EMS131700\n",
       "111992                Riia                  https://ems.elnet.ee/id/EMS133101\n",
       "138066            Järvamaa                  https://ems.elnet.ee/id/EMS131723\n",
       "186993            Heimtali                  https://ems.elnet.ee/id/EMS135497\n",
       "135714               Tartu                  https://ems.elnet.ee/id/EMS131949"
      ]
     },
     "metadata": {},
     "output_type": "display_data"
    }
   ],
   "source": [
    "# tundub, et kõik on juba normkujul ja harmoniseerida pole vaja\n",
    "df.loc[df[\"651$a\"].notna()].sample(10)"
   ]
  },
  {
   "cell_type": "markdown",
   "metadata": {},
   "source": [
    "### Seeriaandmed (490a)"
   ]
  },
  {
   "cell_type": "code",
   "execution_count": 148,
   "metadata": {},
   "outputs": [],
   "source": [
    "df = df_main[\"490$a\"].copy()"
   ]
  },
  {
   "cell_type": "code",
   "execution_count": 149,
   "metadata": {},
   "outputs": [
    {
     "name": "stdout",
     "output_type": "stream",
     "text": [
      "Täidetus:\n",
      "490$a: series_statement: 21 %\n"
     ]
    },
    {
     "data": {
      "image/png": "[encoded data removed]",
      "text/plain": [
       "<Figure size 600x400 with 1 Axes>"
      ]
     },
     "metadata": {},
     "output_type": "display_data"
    }
   ],
   "source": [
    "missing_values_heatmap(df.to_frame())"
   ]
  },
  {
   "cell_type": "code",
   "execution_count": 156,
   "metadata": {},
   "outputs": [
    {
     "data": {
      "text/plain": [
       "63046                                                   NaN\n",
       "169629                                                  NaN\n",
       "6342                                                    NaN\n",
       "86663                                                   NaN\n",
       "27240                             Eesti riikline statistika\n",
       "108199                                                  NaN\n",
       "199446                                  Harlequin romantika\n",
       "186702                                                  NaN\n",
       "40177     Teaduse saavutusi ja eesrindlikke kogemusi põl...\n",
       "135641              Saaremaa Merekultuuri Seltsi toimetised\n",
       "Name: 490$a, dtype: object"
      ]
     },
     "execution_count": 156,
     "metadata": {},
     "output_type": "execute_result"
    }
   ],
   "source": [
    "df.sample(10)"
   ]
  },
  {
   "cell_type": "markdown",
   "metadata": {},
   "source": [
    "### Üldmärkused (500a)"
   ]
  },
  {
   "cell_type": "code",
   "execution_count": 161,
   "metadata": {},
   "outputs": [],
   "source": [
    "df = df_main[\"500$a\"].copy()"
   ]
  },
  {
   "cell_type": "code",
   "execution_count": 162,
   "metadata": {},
   "outputs": [
    {
     "name": "stdout",
     "output_type": "stream",
     "text": [
      "Täidetus:\n",
      "500$a: general_note: 29 %\n"
     ]
    },
    {
     "data": {
      "image/png": "[encoded data removed]",
      "text/plain": [
       "<Figure size 600x400 with 1 Axes>"
      ]
     },
     "metadata": {},
     "output_type": "display_data"
    }
   ],
   "source": [
    "missing_values_heatmap(df.to_frame())"
   ]
  },
  {
   "cell_type": "code",
   "execution_count": 163,
   "metadata": {},
   "outputs": [],
   "source": [
    "def clean_500a(entry):\n",
    "    tiraaz = None\n",
    "    hind = None\n",
    "    kirjastiil = None\n",
    "    if type(entry) == str:\n",
    "\n",
    "        pattern_500a_tiraaz = re.compile(r\"(?P<tiraaz>\\d+(\\.\\d+)?)\\s(eks\\.?)\")\n",
    "        match = re.search(pattern_500a_tiraaz, entry)\n",
    "        if match:\n",
    "            tiraaz = int(match.groupdict()[\"tiraaz\"].replace('.', ''))\n",
    "\n",
    "        pattern_500a_hind = re.compile(r\"(?P<rubla>\\d\\s(rbl\\.?|rubla))?\\s*(?P<kop>\\d{1,2}\\skop)\")\n",
    "        match = re.search(pattern_500a_hind, entry)\n",
    "        if match:\n",
    "            hind = match.string[match.span()[0]:match.span()[1]]\n",
    "\n",
    "        pattern_500a_kirjastiil = re.compile(r\"(?P<kirjastiil>[Ff]raktuur|[Aa]ntiikva)\")\n",
    "        match = re.search(pattern_500a_kirjastiil, entry)\n",
    "        if match:\n",
    "            kirjastiil = (match.groupdict()[\"kirjastiil\"].lower()[0])\n",
    "\n",
    "    return (tiraaz, hind, kirjastiil)"
   ]
  },
  {
   "cell_type": "code",
   "execution_count": 165,
   "metadata": {},
   "outputs": [],
   "source": [
    "df = df.to_frame()\n",
    "df[[\"tiraaz\", \"hind\", \"kirjastiil\"]] = df[\"500$a\"].apply(clean_500a).to_list()"
   ]
  },
  {
   "cell_type": "code",
   "execution_count": 166,
   "metadata": {},
   "outputs": [
    {
     "name": "stdout",
     "output_type": "stream",
     "text": [
      "Täidetus:\n",
      "tiraaz: 5 %\n",
      "hind: 2 %\n",
      "kirjastiil: 6 %\n"
     ]
    },
    {
     "data": {
      "image/png": "[encoded data removed]",
      "text/plain": [
       "<Figure size 600x400 with 1 Axes>"
      ]
     },
     "metadata": {},
     "output_type": "display_data"
    }
   ],
   "source": [
    "# tiraazi, hinna ja kirjastiili täituvus eraldi on väga madal. Kas jätta sisse või ei?\n",
    "missing_values_heatmap(df[[\"tiraaz\", \"hind\", \"kirjastiil\"]])"
   ]
  },
  {
   "cell_type": "code",
   "execution_count": null,
   "metadata": {},
   "outputs": [
    {
     "data": {
      "text/plain": [
       "Päistiitel                                                     2535\n",
       "Kaanel autor märkimata                                         2047\n",
       "Kirjeldatud trükise alusel                                     1172\n",
       "Mimeograafpaljundus                                             909\n",
       "Kaanel autorid märkimata                                        789\n",
       "Kaanel ainult seeriapealkiri                                    760\n",
       "Kirjeldatud kaane järgi                                         468\n",
       "Kaanel pealkiri ja autor märkimata                              450\n",
       "Kaanel pealkiri märkimata                                       445\n",
       "Autor näidatud tagakaanel                                       417\n",
       "Autor näidatud tiitellehe pöördel                               414\n",
       "Autorid näidatud tiitellehe pöördel                             369\n",
       "Ilmumisaasta allikas: Eesti raamatute üldnimestik 1918-1923     319\n",
       "Tekst lehe ühel küljel                                          303\n",
       "Autor näidatud kaanel                                           230\n",
       "Ilmumisandmed võetud kirjastuse kodulehelt                      208\n",
       "Tirelraamat                                                     177\n",
       "Mimeograafpaljundus. - Tekst lehe ühel küljel                   168\n",
       "Raamatus ISBN märkimata                                         161\n",
       "Autor näidatud teksti lõpus                                     158\n",
       "Name: 500$a, dtype: int64"
      ]
     },
     "metadata": {},
     "output_type": "display_data"
    }
   ],
   "source": [
    "# millised on kõige sagedasemad üldmärkused, mis ei sisalda hinda, tiraazi ega kirjastiili?\n",
    "df.loc[(df[\"tiraaz\"].isna()) & (df[\"hind\"].isna()) & (df[\"kirjastiil\"].isna()), \"500$a\"].value_counts()[:20]\n",
    "# siit vist väga midagi enam välja ei võta"
   ]
  },
  {
   "cell_type": "markdown",
   "metadata": {},
   "source": [
    "### Algupärandi märkus (534c)"
   ]
  },
  {
   "cell_type": "code",
   "execution_count": 91,
   "metadata": {},
   "outputs": [],
   "source": [
    "df = df_main[\"534$c\"].copy().to_frame()"
   ]
  },
  {
   "cell_type": "code",
   "execution_count": 65,
   "metadata": {},
   "outputs": [
    {
     "name": "stdout",
     "output_type": "stream",
     "text": [
      "Täidetus:\n",
      "534$c: original_version_distribution: 6 %\n"
     ]
    },
    {
     "data": {
      "image/png": "[encoded data removed]",
      "text/plain": [
       "<Figure size 600x400 with 1 Axes>"
      ]
     },
     "metadata": {},
     "output_type": "display_data"
    }
   ],
   "source": [
    "missing_values_heatmap(df)"
   ]
  },
  {
   "cell_type": "code",
   "execution_count": 74,
   "metadata": {},
   "outputs": [],
   "source": [
    "pattern_534c = re.compile(r\"((?P<place>[A-ZÕÄÖÜ]\\w+(\\s\\;\\s[A-ZÕÄÖÜ]\\w+)?)(\\s?\\:\\s((?P<publisher>((([A-Z&]+\\s)?[A-ZÕÄÖÜk]\\w+(\\s|\\-)?)+)|(s\\.\\s?n\\.)|(([A-ZÕÄÖÜ]\\.\\s)+[A-ZÕÄÖÜ]\\w+))))?)?(,\\s)?c?(?:([IVXLCDM]+\\s)+)?((?P<range>\\d{4}\\-\\d{4})|(?P<year>\\d{4}))?\")"
   ]
  },
  {
   "cell_type": "code",
   "execution_count": 103,
   "metadata": {},
   "outputs": [],
   "source": [
    "def clean_534c(entry, pattern=pattern_534c):\n",
    "    year = None\n",
    "    place = None\n",
    "    publisher = None\n",
    "    if type(entry) == str:\n",
    "        entry = entry.lstrip().replace('[', '').replace(']', '')\n",
    "        match = re.search(pattern, entry)\n",
    "        if match:\n",
    "            matchgroups = match.groupdict()\n",
    "            if matchgroups[\"year\"]:\n",
    "                year = int(matchgroups[\"year\"])\n",
    "            place = matchgroups[\"place\"]\n",
    "            publisher = matchgroups[\"publisher\"]\n",
    "            if matchgroups[\"range\"]:\n",
    "                year = int(matchgroups[\"range\"].split(\"-\")[0])\n",
    "\n",
    "    return (year, place, publisher)"
   ]
  },
  {
   "cell_type": "code",
   "execution_count": 104,
   "metadata": {},
   "outputs": [],
   "source": [
    "df[[\"original_distribution_year\", \"original_distribution_place\", \"original_distribution_publisher\"]] = df[\"534$c\"].apply(clean_534c).to_list()\n",
    "df = df.convert_dtypes()"
   ]
  },
  {
   "cell_type": "code",
   "execution_count": 105,
   "metadata": {},
   "outputs": [
    {
     "data": {
      "text/html": [
       "<div>\n",
       "<style scoped>\n",
       "    .dataframe tbody tr th:only-of-type {\n",
       "        vertical-align: middle;\n",
       "    }\n",
       "\n",
       "    .dataframe tbody tr th {\n",
       "        vertical-align: top;\n",
       "    }\n",
       "\n",
       "    .dataframe thead th {\n",
       "        text-align: right;\n",
       "    }\n",
       "</style>\n",
       "<table border=\"1\" class=\"dataframe\">\n",
       "  <thead>\n",
       "    <tr style=\"text-align: right;\">\n",
       "      <th></th>\n",
       "      <th>534$c</th>\n",
       "      <th>original_distribution_year</th>\n",
       "      <th>original_distribution_place</th>\n",
       "      <th>original_distribution_publisher</th>\n",
       "    </tr>\n",
       "  </thead>\n",
       "  <tbody>\n",
       "    <tr>\n",
       "      <th>105859</th>\n",
       "      <td>1887</td>\n",
       "      <td>1887.0</td>\n",
       "      <td>None</td>\n",
       "      <td>None</td>\n",
       "    </tr>\n",
       "    <tr>\n",
       "      <th>103155</th>\n",
       "      <td>Tartu : Odamees, 1925</td>\n",
       "      <td>1925.0</td>\n",
       "      <td>Tartu</td>\n",
       "      <td>Odamees</td>\n",
       "    </tr>\n",
       "    <tr>\n",
       "      <th>21368</th>\n",
       "      <td>1931/1932</td>\n",
       "      <td>1931.0</td>\n",
       "      <td>None</td>\n",
       "      <td>None</td>\n",
       "    </tr>\n",
       "    <tr>\n",
       "      <th>194132</th>\n",
       "      <td>Tallinn : Koolibri, 2011</td>\n",
       "      <td>2011.0</td>\n",
       "      <td>Tallinn</td>\n",
       "      <td>Koolibri</td>\n",
       "    </tr>\n",
       "    <tr>\n",
       "      <th>85779</th>\n",
       "      <td>1932</td>\n",
       "      <td>1932.0</td>\n",
       "      <td>None</td>\n",
       "      <td>None</td>\n",
       "    </tr>\n",
       "    <tr>\n",
       "      <th>169696</th>\n",
       "      <td>Tallinn : Varrak, 2012. 2.tr; Tallinn : Varrak...</td>\n",
       "      <td>2012.0</td>\n",
       "      <td>Tallinn</td>\n",
       "      <td>Varrak</td>\n",
       "    </tr>\n",
       "    <tr>\n",
       "      <th>29064</th>\n",
       "      <td>Göteborg : Orto, 1951</td>\n",
       "      <td>1951.0</td>\n",
       "      <td>Göteborg</td>\n",
       "      <td>Orto</td>\n",
       "    </tr>\n",
       "    <tr>\n",
       "      <th>185854</th>\n",
       "      <td>Tartu : Noor-Eesti Kirjastus, 1935</td>\n",
       "      <td>1935.0</td>\n",
       "      <td>Tartu</td>\n",
       "      <td>Noor-Eesti Kirjastus</td>\n",
       "    </tr>\n",
       "    <tr>\n",
       "      <th>162123</th>\n",
       "      <td>Tallinn : Varrak, 2005</td>\n",
       "      <td>2005.0</td>\n",
       "      <td>Tallinn</td>\n",
       "      <td>Varrak</td>\n",
       "    </tr>\n",
       "    <tr>\n",
       "      <th>166944</th>\n",
       "      <td>Tallinn : Meediatera, 2012</td>\n",
       "      <td>2012.0</td>\n",
       "      <td>Tallinn</td>\n",
       "      <td>Meediatera</td>\n",
       "    </tr>\n",
       "  </tbody>\n",
       "</table>\n",
       "</div>"
      ],
      "text/plain": [
       "                                                    534$c  \\\n",
       "105859                                               1887   \n",
       "103155                              Tartu : Odamees, 1925   \n",
       "21368                                           1931/1932   \n",
       "194132                           Tallinn : Koolibri, 2011   \n",
       "85779                                                1932   \n",
       "169696  Tallinn : Varrak, 2012. 2.tr; Tallinn : Varrak...   \n",
       "29064                               Göteborg : Orto, 1951   \n",
       "185854                 Tartu : Noor-Eesti Kirjastus, 1935   \n",
       "162123                             Tallinn : Varrak, 2005   \n",
       "166944                         Tallinn : Meediatera, 2012   \n",
       "\n",
       "       original_distribution_year original_distribution_place  \\\n",
       "105859                     1887.0                        None   \n",
       "103155                     1925.0                       Tartu   \n",
       "21368                      1931.0                        None   \n",
       "194132                     2011.0                     Tallinn   \n",
       "85779                      1932.0                        None   \n",
       "169696                     2012.0                     Tallinn   \n",
       "29064                      1951.0                    Göteborg   \n",
       "185854                     1935.0                       Tartu   \n",
       "162123                     2005.0                     Tallinn   \n",
       "166944                     2012.0                     Tallinn   \n",
       "\n",
       "       original_distribution_publisher  \n",
       "105859                            None  \n",
       "103155                         Odamees  \n",
       "21368                             None  \n",
       "194132                        Koolibri  \n",
       "85779                             None  \n",
       "169696                          Varrak  \n",
       "29064                             Orto  \n",
       "185854            Noor-Eesti Kirjastus  \n",
       "162123                          Varrak  \n",
       "166944                      Meediatera  "
      ]
     },
     "execution_count": 105,
     "metadata": {},
     "output_type": "execute_result"
    }
   ],
   "source": [
    "df.loc[df[\"534$c\"].notna()].sample(10)"
   ]
  },
  {
   "cell_type": "code",
   "execution_count": 106,
   "metadata": {},
   "outputs": [
    {
     "name": "stdout",
     "output_type": "stream",
     "text": [
      "Regex katab 13787 kirjet 13787 kirjest\n",
      "Kaetus:  100.0 %\n"
     ]
    }
   ],
   "source": [
    "regex_coverage(df, \"534$c\", pattern_534c)"
   ]
  },
  {
   "cell_type": "code",
   "execution_count": 116,
   "metadata": {},
   "outputs": [
    {
     "data": {
      "text/html": [
       "<div>\n",
       "<style scoped>\n",
       "    .dataframe tbody tr th:only-of-type {\n",
       "        vertical-align: middle;\n",
       "    }\n",
       "\n",
       "    .dataframe tbody tr th {\n",
       "        vertical-align: top;\n",
       "    }\n",
       "\n",
       "    .dataframe thead th {\n",
       "        text-align: right;\n",
       "    }\n",
       "</style>\n",
       "<table border=\"1\" class=\"dataframe\">\n",
       "  <thead>\n",
       "    <tr style=\"text-align: right;\">\n",
       "      <th></th>\n",
       "      <th>534$c</th>\n",
       "      <th>original_distribution_year</th>\n",
       "      <th>original_distribution_place</th>\n",
       "      <th>original_distribution_publisher</th>\n",
       "    </tr>\n",
       "  </thead>\n",
       "  <tbody>\n",
       "    <tr>\n",
       "      <th>5215</th>\n",
       "      <td>kirjastus osaühing \"Loodus\", 1940</td>\n",
       "      <td>NaN</td>\n",
       "      <td>None</td>\n",
       "      <td>None</td>\n",
       "    </tr>\n",
       "    <tr>\n",
       "      <th>119960</th>\n",
       "      <td>(1982), nr. 7-8</td>\n",
       "      <td>NaN</td>\n",
       "      <td>None</td>\n",
       "      <td>None</td>\n",
       "    </tr>\n",
       "    <tr>\n",
       "      <th>109330</th>\n",
       "      <td>Ревель : F. Kluge, 1903</td>\n",
       "      <td>NaN</td>\n",
       "      <td>None</td>\n",
       "      <td>None</td>\n",
       "    </tr>\n",
       "    <tr>\n",
       "      <th>37792</th>\n",
       "      <td>nr. 1-35</td>\n",
       "      <td>NaN</td>\n",
       "      <td>None</td>\n",
       "      <td>None</td>\n",
       "    </tr>\n",
       "    <tr>\n",
       "      <th>113378</th>\n",
       "      <td>3. leht</td>\n",
       "      <td>NaN</td>\n",
       "      <td>None</td>\n",
       "      <td>None</td>\n",
       "    </tr>\n",
       "    <tr>\n",
       "      <th>68455</th>\n",
       "      <td>Москва 1968</td>\n",
       "      <td>NaN</td>\n",
       "      <td>None</td>\n",
       "      <td>None</td>\n",
       "    </tr>\n",
       "    <tr>\n",
       "      <th>106008</th>\n",
       "      <td>Ревель, 1896</td>\n",
       "      <td>NaN</td>\n",
       "      <td>None</td>\n",
       "      <td>None</td>\n",
       "    </tr>\n",
       "    <tr>\n",
       "      <th>110518</th>\n",
       "      <td>5 : 1916, 1916; 1915</td>\n",
       "      <td>NaN</td>\n",
       "      <td>None</td>\n",
       "      <td>None</td>\n",
       "    </tr>\n",
       "    <tr>\n",
       "      <th>141733</th>\n",
       "      <td>Горький : Волго-Вятское книжное издательство, ...</td>\n",
       "      <td>NaN</td>\n",
       "      <td>None</td>\n",
       "      <td>None</td>\n",
       "    </tr>\n",
       "    <tr>\n",
       "      <th>592</th>\n",
       "      <td>nr. 15-23</td>\n",
       "      <td>NaN</td>\n",
       "      <td>None</td>\n",
       "      <td>None</td>\n",
       "    </tr>\n",
       "  </tbody>\n",
       "</table>\n",
       "</div>"
      ],
      "text/plain": [
       "                                                    534$c  \\\n",
       "5215                    kirjastus osaühing \"Loodus\", 1940   \n",
       "119960                                    (1982), nr. 7-8   \n",
       "109330                            Ревель : F. Kluge, 1903   \n",
       "37792                                            nr. 1-35   \n",
       "113378                                            3. leht   \n",
       "68455                                         Москва 1968   \n",
       "106008                                       Ревель, 1896   \n",
       "110518                               5 : 1916, 1916; 1915   \n",
       "141733  Горький : Волго-Вятское книжное издательство, ...   \n",
       "592                                             nr. 15-23   \n",
       "\n",
       "       original_distribution_year original_distribution_place  \\\n",
       "5215                          NaN                        None   \n",
       "119960                        NaN                        None   \n",
       "109330                        NaN                        None   \n",
       "37792                         NaN                        None   \n",
       "113378                        NaN                        None   \n",
       "68455                         NaN                        None   \n",
       "106008                        NaN                        None   \n",
       "110518                        NaN                        None   \n",
       "141733                        NaN                        None   \n",
       "592                           NaN                        None   \n",
       "\n",
       "       original_distribution_publisher  \n",
       "5215                              None  \n",
       "119960                            None  \n",
       "109330                            None  \n",
       "37792                             None  \n",
       "113378                            None  \n",
       "68455                             None  \n",
       "106008                            None  \n",
       "110518                            None  \n",
       "141733                            None  \n",
       "592                               None  "
      ]
     },
     "execution_count": 116,
     "metadata": {},
     "output_type": "execute_result"
    }
   ],
   "source": [
    "### katmata jääavad segased kirjed, kirillitsas kohanimed jne\n",
    "df.loc[(df[\"534$c\"].notna()) & (df[\"original_distribution_year\"].isna()) & (df[\"original_distribution_place\"].isna()) & (df[\"original_distribution_publisher\"].isna())].sample(10)"
   ]
  },
  {
   "cell_type": "markdown",
   "metadata": {},
   "source": [
    "### Autoriõiguse info (542l)"
   ]
  },
  {
   "cell_type": "code",
   "execution_count": 117,
   "metadata": {},
   "outputs": [],
   "source": [
    "df = df_main[\"542$l\"].copy()"
   ]
  },
  {
   "cell_type": "code",
   "execution_count": 118,
   "metadata": {},
   "outputs": [
    {
     "name": "stdout",
     "output_type": "stream",
     "text": [
      "Täidetus:\n",
      "542$l: copyright_status: 13 %\n"
     ]
    },
    {
     "data": {
      "image/png": "[encoded data removed]",
      "text/plain": [
       "<Figure size 600x400 with 1 Axes>"
      ]
     },
     "metadata": {},
     "output_type": "display_data"
    }
   ],
   "source": [
    "missing_values_heatmap(df.to_frame())"
   ]
  },
  {
   "cell_type": "code",
   "execution_count": 120,
   "metadata": {},
   "outputs": [
    {
     "data": {
      "text/plain": [
       "Vabakasutus                 27178\n",
       "Orbteos                       643\n",
       "Osaline orbteos                23\n",
       "Kehtiv autoriõigus              1\n",
       "Vabakasutus; Vabakasutus        1\n",
       "Name: 542$l, dtype: int64"
      ]
     },
     "execution_count": 120,
     "metadata": {},
     "output_type": "execute_result"
    }
   ],
   "source": [
    "### jätame sisse, aga kas võiks kasutada lühendeid/koode?\n",
    "df.value_counts()"
   ]
  },
  {
   "cell_type": "markdown",
   "metadata": {},
   "source": [
    "### Isikumärksõna (600)"
   ]
  },
  {
   "cell_type": "code",
   "execution_count": 10,
   "metadata": {},
   "outputs": [],
   "source": [
    "df = df_main[\"600\"].copy()"
   ]
  },
  {
   "cell_type": "code",
   "execution_count": 11,
   "metadata": {},
   "outputs": [
    {
     "name": "stdout",
     "output_type": "stream",
     "text": [
      "Täidetus:\n",
      "600: subject_person: 7 %\n"
     ]
    },
    {
     "data": {
      "image/png": "[encoded data removed]",
      "text/plain": [
       "<Figure size 600x400 with 1 Axes>"
      ]
     },
     "metadata": {},
     "output_type": "display_data"
    }
   ],
   "source": [
    "missing_values_heatmap(df.to_frame())"
   ]
  },
  {
   "cell_type": "code",
   "execution_count": 15,
   "metadata": {},
   "outputs": [
    {
     "data": {
      "text/plain": [
       "135871                                  Siib, Liina (1963-)\n",
       "189990                                   Paju, Aili (1938-)\n",
       "17814                            Laigo, Arkadio (1901-1944)\n",
       "96906                                 Pieder, Jüri [omanik]\n",
       "162963    Särak, Voldemar (1911-1947); Hellat, Toomas (1...\n",
       "8510                       Baer, Karl Ernst von (1792-1876)\n",
       "193277                     Hagen-Schwarz, Julie (1824-1902)\n",
       "168649                          Grenzstein, Ado (1849-1916)\n",
       "123627                              Vare, Vello (1923-2007)\n",
       "172594    Wühner, Hans (1836-1911); Kissa, Jaak (1843-19...\n",
       "Name: 600, dtype: object"
      ]
     },
     "execution_count": 15,
     "metadata": {},
     "output_type": "execute_result"
    }
   ],
   "source": [
    "# tundub, et siin on üldiselt korras?\n",
    "df.loc[df.notna()].sample(10)"
   ]
  },
  {
   "cell_type": "markdown",
   "metadata": {},
   "source": [
    "### Ajamärksõna (648a)"
   ]
  },
  {
   "cell_type": "code",
   "execution_count": 135,
   "metadata": {},
   "outputs": [],
   "source": [
    "df = df_main[\"648$a\"].copy()"
   ]
  },
  {
   "cell_type": "code",
   "execution_count": 137,
   "metadata": {},
   "outputs": [
    {
     "name": "stdout",
     "output_type": "stream",
     "text": [
      "Täidetus:\n",
      "648$a: subject_chronological_term: 5 %\n"
     ]
    },
    {
     "data": {
      "image/png": "[encoded data removed]",
      "text/plain": [
       "<Figure size 600x400 with 1 Axes>"
      ]
     },
     "metadata": {},
     "output_type": "display_data"
    }
   ],
   "source": [
    "missing_values_heatmap(df.to_frame())"
   ]
  },
  {
   "cell_type": "code",
   "execution_count": 143,
   "metadata": {},
   "outputs": [
    {
     "data": {
      "text/plain": [
       "0.875974972143653"
      ]
     },
     "execution_count": 143,
     "metadata": {},
     "output_type": "execute_result"
    }
   ],
   "source": [
    "df.value_counts()[:100].sum() / len(df[df.notna()])"
   ]
  },
  {
   "cell_type": "code",
   "execution_count": 145,
   "metadata": {},
   "outputs": [],
   "source": [
    "pattern_648a = re.compile(r\"(?P<century>\\d{1,2}\\. saj\\.?(\\s(((1|2)\\.)\\spool)|\\salgus|\\slõpp)?)|(?P<decade>\\d{4}\\-ndad)|(?P<range>\\d{4}\\-\\d{4})|(?P<year>\\d{4})\")"
   ]
  },
  {
   "cell_type": "code",
   "execution_count": 150,
   "metadata": {},
   "outputs": [],
   "source": [
    "def clean_648a(entry, pattern=pattern_648a):\n",
    "    year = None\n",
    "    range = None\n",
    "    decade = None\n",
    "    century = None\n",
    "    if type(entry) == str:\n",
    "        entry_split = entry.split(\"; \")\n",
    "        for part in entry_split:\n",
    "            match = re.search(pattern, entry)\n",
    "            if match:\n",
    "                if century\n",
    "                century, decade, range, year = match.groupdict().values()\n",
    "\n",
    "    return (year, range, decade, century)\n"
   ]
  },
  {
   "cell_type": "code",
   "execution_count": 153,
   "metadata": {},
   "outputs": [],
   "source": [
    "df = df.to_frame()\n",
    "df[[\"year\", \"range\", \"decade\", \"century\"]] = df[\"648$a\"].apply(clean_648a).to_list()"
   ]
  },
  {
   "cell_type": "code",
   "execution_count": 157,
   "metadata": {},
   "outputs": [
    {
     "data": {
      "text/html": [
       "<div>\n",
       "<style scoped>\n",
       "    .dataframe tbody tr th:only-of-type {\n",
       "        vertical-align: middle;\n",
       "    }\n",
       "\n",
       "    .dataframe tbody tr th {\n",
       "        vertical-align: top;\n",
       "    }\n",
       "\n",
       "    .dataframe thead th {\n",
       "        text-align: right;\n",
       "    }\n",
       "</style>\n",
       "<table border=\"1\" class=\"dataframe\">\n",
       "  <thead>\n",
       "    <tr style=\"text-align: right;\">\n",
       "      <th></th>\n",
       "      <th>648$a</th>\n",
       "      <th>year</th>\n",
       "      <th>range</th>\n",
       "      <th>decade</th>\n",
       "      <th>century</th>\n",
       "    </tr>\n",
       "  </thead>\n",
       "  <tbody>\n",
       "    <tr>\n",
       "      <th>96531</th>\n",
       "      <td>1980-ndad</td>\n",
       "      <td>None</td>\n",
       "      <td>None</td>\n",
       "      <td>1980-ndad</td>\n",
       "      <td>None</td>\n",
       "    </tr>\n",
       "    <tr>\n",
       "      <th>144352</th>\n",
       "      <td>1990-ndad; 2000-ndad</td>\n",
       "      <td>None</td>\n",
       "      <td>None</td>\n",
       "      <td>1990-ndad</td>\n",
       "      <td>None</td>\n",
       "    </tr>\n",
       "    <tr>\n",
       "      <th>145829</th>\n",
       "      <td>1810-ndad</td>\n",
       "      <td>None</td>\n",
       "      <td>None</td>\n",
       "      <td>1810-ndad</td>\n",
       "      <td>None</td>\n",
       "    </tr>\n",
       "    <tr>\n",
       "      <th>5298</th>\n",
       "      <td>1918-1940</td>\n",
       "      <td>None</td>\n",
       "      <td>1918-1940</td>\n",
       "      <td>None</td>\n",
       "      <td>None</td>\n",
       "    </tr>\n",
       "    <tr>\n",
       "      <th>1140</th>\n",
       "      <td>20. saj</td>\n",
       "      <td>None</td>\n",
       "      <td>None</td>\n",
       "      <td>None</td>\n",
       "      <td>20. saj</td>\n",
       "    </tr>\n",
       "    <tr>\n",
       "      <th>57683</th>\n",
       "      <td>1970-ndad</td>\n",
       "      <td>None</td>\n",
       "      <td>None</td>\n",
       "      <td>1970-ndad</td>\n",
       "      <td>None</td>\n",
       "    </tr>\n",
       "    <tr>\n",
       "      <th>58851</th>\n",
       "      <td>1940-1945</td>\n",
       "      <td>None</td>\n",
       "      <td>1940-1945</td>\n",
       "      <td>None</td>\n",
       "      <td>None</td>\n",
       "    </tr>\n",
       "    <tr>\n",
       "      <th>9828</th>\n",
       "      <td>1980-ndad; 1990-ndad</td>\n",
       "      <td>None</td>\n",
       "      <td>None</td>\n",
       "      <td>1980-ndad</td>\n",
       "      <td>None</td>\n",
       "    </tr>\n",
       "    <tr>\n",
       "      <th>181555</th>\n",
       "      <td>18. saj; 19. saj; 20. saj</td>\n",
       "      <td>None</td>\n",
       "      <td>None</td>\n",
       "      <td>None</td>\n",
       "      <td>18. saj</td>\n",
       "    </tr>\n",
       "    <tr>\n",
       "      <th>172218</th>\n",
       "      <td>20. saj. 2. pool; 21. saj. algus</td>\n",
       "      <td>None</td>\n",
       "      <td>None</td>\n",
       "      <td>None</td>\n",
       "      <td>20. saj. 2. pool</td>\n",
       "    </tr>\n",
       "  </tbody>\n",
       "</table>\n",
       "</div>"
      ],
      "text/plain": [
       "                                   648$a  year      range     decade  \\\n",
       "96531                          1980-ndad  None       None  1980-ndad   \n",
       "144352              1990-ndad; 2000-ndad  None       None  1990-ndad   \n",
       "145829                         1810-ndad  None       None  1810-ndad   \n",
       "5298                           1918-1940  None  1918-1940       None   \n",
       "1140                             20. saj  None       None       None   \n",
       "57683                          1970-ndad  None       None  1970-ndad   \n",
       "58851                          1940-1945  None  1940-1945       None   \n",
       "9828                1980-ndad; 1990-ndad  None       None  1980-ndad   \n",
       "181555         18. saj; 19. saj; 20. saj  None       None       None   \n",
       "172218  20. saj. 2. pool; 21. saj. algus  None       None       None   \n",
       "\n",
       "                 century  \n",
       "96531               None  \n",
       "144352              None  \n",
       "145829              None  \n",
       "5298                None  \n",
       "1140             20. saj  \n",
       "57683               None  \n",
       "58851               None  \n",
       "9828                None  \n",
       "181555           18. saj  \n",
       "172218  20. saj. 2. pool  "
      ]
     },
     "execution_count": 157,
     "metadata": {},
     "output_type": "execute_result"
    }
   ],
   "source": [
    "df.loc[df[\"648$a\"].notna()].sample(10)"
   ]
  },
  {
   "cell_type": "markdown",
   "metadata": {},
   "source": [
    "### Isikunime täiendkirje e. contributor (700)"
   ]
  },
  {
   "cell_type": "code",
   "execution_count": 8,
   "metadata": {},
   "outputs": [],
   "source": [
    "df = df_main[\"700\"].copy()"
   ]
  },
  {
   "cell_type": "code",
   "execution_count": 9,
   "metadata": {},
   "outputs": [
    {
     "name": "stdout",
     "output_type": "stream",
     "text": [
      "Jürjo, Merike (1959-) [koostaja]; Nõmm, Aart (1976-) [koostaja]; Ojalo, Hanno (1961-) [koostaja]; Arumäe, Ivika (1961-) [toimetaja]; Garshnek, Jan (1981-) [kujundaja]\n",
      "Lepp, Mart (1947-) [teksti autor]; Lepp, Mart (1947-) [kujundaja]\n",
      "Kallo, Ferdinand (1912-1987) [tõlkija]\n",
      "Lepasalu, Rajur (1917-1942) [autor]\n",
      "Randmaa, Aldo (1969-) [tõlkija]; Maran, Olav (1933-) [toimetaja]; Kurg, Ingmar (1955-) [toimetaja]; Sildre, Tiina (1959-) [kujundaja]\n",
      "Bjömson, B: \"Hädaohtlik kosimine\"; Kielland, Alexander L (1849-1906): \"Kolletanud Lehed\"; Strindberg, August (1849-1912): \"Üle pilvede\"; Bjömson, B: \"Kõrb\"; Kielland, Alexander L (1849-1906): \"Rahvapidu\"; Kielland, Alexander L (1849-1906): \"Pealelõunane unenägu\"; Kielland, Alexander L (1849-1906): \"Pidutuju\"; Strindberg, August (1849-1912): \"Rätsepa tantsupidu\"; Strindberg, August (1849-1912): \"Võitlus iseseisvuse eest\"; Bjömson, B: \"Thrond\"\n",
      "Krusten, Reet (1934-2021) [koostaja]; Leete, Eve [toimetaja]; Saar, Olivia (1931-) [toimetaja]; Saare, Krista (1952-) [kujundaja]; Meister, Ülle (1948-2021) [illustreerija]; Mildeberg, Piret (1957-) [kujundaja]\n",
      "Veisson, Marika (1949-) [koostaja]; Jung, Nelli (1981-) [toimetaja]; Lilles-Heinsar, Laura (1980-) [toimetaja]; Sutrop, Margit (1963-) [eessõna autor]; Moorlat, Merle [kujundaja]\n",
      "Voolaid, Henn (1943-) [autor]\n",
      "Õkva, Margit [koostaja]\n"
     ]
    }
   ],
   "source": [
    "### näiteid; võib kontrollida, kas siin on kõik korras ja kas peaks täiendama. kas VIAFi tõstaksime samasse tulpa nt looksulgudesse või on mõni parem variant?\n",
    "for val in df.loc[df.notna()].sample(10).values:\n",
    "    print(val)"
   ]
  },
  {
   "cell_type": "markdown",
   "metadata": {},
   "source": [
    "### Kollektiivi täiendkirje (710 a, b)"
   ]
  },
  {
   "cell_type": "code",
   "execution_count": null,
   "metadata": {},
   "outputs": [],
   "source": [
    "df = df_main[[\"710$a\", \"710$b\"]]"
   ]
  },
  {
   "cell_type": "code",
   "execution_count": null,
   "metadata": {},
   "outputs": [
    {
     "name": "stdout",
     "output_type": "stream",
     "text": [
      "Täidetus:\n",
      "710$a: added_corporate_name: 30 %\n",
      "710$b: added_corporate_sub_unit: 11 %\n"
     ]
    },
    {
     "data": {
      "image/png": "[encoded data removed]",
      "text/plain": [
       "<Figure size 600x400 with 1 Axes>"
      ]
     },
     "metadata": {},
     "output_type": "display_data"
    }
   ],
   "source": [
    "missing_values_heatmap(df)"
   ]
  },
  {
   "cell_type": "code",
   "execution_count": null,
   "metadata": {},
   "outputs": [
    {
     "data": {
      "text/plain": [
       "0"
      ]
     },
     "metadata": {},
     "output_type": "display_data"
    }
   ],
   "source": [
    "len(df.loc[(df[\"710$a\"].isna()) & (df[\"710$b\"].notna())])\n",
    "# kui on 710b, siis alati on ka 710a"
   ]
  },
  {
   "cell_type": "code",
   "execution_count": null,
   "metadata": {},
   "outputs": [
    {
     "data": {
      "text/html": [
       "<div>\n",
       "<style scoped>\n",
       "    .dataframe tbody tr th:only-of-type {\n",
       "        vertical-align: middle;\n",
       "    }\n",
       "\n",
       "    .dataframe tbody tr th {\n",
       "        vertical-align: top;\n",
       "    }\n",
       "\n",
       "    .dataframe thead th {\n",
       "        text-align: right;\n",
       "    }\n",
       "</style>\n",
       "<table border=\"1\" class=\"dataframe\">\n",
       "  <thead>\n",
       "    <tr style=\"text-align: right;\">\n",
       "      <th></th>\n",
       "      <th>710$a</th>\n",
       "      <th>710$b</th>\n",
       "    </tr>\n",
       "  </thead>\n",
       "  <tbody>\n",
       "    <tr>\n",
       "      <th>20031</th>\n",
       "      <td>NSV Liidu Kõrg- ja Keskerihariduse Ministeerium</td>\n",
       "      <td>Ühiskonnateaduste Õpetamise Valitsus</td>\n",
       "    </tr>\n",
       "    <tr>\n",
       "      <th>15124</th>\n",
       "      <td>Eesti NSV Põllumajandusministeerium</td>\n",
       "      <td>Põllumajandusliku Propaganda Valitsus</td>\n",
       "    </tr>\n",
       "    <tr>\n",
       "      <th>87208</th>\n",
       "      <td>Eesti NSV Riiklik Hariduskomitee</td>\n",
       "      <td>NaN</td>\n",
       "    </tr>\n",
       "    <tr>\n",
       "      <th>91417</th>\n",
       "      <td>Eesti NSV Statistika Keskvalitsus</td>\n",
       "      <td>NaN</td>\n",
       "    </tr>\n",
       "    <tr>\n",
       "      <th>56276</th>\n",
       "      <td>Eesti NSV Haridusministeerium</td>\n",
       "      <td>NaN</td>\n",
       "    </tr>\n",
       "    <tr>\n",
       "      <th>42236</th>\n",
       "      <td>Eesti Informatsiooni Instituut</td>\n",
       "      <td>NaN</td>\n",
       "    </tr>\n",
       "    <tr>\n",
       "      <th>47423</th>\n",
       "      <td>Eesti NSV Punase Risti Selts</td>\n",
       "      <td>NaN</td>\n",
       "    </tr>\n",
       "    <tr>\n",
       "      <th>26495</th>\n",
       "      <td>Tehniline Kirjastus</td>\n",
       "      <td>NaN</td>\n",
       "    </tr>\n",
       "    <tr>\n",
       "      <th>76171</th>\n",
       "      <td>Eesti NSV Rahvamajanduse Nõukogu; Eesti NSV Am...</td>\n",
       "      <td>Tööliskaadri, töö ja töötasu osakond; Töökaits...</td>\n",
       "    </tr>\n",
       "    <tr>\n",
       "      <th>78334</th>\n",
       "      <td>Eesti Tarbijate Kooperatiivide Vabariiklik Liit</td>\n",
       "      <td>NaN</td>\n",
       "    </tr>\n",
       "  </tbody>\n",
       "</table>\n",
       "</div>"
      ],
      "text/plain": [
       "                                                   710$a  \\\n",
       "20031    NSV Liidu Kõrg- ja Keskerihariduse Ministeerium   \n",
       "15124                Eesti NSV Põllumajandusministeerium   \n",
       "87208                   Eesti NSV Riiklik Hariduskomitee   \n",
       "91417                  Eesti NSV Statistika Keskvalitsus   \n",
       "56276                      Eesti NSV Haridusministeerium   \n",
       "42236                     Eesti Informatsiooni Instituut   \n",
       "47423                       Eesti NSV Punase Risti Selts   \n",
       "26495                                Tehniline Kirjastus   \n",
       "76171  Eesti NSV Rahvamajanduse Nõukogu; Eesti NSV Am...   \n",
       "78334    Eesti Tarbijate Kooperatiivide Vabariiklik Liit   \n",
       "\n",
       "                                                   710$b  \n",
       "20031               Ühiskonnateaduste Õpetamise Valitsus  \n",
       "15124              Põllumajandusliku Propaganda Valitsus  \n",
       "87208                                                NaN  \n",
       "91417                                                NaN  \n",
       "56276                                                NaN  \n",
       "42236                                                NaN  \n",
       "47423                                                NaN  \n",
       "26495                                                NaN  \n",
       "76171  Tööliskaadri, töö ja töötasu osakond; Töökaits...  \n",
       "78334                                                NaN  "
      ]
     },
     "metadata": {},
     "output_type": "display_data"
    }
   ],
   "source": [
    "df.loc[df[\"710$a\"].notna()].sample(10)"
   ]
  },
  {
   "cell_type": "code",
   "execution_count": null,
   "metadata": {},
   "outputs": [],
   "source": [
    "### mulle tunduvad need kirjed piisavalt korrektsed ja samas liiga varieeruvad, et normima hakata.\n",
    "### Jääb küsimus, kas tõsta allüksus organisatsiooni järele, nt sulgudesse.\n",
    "### Mõnel puhul võib olla kadunud täpne seos a ja b väärtuste vahel, kui 710a sisaldab mitut org-i, kuid nt ainult ühel neist on lisatud allüksus"
   ]
  },
  {
   "cell_type": "markdown",
   "metadata": {},
   "source": [
    "### Vabapealkiri (740a)"
   ]
  },
  {
   "cell_type": "code",
   "execution_count": 240,
   "metadata": {},
   "outputs": [],
   "source": [
    "df = df_main[\"740$a\"].copy()"
   ]
  },
  {
   "cell_type": "code",
   "execution_count": 241,
   "metadata": {},
   "outputs": [
    {
     "name": "stdout",
     "output_type": "stream",
     "text": [
      "Täidetus:\n",
      "740$a: uncontrolled_related_title: 7 %\n"
     ]
    },
    {
     "data": {
      "image/png": "[encoded data removed]",
      "text/plain": [
       "<Figure size 600x400 with 1 Axes>"
      ]
     },
     "metadata": {},
     "output_type": "display_data"
    }
   ],
   "source": [
    "missing_values_heatmap(df.to_frame())"
   ]
  },
  {
   "cell_type": "code",
   "execution_count": 244,
   "metadata": {},
   "outputs": [
    {
     "data": {
      "text/plain": [
       "ELIKbaas                                                                                                                      1174\n",
       "Eesti trükise punane raamat II, 1851-1917. Rariteedid                                                                          716\n",
       "Eesti trükise punane raamat II, 1851-1917. Kultuuriloolised valikud                                                            515\n",
       "Eesti trükise punane raamat I, 1535-1850                                                                                       510\n",
       "Peep Sürje kogu                                                                                                                175\n",
       "Sada rooga                                                                                                                     167\n",
       "EV 100                                                                                                                         155\n",
       "Eesti trükise punane raamat II, 1851-1917. Kultuuriloolised valikud; Eesti trükise punane raamat II, 1851-1917. Rariteedid     129\n",
       "Tartu Ülikooli toimetised                                                                                                      113\n",
       "Eesti Kirjanduse Seltsi populaarteaduslik seeria                                                                                81\n",
       "Romaaniklassika                                                                                                                 47\n",
       "Nooresoo kirjavara                                                                                                              39\n",
       "Sotsiaalministeeriumi toimetised                                                                                                34\n",
       "\"Kodu ja Aia\" praktiline aiavihik                                                                                               34\n",
       "Tartu Ülikool. Nimistu 2: Tartu Ülikool 1919-1944. Arhiivifond                                                                  33\n",
       "Eesti ... sada aastat; EV 100                                                                                                   31\n",
       "RB väljaanded                                                                                                                   31\n",
       "Kirg ja põnevus                                                                                                                 30\n",
       "Puksoo, Friedrich. Isikuarhiiv                                                                                                  30\n",
       "Tartu Ülikooli ajaloo küsimusi (võrguteavik)                                                                                    29\n",
       "Viiskümmend retsepti!                                                                                                           29\n",
       "Noorsoo kirjavara : Eesti autorite seeria                                                                                       27\n",
       "Kodu ja Aia praktiline aiavihik                                                                                                 25\n",
       "Boris Tamme kogu                                                                                                                25\n",
       "Riigikontrolli kontrolliaruanded 2003                                                                                           21\n",
       "Riigikontrolli kontrolliaruanded 2005                                                                                           21\n",
       "Sada rooga : mini                                                                                                               21\n",
       "Suhtleme Eestis                                                                                                                 21\n",
       "Töörahva kirjandus                                                                                                              19\n",
       "ESUKA - JEFUL                                                                                                                   19\n",
       "Name: 740$a, dtype: int64"
      ]
     },
     "execution_count": 244,
     "metadata": {},
     "output_type": "execute_result"
    }
   ],
   "source": [
    "### seda pole vist mõtet harmoniseerida, aga võib sisse jätta\n",
    "df.value_counts()[:30]"
   ]
  },
  {
   "cell_type": "markdown",
   "metadata": {},
   "source": [
    "### Hierarhiline kohanimi (752 c, d)"
   ]
  },
  {
   "cell_type": "code",
   "execution_count": 245,
   "metadata": {},
   "outputs": [],
   "source": [
    "df = df_main[[\"752$c\", \"752$d\"]]"
   ]
  },
  {
   "cell_type": "code",
   "execution_count": 246,
   "metadata": {},
   "outputs": [
    {
     "name": "stdout",
     "output_type": "stream",
     "text": [
      "Täidetus:\n",
      "752$c: added_intermediate_political_jurisdiction: 32 %\n",
      "752$d: added_city: 2 %\n"
     ]
    },
    {
     "data": {
      "image/png": "[encoded data removed]",
      "text/plain": [
       "<Figure size 600x400 with 1 Axes>"
      ]
     },
     "metadata": {},
     "output_type": "display_data"
    }
   ],
   "source": [
    "missing_values_heatmap(df)"
   ]
  },
  {
   "cell_type": "code",
   "execution_count": 267,
   "metadata": {},
   "outputs": [
    {
     "data": {
      "text/plain": [
       "Harjumaa              55873\n",
       "Tartumaa               8991\n",
       "Pärnumaa               1230\n",
       "Viljandimaa             640\n",
       "Järvamaa                616\n",
       "Lääne-Virumaa           559\n",
       "Võrumaa                 547\n",
       "Jõgevamaa               496\n",
       "Ida-Virumaa             438\n",
       "Saaremaa                407\n",
       "Raplamaa                399\n",
       "Läänemaa                330\n",
       "Põlvamaa                300\n",
       "Valgamaa                297\n",
       "Hiiumaa                 140\n",
       "Harjumaa; Harjumaa       27\n",
       "Leningradi oblast        16\n",
       "Venemaa                   9\n",
       "Berliin                   6\n",
       "Tallinn                   4\n",
       "Name: 752$c, dtype: int64"
      ]
     },
     "execution_count": 267,
     "metadata": {},
     "output_type": "execute_result"
    }
   ],
   "source": [
    "df[\"752$c\"].value_counts()[:20]"
   ]
  },
  {
   "cell_type": "code",
   "execution_count": 268,
   "metadata": {},
   "outputs": [
    {
     "data": {
      "text/plain": [
       "Tartu                              1800\n",
       "Tallinn                            1210\n",
       "Riia                                183\n",
       "Viljandi                            181\n",
       "Kuressaare                          157\n",
       "Paide                               117\n",
       "Pärnu                                93\n",
       "Võru                                 89\n",
       "Peterburi                            84\n",
       "Rakvere                              74\n",
       "Valga                                61\n",
       "Narva                                48\n",
       "Tallinn; Tallinn, trükkimiskoht      35\n",
       "Leningrad                            34\n",
       "Moskva                               33\n",
       "Tallinn, trükkimiskoht               29\n",
       "Tartu; Tartu, trükkimiskoht          27\n",
       "Põltsamaa                            23\n",
       "Tartu (trükkimiskoht)                22\n",
       "Aegviidu                             19\n",
       "Name: 752$d, dtype: int64"
      ]
     },
     "execution_count": 268,
     "metadata": {},
     "output_type": "execute_result"
    }
   ],
   "source": [
    "df[\"752$d\"].value_counts()[:20]"
   ]
  },
  {
   "cell_type": "code",
   "execution_count": null,
   "metadata": {},
   "outputs": [],
   "source": [
    "### need väljad täidetakse põhimõtteliselt ainult Eesti puhul. Mida teeme?"
   ]
  },
  {
   "cell_type": "markdown",
   "metadata": {},
   "source": [
    "### Elektrooniline juurdepääs e. URI (856$u)"
   ]
  },
  {
   "cell_type": "code",
   "execution_count": null,
   "metadata": {},
   "outputs": [],
   "source": [
    "df = df_main[\"856$u\"].copy().to_frame()"
   ]
  },
  {
   "cell_type": "code",
   "execution_count": null,
   "metadata": {},
   "outputs": [
    {
     "name": "stdout",
     "output_type": "stream",
     "text": [
      "Täidetus:\n",
      "856$u: electronic_access_URI: 37 %\n"
     ]
    },
    {
     "data": {
      "image/png": "[encoded data removed]",
      "text/plain": [
       "<Figure size 600x400 with 1 Axes>"
      ]
     },
     "metadata": {},
     "output_type": "display_data"
    }
   ],
   "source": [
    "missing_values_heatmap(df)"
   ]
  },
  {
   "cell_type": "code",
   "execution_count": null,
   "metadata": {},
   "outputs": [
    {
     "data": {
      "text/html": [
       "<div>\n",
       "<style scoped>\n",
       "    .dataframe tbody tr th:only-of-type {\n",
       "        vertical-align: middle;\n",
       "    }\n",
       "\n",
       "    .dataframe tbody tr th {\n",
       "        vertical-align: top;\n",
       "    }\n",
       "\n",
       "    .dataframe thead th {\n",
       "        text-align: right;\n",
       "    }\n",
       "</style>\n",
       "<table border=\"1\" class=\"dataframe\">\n",
       "  <thead>\n",
       "    <tr style=\"text-align: right;\">\n",
       "      <th></th>\n",
       "      <th>856$u</th>\n",
       "    </tr>\n",
       "  </thead>\n",
       "  <tbody>\n",
       "    <tr>\n",
       "      <th>47121</th>\n",
       "      <td>http://www.digar.ee/id/nlib-digar:652941</td>\n",
       "    </tr>\n",
       "    <tr>\n",
       "      <th>46305</th>\n",
       "      <td>https://www.digar.ee/id/nlib-digar:101448; htt...</td>\n",
       "    </tr>\n",
       "    <tr>\n",
       "      <th>108600</th>\n",
       "      <td>NaN</td>\n",
       "    </tr>\n",
       "    <tr>\n",
       "      <th>1088</th>\n",
       "      <td>NaN</td>\n",
       "    </tr>\n",
       "    <tr>\n",
       "      <th>158649</th>\n",
       "      <td>NaN</td>\n",
       "    </tr>\n",
       "    <tr>\n",
       "      <th>87296</th>\n",
       "      <td>NaN</td>\n",
       "    </tr>\n",
       "    <tr>\n",
       "      <th>215714</th>\n",
       "      <td>http://www.digar.ee/id/nlib-digar:886408</td>\n",
       "    </tr>\n",
       "    <tr>\n",
       "      <th>11676</th>\n",
       "      <td>NaN</td>\n",
       "    </tr>\n",
       "    <tr>\n",
       "      <th>186584</th>\n",
       "      <td>NaN</td>\n",
       "    </tr>\n",
       "    <tr>\n",
       "      <th>51718</th>\n",
       "      <td>NaN</td>\n",
       "    </tr>\n",
       "  </tbody>\n",
       "</table>\n",
       "</div>"
      ],
      "text/plain": [
       "                                                    856$u\n",
       "47121            http://www.digar.ee/id/nlib-digar:652941\n",
       "46305   https://www.digar.ee/id/nlib-digar:101448; htt...\n",
       "108600                                                NaN\n",
       "1088                                                  NaN\n",
       "158649                                                NaN\n",
       "87296                                                 NaN\n",
       "215714           http://www.digar.ee/id/nlib-digar:886408\n",
       "11676                                                 NaN\n",
       "186584                                                NaN\n",
       "51718                                                 NaN"
      ]
     },
     "metadata": {},
     "output_type": "display_data"
    }
   ],
   "source": [
    "### siin tundub kõik korras olevat\n",
    "df.sample(10)"
   ]
  },
  {
   "cell_type": "code",
   "execution_count": null,
   "metadata": {},
   "outputs": [],
   "source": [
    "from urllib.parse import urlparse\n",
    "\n",
    "def is_valid_url(url):\n",
    "    parsed_url = urlparse(url)\n",
    "    return bool(parsed_url.scheme and parsed_url.netloc)\n",
    "\n",
    "def validate_856u(entry):\n",
    "    if type(entry) == str:\n",
    "        valid = []\n",
    "        entry_split = entry.split(\"; \")\n",
    "        for url in entry_split:\n",
    "            valid.append(is_valid_url(url))\n",
    "        if False not in valid:\n",
    "            return True\n",
    "        else:\n",
    "            return False\n",
    "    else:\n",
    "        return None"
   ]
  },
  {
   "cell_type": "code",
   "execution_count": null,
   "metadata": {},
   "outputs": [
    {
     "data": {
      "text/plain": [
       "True"
      ]
     },
     "metadata": {},
     "output_type": "display_data"
    }
   ],
   "source": [
    "bool(\n",
    "    urlparse(\"http://kivike.kirmus.ee/AR-17101-53943-52626\").scheme and\n",
    "    urlparse(\"http://kivike.kirmus.ee/AR-17101-53943-52626\").netloc\n",
    ")\n",
    "    "
   ]
  },
  {
   "cell_type": "code",
   "execution_count": null,
   "metadata": {},
   "outputs": [],
   "source": [
    "df[\"valid_url\"] = df[\"856$u\"].apply(validate_856u)"
   ]
  },
  {
   "cell_type": "code",
   "execution_count": null,
   "metadata": {},
   "outputs": [],
   "source": [
    "def clean_856u(entry):\n",
    "    if type(entry) == str:\n",
    "        entry_split = entry.split(\"; \")\n",
    "        return \"; \".join([url.strip().lstrip() for url in entry_split if is_valid_url(url.strip().lstrip())])"
   ]
  },
  {
   "cell_type": "code",
   "execution_count": null,
   "metadata": {},
   "outputs": [],
   "source": [
    "df[\"856$u_cleaned\"] = df[\"856$u\"].apply(clean_856u)"
   ]
  },
  {
   "cell_type": "code",
   "execution_count": null,
   "metadata": {},
   "outputs": [
    {
     "data": {
      "text/html": [
       "<div>\n",
       "<style scoped>\n",
       "    .dataframe tbody tr th:only-of-type {\n",
       "        vertical-align: middle;\n",
       "    }\n",
       "\n",
       "    .dataframe tbody tr th {\n",
       "        vertical-align: top;\n",
       "    }\n",
       "\n",
       "    .dataframe thead th {\n",
       "        text-align: right;\n",
       "    }\n",
       "</style>\n",
       "<table border=\"1\" class=\"dataframe\">\n",
       "  <thead>\n",
       "    <tr style=\"text-align: right;\">\n",
       "      <th></th>\n",
       "      <th>856$u</th>\n",
       "      <th>valid_url</th>\n",
       "      <th>856$u_cleaned</th>\n",
       "    </tr>\n",
       "  </thead>\n",
       "  <tbody>\n",
       "    <tr>\n",
       "      <th>124826</th>\n",
       "      <td>https://www.digar.ee/id/nlib-digar:273420</td>\n",
       "      <td>True</td>\n",
       "      <td>https://www.digar.ee/id/nlib-digar:273420</td>\n",
       "    </tr>\n",
       "    <tr>\n",
       "      <th>122996</th>\n",
       "      <td>http://kivike.kirmus.ee/AR-23313-36137-62562</td>\n",
       "      <td>True</td>\n",
       "      <td>http://kivike.kirmus.ee/AR-23313-36137-62562</td>\n",
       "    </tr>\n",
       "    <tr>\n",
       "      <th>212539</th>\n",
       "      <td>http://www.digar.ee/arhiiv/nlib-digar:913574; ...</td>\n",
       "      <td>True</td>\n",
       "      <td>http://www.digar.ee/arhiiv/nlib-digar:913574; ...</td>\n",
       "    </tr>\n",
       "    <tr>\n",
       "      <th>64015</th>\n",
       "      <td>http://hdl.handle.net/10062/55596</td>\n",
       "      <td>True</td>\n",
       "      <td>http://hdl.handle.net/10062/55596</td>\n",
       "    </tr>\n",
       "    <tr>\n",
       "      <th>126206</th>\n",
       "      <td>https://www.digar.ee/id/nlib-digar:103547</td>\n",
       "      <td>True</td>\n",
       "      <td>https://www.digar.ee/id/nlib-digar:103547</td>\n",
       "    </tr>\n",
       "    <tr>\n",
       "      <th>217886</th>\n",
       "      <td>https://www.digar.ee/arhiiv/nlib-digar:984688</td>\n",
       "      <td>True</td>\n",
       "      <td>https://www.digar.ee/arhiiv/nlib-digar:984688</td>\n",
       "    </tr>\n",
       "    <tr>\n",
       "      <th>210136</th>\n",
       "      <td>http://www.digar.ee/arhiiv/nlib-digar:680990</td>\n",
       "      <td>True</td>\n",
       "      <td>http://www.digar.ee/arhiiv/nlib-digar:680990</td>\n",
       "    </tr>\n",
       "    <tr>\n",
       "      <th>169851</th>\n",
       "      <td>http://ellu.keskraamatukogu.ee/book/9789949495...</td>\n",
       "      <td>True</td>\n",
       "      <td>http://ellu.keskraamatukogu.ee/book/9789949495...</td>\n",
       "    </tr>\n",
       "    <tr>\n",
       "      <th>205004</th>\n",
       "      <td>https://www.digar.ee/id/nlib-digar:602148</td>\n",
       "      <td>True</td>\n",
       "      <td>https://www.digar.ee/id/nlib-digar:602148</td>\n",
       "    </tr>\n",
       "    <tr>\n",
       "      <th>165870</th>\n",
       "      <td>http://www.digar.ee/id/nlib-digar:210030</td>\n",
       "      <td>True</td>\n",
       "      <td>http://www.digar.ee/id/nlib-digar:210030</td>\n",
       "    </tr>\n",
       "  </tbody>\n",
       "</table>\n",
       "</div>"
      ],
      "text/plain": [
       "                                                    856$u valid_url  \\\n",
       "124826          https://www.digar.ee/id/nlib-digar:273420      True   \n",
       "122996       http://kivike.kirmus.ee/AR-23313-36137-62562      True   \n",
       "212539  http://www.digar.ee/arhiiv/nlib-digar:913574; ...      True   \n",
       "64015                   http://hdl.handle.net/10062/55596      True   \n",
       "126206          https://www.digar.ee/id/nlib-digar:103547      True   \n",
       "217886      https://www.digar.ee/arhiiv/nlib-digar:984688      True   \n",
       "210136       http://www.digar.ee/arhiiv/nlib-digar:680990      True   \n",
       "169851  http://ellu.keskraamatukogu.ee/book/9789949495...      True   \n",
       "205004          https://www.digar.ee/id/nlib-digar:602148      True   \n",
       "165870           http://www.digar.ee/id/nlib-digar:210030      True   \n",
       "\n",
       "                                            856$u_cleaned  \n",
       "124826          https://www.digar.ee/id/nlib-digar:273420  \n",
       "122996       http://kivike.kirmus.ee/AR-23313-36137-62562  \n",
       "212539  http://www.digar.ee/arhiiv/nlib-digar:913574; ...  \n",
       "64015                   http://hdl.handle.net/10062/55596  \n",
       "126206          https://www.digar.ee/id/nlib-digar:103547  \n",
       "217886      https://www.digar.ee/arhiiv/nlib-digar:984688  \n",
       "210136       http://www.digar.ee/arhiiv/nlib-digar:680990  \n",
       "169851  http://ellu.keskraamatukogu.ee/book/9789949495...  \n",
       "205004          https://www.digar.ee/id/nlib-digar:602148  \n",
       "165870           http://www.digar.ee/id/nlib-digar:210030  "
      ]
     },
     "metadata": {},
     "output_type": "display_data"
    }
   ],
   "source": [
    "df.loc[df[\"856$u\"].notna()].sample(10)"
   ]
  }
 ],
 "metadata": {
  "kernelspec": {
   "display_name": ".curator_env",
   "language": "python",
   "name": "python3"
  },
  "language_info": {
   "codemirror_mode": {
    "name": "ipython",
    "version": 3
   },
   "file_extension": ".py",
   "mimetype": "text/x-python",
   "name": "python",
   "nbconvert_exporter": "python",
   "pygments_lexer": "ipython3",
   "version": "3.9.12"
  }
 },
 "nbformat": 4,
 "nbformat_minor": 2
}
