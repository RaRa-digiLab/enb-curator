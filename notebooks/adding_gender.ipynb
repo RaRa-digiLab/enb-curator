{
 "cells": [
  {
   "cell_type": "code",
   "execution_count": 1,
   "id": "58c25fe2",
   "metadata": {},
   "outputs": [],
   "source": [
    "import pandas as pd\n",
    "from pathlib import Path\n",
    "import requests\n",
    "from tqdm import tqdm\n",
    "import os"
   ]
  },
  {
   "cell_type": "code",
   "execution_count": 2,
   "id": "f4877008",
   "metadata": {},
   "outputs": [],
   "source": [
    "MAPPING_375a = {'mees': 'male',\n",
    "                'naine': 'female',\n",
    "                'male': 'male',\n",
    "                'Males': 'male',\n",
    "                'Females': 'female',\n",
    "                'female': 'female',\n",
    "                'Women': 'female',\n",
    "                'Men': 'male',\n",
    "                'males': 'male',\n",
    "                'Male': 'male',\n",
    "                'sugu': None,\n",
    "                'Female': 'female',\n",
    "                'females': 'female',\n",
    "                'male; Males': 'male',\n",
    "                'men': 'male',\n",
    "                'eng': None,\n",
    "                'ajaloolane': None,\n",
    "                'Females; naine': 'female',\n",
    "                'Non-binary people': 'non-binary',\n",
    "                'meed': 'male',\n",
    "                'kirjanik': None,\n",
    "                'Males; Armenians': 'male',\n",
    "                'not known': None,\n",
    "                ' mees': 'male',\n",
    "                'mee': 'male',\n",
    "                '2': None,\n",
    "                'Authors; Males': 'male',\n",
    "                'women': 'female',\n",
    "                'saksa': None,\n",
    "                'Transgender people; Males; Transgender men': 'non-binary',\n",
    "                'mees; male': 'male',\n",
    "                'fre': None,\n",
    "                'kunstnik': None,\n",
    "                'Women; naine': 'female',\n",
    "                'põlisrahvaste uurija': None,\n",
    "                'Males; Males': 'male',\n",
    "                'tõlkija': None,\n",
    "                'male; Architects': 'male',\n",
    "                'vene': None,\n",
    "                'Males; eng': 'male',\n",
    "                'Males $2 lcdgt; Females': None,\n",
    "                'mees0': 'male',\n",
    "                'naine; female': 'female',\n",
    "                'majandusteadlane': None,\n",
    "                'filosoofiadoktor': None,\n",
    "                'rus': None,\n",
    "                'Males; Fantasy fiction; Authors': 'male',\n",
    "                'lit': None,\n",
    "                'transgender woman; male; female': 'non-binary',\n",
    "                'Music teachers; Males': 'male',\n",
    "                'persoon; mees': 'male',\n",
    "                'Tokyo, Jaapan; mees': 'male',\n",
    "                'õppejõud; mees': 'male',\n",
    "                'professor': None,\n",
    "                'mwwa': 'male',\n",
    "                'male; Men': 'male',\n",
    "                'Law teachers': None,\n",
    "                'Femles': 'female',\n",
    "                'nane': 'female',\n",
    "                'lcdgt': None,\n",
    "                'female; Women': 'female',\n",
    "                'persoon; Males': 'male',\n",
    "                'Composition teachers (Music); Females': 'female',\n",
    "                'mees; mees': 'male',\n",
    "                'mes': 'male',\n",
    "                'mess': 'male',\n",
    "                'aine': 'female'}"
   ]
  },
  {
   "cell_type": "code",
   "execution_count": 13,
   "id": "462e6d60",
   "metadata": {},
   "outputs": [],
   "source": [
    "current_notebook_path = Path().resolve()\n",
    "\n",
    "project_root = current_notebook_path.parent\n",
    "\n",
    "curated_persons = project_root / \"data\" / \"curated\" / \"nle_persons.parquet\"\n",
    "persons_gender = project_root / \"config\" / \"persons\" / \"persons_gender.tsv\"\n",
    "output_file = project_root / \"config\" / \"persons\" / \"persons_gender.tsv\""
   ]
  },
  {
   "cell_type": "code",
   "execution_count": 11,
   "id": "acf09ae4",
   "metadata": {},
   "outputs": [],
   "source": [
    "df_persons = pd.read_parquet(curated_persons, engine='pyarrow')"
   ]
  },
  {
   "cell_type": "code",
   "execution_count": 14,
   "id": "ffc8d690",
   "metadata": {},
   "outputs": [],
   "source": [
    "df_persons_gender = pd.read_csv(persons_gender, sep='\\t')\n",
    "df_persons_gender.fillna('NA', inplace=True)"
   ]
  },
  {
   "cell_type": "code",
   "execution_count": 15,
   "id": "a3db8995",
   "metadata": {},
   "outputs": [],
   "source": [
    "new_ids = df_persons[~df_persons['id'].isin(df_persons_gender['rara_id'])]\n",
    "\n",
    "new_ids.loc[:, 'gender'] = new_ids['gender'].map(MAPPING_375a)"
   ]
  },
  {
   "cell_type": "code",
   "execution_count": 16,
   "id": "8aa1edd7",
   "metadata": {},
   "outputs": [],
   "source": [
    "def extract_gender(data):\n",
    "    try:\n",
    "        gender_info = data.get('@graph', [])[0].get('gender', None)\n",
    "        \n",
    "        if gender_info:\n",
    "            if \"Q6581097\" in gender_info:\n",
    "                return \"male\"\n",
    "            elif \"Q6581072\" in gender_info:\n",
    "                return \"female\"\n",
    "            elif \"Q432848\" in gender_info:\n",
    "                return \"non-binary\"\n",
    "            else:\n",
    "                return \"NA\"\n",
    "        else:\n",
    "            return \"NA\"\n",
    "    except Exception:\n",
    "        return \"NA\""
   ]
  },
  {
   "cell_type": "code",
   "execution_count": 17,
   "id": "156d21c9",
   "metadata": {},
   "outputs": [
    {
     "name": "stderr",
     "output_type": "stream",
     "text": [
      "Processing Records: 100%|██████████████████████████████████████████████████████████| 2856/2856 [04:20<00:00, 10.95it/s]\n"
     ]
    }
   ],
   "source": [
    "timeout_duration = 10\n",
    "\n",
    "for index, row in tqdm(new_ids.iterrows(), total=len(new_ids), desc=\"Processing Records\"):\n",
    "    viaf_id = row['viaf_id']\n",
    "    \n",
    "    if pd.isna(viaf_id) or viaf_id == 'NA' or pd.notna(new_ids.at[index, 'gender']):\n",
    "        continue\n",
    "\n",
    "    try:\n",
    "        response = requests.get(f'https://viaf.org/viaf/{viaf_id}/viaf.jsonld', timeout=timeout_duration)\n",
    "        \n",
    "        if response.status_code == 200:\n",
    "            try:\n",
    "                data = response.json()\n",
    "                gender = extract_gender(data)\n",
    "                \n",
    "                new_ids.at[index, 'gender'] = gender\n",
    "\n",
    "                new_ids.iloc[[index]].to_csv(output_file, mode='a', sep='\\t', index=False, header=not os.path.exists(output_file))\n",
    "            \n",
    "            except Exception:\n",
    "                pass\n",
    "        \n",
    "    except requests.exceptions.ReadTimeout:\n",
    "        pass"
   ]
  },
  {
   "cell_type": "code",
   "execution_count": 18,
   "id": "7f64d60f",
   "metadata": {},
   "outputs": [],
   "source": [
    "new_ids = new_ids[['id', 'gender']].rename(columns={'id': 'rara_id'})\n",
    "new_ids.fillna('NA', inplace=True)\n",
    "\n",
    "df_updated = pd.concat([df_persons_gender, new_ids], ignore_index=True)\n",
    "\n",
    "df_updated.to_csv(output_file, sep='\\t', index=False)"
   ]
  }
 ],
 "metadata": {
  "kernelspec": {
   "display_name": "Python 3 (ipykernel)",
   "language": "python",
   "name": "python3"
  },
  "language_info": {
   "codemirror_mode": {
    "name": "ipython",
    "version": 3
   },
   "file_extension": ".py",
   "mimetype": "text/x-python",
   "name": "python",
   "nbconvert_exporter": "python",
   "pygments_lexer": "ipython3",
   "version": "3.11.1"
  }
 },
 "nbformat": 4,
 "nbformat_minor": 5
}
